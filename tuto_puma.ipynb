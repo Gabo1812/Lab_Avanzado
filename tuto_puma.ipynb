{
 "cells": [
  {
   "cell_type": "markdown",
   "id": "bb34dc62",
   "metadata": {},
   "source": [
    "# Tutorial básico para usar PUMA para películas delgadas\n",
    "\n",
    "## 1. Introducción\n",
    "(https://www.ime.usp.br/~egbirgin/puma/#remarks)\n",
    "\n",
    "PUMA es un software para estimar las constantes ópticas \\( n \\), \\( k \\) y el espesor de películas delgadas usando datos de transmitancia y/o reflectancia.\n",
    "\n",
    "Este tutorial explicara cómo preparar los datos, correr PUMA desde la consola y entender sus parámetros principales.\n",
    "\n",
    "---\n",
    "\n",
    "## 2. Preparar el archivo de datos\n",
    "\n",
    "PUMA requiere un archivo de texto con este formato:\n",
    "\n",
    "- Primera línea: número de observaciones (por ejemplo, 100)\n",
    "- Luego, cada línea contiene la longitud de onda (en nm) y la transmitancia (o reflectancia) en fracciones (0 a 1).\n",
    "\n",
    "Ejemplo de archivo llamado `muestra1-dat.txt`:\n",
    "\n",
    "\n",
    "\n"
   ]
  },
  {
   "cell_type": "markdown",
   "id": "d515cf2c",
   "metadata": {},
   "source": [
    "Para compilar PUMA para una pelicula:\n",
    "\n",
    "gcc -O4 -lm puma.c -o puma.exe"
   ]
  },
  {
   "cell_type": "markdown",
   "id": "9c051744",
   "metadata": {},
   "source": [
    "# Cómo usar PUMA para estimar el espesor y constantes ópticas de una película delgada\n",
    "\n",
    "Para correr PUMA en un sistema de una sola película, se tiene que escribir en la terminal el siguiente comando:\n",
    "\n"
   ]
  },
  {
   "cell_type": "markdown",
   "id": "6f59e13e",
   "metadata": {},
   "source": [
    "```bash\n",
    "puma FNAME NLAYERS SLAYER SUBSTRATE DATATYPE NOBS LAMBDAmin LAMBDAmax maxIT QUAD INIT THICKNESSmin THICKNESSmax THICKNESSstep INFLEmin INFLEmax INFLEstep N0ini N0fin N0step NFini NFfin NFstep K0ini K0fin K0step"
   ]
  },
  {
   "cell_type": "markdown",
   "id": "2b7924df",
   "metadata": {},
   "source": [
    "\n",
    "donde las palabras en mayúsculas son parámetros que se describen a continuación:\n",
    "\n",
    "- **FNAME**: nombre de la película que se está estudiando (sin espacios).  \n",
    "  El archivo de entrada debe llamarse `FNAME-dat.txt`.  \n",
    "  El archivo de salida será creado automáticamente como `FNAME-inf.txt`.\n",
    "\n",
    "- **Formato del archivo de entrada** (`FNAME-dat.txt`):\n",
    "  - La primera línea contiene el número de observaciones. Por ejemplo, si tienes 100 observaciones, el archivo tendrá 101 líneas.\n",
    "  - Desde la segunda línea hasta la última, cada línea debe contener la longitud de onda y la transmitancia (o reflectancia o ambas). Esto significa que cada línea debe tener 2 o 3 números.\n",
    "  - Los datos de transmitancia o reflectancia deben estar en fracciones, es decir, valores entre 0 y 1.  \n",
    "    Si tus datos están en porcentaje (0 a 100), divídelos entre 100.\n",
    "\n",
    "- **NLAYERS**: número total de capas del sistema (películas, substrato y las capas de aire inicial y final).  \n",
    "\n",
    "- **SLAYER**: número de la capa que corresponde al substrato.  \n",
    "  Para un sistema con: aire (capa 0), película (1), substrato (2) y aire (3), usa `SLAYER = 2`.\n",
    "\n",
    "- **SUBSTRATE**: número que describe el substrato:  \n",
    "  - 10: vidrio  \n",
    "  - 20: silicio cristalino  \n",
    "  - 30: cuarzo cristalino  \n",
    "  - 40: portaobjetos de vidrio \n",
    "  - 50: borosilicato\n",
    "\n",
    "- **DATATYPE**: tipo de dato. Usa:  \n",
    "  - `T` para transmitancia  \n",
    "  - `R` para reflectancia  \n",
    "  - `B` para ambos\n",
    "\n",
    "- **NOBS**: número de puntos usados en la optimización.  \n",
    "  Se interpolan puntos equiespaciados dentro del intervalo `[LAMBDAmin, LAMBDAmax]`.  \n",
    "  Se recomienda usar 100 si no se tiene experiencia.\n",
    "\n",
    "- **LAMBDAmin**: límite inferior del rango de longitudes de onda para estimar las constantes ópticas.  \n",
    "  Debe ser mayor o igual al menor valor de longitud de onda en el archivo de datos.\n",
    "\n",
    "- **LAMBDAmax**: límite superior del rango.  \n",
    "  Debe ser menor o igual al mayor valor de longitud de onda en el archivo de datos.  \n",
    "  Obligatorio: `LAMBDAmax >= LAMBDAmin`.\n",
    "\n",
    "- **maxIT**: número máximo de iteraciones del optimizador.  \n",
    "  Por cada combinación fija de grosor y punto de inflexión se resuelve un problema de optimización no lineal.  \n",
    "  Se recomienda usar:  \n",
    "  - 3000 para primer intento  \n",
    "  - 5000 para segundo intento  \n",
    "  - 50000 para último intento\n",
    "\n",
    "- **QUAD**: error cuadrático del mejor ajuste hasta el momento.  \n",
    "  Solo se guardan soluciones con error menor que este valor.  \n",
    "  En el primer intento, se usa un número muy grande, como `1e+100`.  \n",
    "  Cuando se usa una estimación previa para guiar un nuevo intento, puede que no se encuentre una mejor solución. En ese caso, el grosor retornado es cero.\n",
    "  \n"
   ]
  },
  {
   "cell_type": "markdown",
   "id": "6bfb398f",
   "metadata": {},
   "source": [
    "- **INIT**: entero que elige entre hacer la estimación inicial o usar la previa como punto de partida.  \n",
    "  - Usa `0` para estimación inicial.  \n",
    "  - Usa `9` para usar la estimación previa como inicial.  \n",
    "  - Si se usa `9`, se ignoran los parámetros de estimación inicial (`N0ini`, `N0fin`, `N0step`, `NFini`, `NFfin`, `NFstep`, `K0ini`, `K0fin`, `K0step`).\n",
    "\n",
    "- **THICKNESSmin**: límite inferior para el grosor de prueba.  \n",
    "  - Junto con `THICKNESSmax` define el intervalo en que se busca el grosor real.  \n",
    "  - Se necesita algún conocimiento previo para fijar este rango.\n",
    "\n",
    "- **THICKNESSmax**: límite superior para el grosor de prueba.  \n",
    "  - Debe cumplirse `THICKNESSmax >= THICKNESSmin`.  \n",
    "  - Si `THICKNESSmax = THICKNESSmin`, entonces se asume que el grosor es conocido y solo se estiman las constantes ópticas. En este caso, `THICKNESSstep` se ignora.\n",
    "\n",
    "- **THICKNESSstep**: paso para barrer los valores de grosor en el intervalo definido.\n",
    "\n",
    "Los valores de grosor probados son:\n",
    "\n",
    "$$\n",
    "\\text{THICKNESS} = \\text{THICKNESSmin} + w \\times \\text{THICKNESSstep}, \\quad w=0,1,2,...\n",
    "$$\n",
    "\n",
    "- **INFLEmin**: límite inferior del punto de inflexión del coeficiente de atenuación.  \n",
    "  - En PUMA, el coeficiente de atenuación se aproxima por una función cóncava en $[\\text{LAMBDAmin}, \\text{INFLEPOINT}]$ y convexa en $[\\text{INFLEPOINT}, \\text{LAMBDAmax}]$.  \n",
    "  - Define junto con `INFLEmax` el rango donde se busca ese punto de inflexión.  \n",
    "  - Si no se tiene idea, poner `INFLEmin = LAMBDAmin`.\n",
    "\n",
    "- **INFLEmax**: límite superior para el punto de inflexión.  \n",
    "  - Debe cumplirse `INFLEmax >= INFLEmin`.  \n",
    "  - Si no se sabe, pon `INFLEmax = LAMBDAmax`.  \n",
    "  - Si no se sabe el punto exacto, poner `INFLEmax = INFLEmin` y el paso se ignora.\n",
    "\n",
    "- **INFLEstep**: paso para barrer valores del punto de inflexión dentro del rango.\n",
    "\n",
    "Los valores probados son:\n",
    "\n",
    "$$\n",
    "\\text{INFLEPOINT} = \\text{INFLEmin} + w \\times \\text{INFLEstep}, \\quad w=0,1,2,...\n",
    "$$\n",
    "\n",
    "- **N0ini, N0fin, N0step, NFini, NFfin, NFstep**: parámetros para la estimación inicial del índice de refracción \\( n \\).\n",
    "\n",
    "  La estimación inicial de \\( n(\\lambda) \\) se hace con funciones lineales estrictamente decrecientes que van de:\n",
    "\n",
    "  - $ N_0 $ en $\\lambda = \\text{LAMBDAmin}$, que varía entre `N0ini` y `N0fin` con paso `N0step`,  \n",
    "  - a $ N_F$ en $\\lambda = \\text{LAMBDAmax}$, que varía entre `NFini` y `NFfin` con paso `NFstep`.\n",
    "\n",
    "  Esto significa que las funciones iniciales son líneas que pasan por los pares:\n",
    "\n",
    "$$\n",
    "(\\text{LAMBDAmin}, N_0), \\quad (\\text{LAMBDAmax}, N_F)\n",
    "$$\n",
    "\n",
    "con\n",
    "\n",
    "$$\n",
    "N_0 = \\text{N0ini} + u \\times \\text{N0step}, \\quad u = 0,1,2,...\n",
    "$$\n",
    "\n",
    "$$\n",
    "N_F = \\text{NFini} + v \\times \\text{NFstep}, \\quad v = 0,1,2,...\n",
    "$$\n",
    "\n",
    "donde $ N_0 \\in [\\text{N0ini}, \\text{N0fin}] $, $ N_F \\in [\\text{NFini}, \\text{NFfin}] $, y $ N_0 > N_F $.\n"
   ]
  },
  {
   "cell_type": "markdown",
   "id": "6cb8b520",
   "metadata": {},
   "source": [
    "- Se necesita un conocimiento a priori del índice de refracción del material para fijar estos parámetros.\n",
    "\n",
    "- **K0ini, K0fin, K0step**: estimaciones iniciales para el coeficiente de atenuación \\( k \\).  \n",
    "\n",
    "  En este caso se usa una función lineal a tramos, con valores:  \n",
    "  - $ K_0 $ en $\\lambda = \\text{LAMBDAmin}$,  \n",
    "  - $ 0.1 \\times K_0 $ en $\\lambda = \\text{LAMBDAmin} + 0.2 \\times (\\text{LAMBDAmax} - \\text{LAMBDAmin})$,  \n",
    "  - $ K_0 $ en $\\lambda = \\text{LAMBDAmax}$,  \n",
    "\n",
    "  donde $ K_0 $ varía dentro del intervalo $[K0ini, K0fin]$ como:\n",
    "\n",
    "  $$\n",
    "  K_0 = K0ini + z \\times K0step, \\quad z = 0,1,2,...\n",
    "  $$\n",
    "\n"
   ]
  },
  {
   "cell_type": "markdown",
   "id": "66f4da86",
   "metadata": {},
   "source": [
    "# Sustratos soportados por PuMA\n",
    "\n",
    "En PuMA, el parámetro `SUBSTRATE` define el índice de refracción de la capa base de la película según el material. Cada ID corresponde a un material específico y su rango de transparencia.\n",
    "\n",
    "| ID | Material                      | Rango de λ (nm) |\n",
    "|----|-------------------------------|----------------|\n",
    "| 10 | Vidrio genérico                | 350 – 2000     |\n",
    "| 20 | Silicio cristalino             | 1250 – 2600    |\n",
    "| 30 | Cuarzo cristalino              | 200 – 1500     |\n",
    "| 40 | Vidrio para portaobjetos (glass slides)      | 360 – 800      |\n",
    "| 50 | Borosilicato                   | 300 – 2600     |\n",
    "| 60 | Cuarzo amorfo                  | 200 – 1500     |"
   ]
  },
  {
   "cell_type": "markdown",
   "id": "ad211e9a",
   "metadata": {},
   "source": [
    "# Ejemplo para sistema de una sola película\n",
    "\n",
    "Como se explicó antes, se puede correr PUMA haciendo una estimación inicial o usando una estimación previa como punto de partida, llamando a PUMA una, dos, tres o más veces según sea necesario. Esta flexibilidad combinada con una buena elección de parámetros de entrada da un grado alto de control.\n",
    "\n",
    "Generalmente, con tres llamadas alcanza. El procedimiento recomendado es:\n",
    "\n",
    "1. En el primer intento, se elige un intervalo para los grosores de prueba alrededor de algún valor conocido.  \n",
    "   Se fija el paso de grosor.  \n",
    "   Se elige el intervalo para el punto de inflexión del coeficiente de atenuación igual al intervalo del espectro.\n",
    "\n",
    "2. En el segundo intento, se estrecha el intervalo de grosores alrededor del grosor recuperado previamente.  \n",
    "   Se disminuye el paso de grosor.  \n",
    "   Y se hace lo mismo para el punto de inflexión del coeficiente de atenuación.  \n",
    "   Además, se incrementa el número máximo de iteraciones.\n",
    "\n",
    "3. En el tercer intento, se fija el grosor como el recuperado anteriormente.  \n",
    "   Y se hace lo mismo para el punto de inflexión.  \n",
    "   Y se vuelve a aumentar el máximo de iteraciones.\n",
    "\n",
    "---\n",
    "\n",
    "## Ejemplo práctico con la película \"gedanken film A\"\n",
    "\n",
    "(Para reproducir este ejemplo, copiá el archivo de datos `sigl0097t-dat.txt` al mismo directorio donde está instalado PUMA).\n",
    "\n",
    "### Primera llamada\n",
    "\n",
    "El comando para el primer intento es:\n",
    "\n"
   ]
  },
  {
   "cell_type": "markdown",
   "id": "140ec92d",
   "metadata": {},
   "source": [
    "```bash\n",
    ".\\puma.exe sigl0097t 4 2 10 T 100 0540 1530 3000 1e+100 0 0010 0200 10 0540 1530 100 3 5 1 3 5 1 0.10 0.10 0.05 > results.txt\n",
    "\n"
   ]
  },
  {
   "cell_type": "markdown",
   "id": "0a36f711",
   "metadata": {},
   "source": [
    "Lo que se observara en el output es algo con esta estructura:\n",
    "\n",
    "`λ_min   Espesor   m1   m2   ΔK0   error   [opcional !!!]`\n"
   ]
  },
  {
   "cell_type": "markdown",
   "id": "0594fadf",
   "metadata": {},
   "source": [
    "Donde en este ejemplo, se puede observar algo como:\n",
    "\n",
    "540.00 → Longitud de onda mínima usada en ese cálculo (en nm).\n",
    "\n",
    "10.00 → Espesor de la película (en nm o en la unidad que definiste en el input).\n",
    "\n",
    "3.00 → Primer índice de interferencia (m1), asociado al mínimo/máximo de interferencia más bajo.\n",
    "\n",
    "3.00 → Segundo índice de interferencia (m2), asociado a otro punto característico.\n",
    "\n",
    "0.10 → Paso de variación de K0 (coeficiente de extinción inicial) en la búsqueda.\n",
    "\n",
    "4.151371e+00 → Error o función objetivo (fitness) que el algoritmo está minimizando.\n",
    "\n",
    "!!! → Marcador que indica que esa combinación de parámetros está fuera de un rango físico razonable o que el ajuste no cumple alguna condición interna del programa (por ejemplo, índice de refracción < 1 o K negativo)."
   ]
  },
  {
   "cell_type": "markdown",
   "id": "239d5c99",
   "metadata": {},
   "source": [
    "## Segunda llamada (Second Call)\n",
    "\n",
    "Con los resultados de la primera corrida:\n",
    "- Espesor recuperado: **100 nm**\n",
    "- Punto de inflexión recuperado: **540 nm**\n",
    "- Error cuadrático: **6.342857e-03** *(puede variar levemente entre máquinas)*\n",
    "\n",
    "\n",
    "\n"
   ]
  },
  {
   "cell_type": "markdown",
   "id": "09b81238",
   "metadata": {},
   "source": [
    "```bash\n",
    ".\\puma.exe sigl0097t 4 2 10 T 100 0540 1530 5000 6.342857e-03 9 0050 0150 01 0540 0540 100 > secondcall_results.txt"
   ]
  },
  {
   "cell_type": "markdown",
   "id": "7b696ca6",
   "metadata": {},
   "source": [
    "\n",
    "> Nota: en esta segunda llamada **se omiten** los parámetros de estimación inicial de \\(n\\) y \\(k\\):  \n",
    "> `N0ini N0fin N0step NFini NFfin NFstep K0ini K0fin K0step`.\n",
    "\n",
    "### Qué cambió respecto a la primera llamada???\n",
    "\n",
    "- **MAXIT**: de `3000` → `5000` (más iteraciones).\n",
    "- **QUAD**: ahora es el **error cuadrático previo** `6.342857e-03`.  \n",
    "  Solo se guardan soluciones con error **menor** a este valor.\n",
    "- **INIT**: `9` (usa las constantes ópticas estimadas previamente como **initial guess**).\n",
    "- **THICKNESSmin–max–step**: de `10–200–10` → a un rango centrado en **100 nm**: `50–150–1`.  \n",
    "  Rango más estrecho y **paso** más fino.\n",
    "- **INFLEmin–max–step**: se **fija** el punto de inflexión en `540`: `540–540` (el `step` se ignora).\n",
    "\n",
    "### Resultado esperado\n",
    "- Espesor recuperado cercano a **97 nm**.\n",
    "- Se actualizan $ n(\\lambda) $ y $ k(\\lambda) $ usando las constantes previas como guía, refinando el ajuste.\n",
    "\n"
   ]
  },
  {
   "cell_type": "markdown",
   "id": "eea54441",
   "metadata": {},
   "source": [
    "# Tercera Corrida en PuMA (Third Call)\n",
    "\n",
    "En la **third call**, el objetivo ya no es explorar un rango amplio como al inicio, sino **refinar al máximo** los parámetros óptimos obtenidos en las corridas previas.\n",
    "\n",
    "\n",
    "\n"
   ]
  },
  {
   "cell_type": "markdown",
   "id": "b1002b0a",
   "metadata": {},
   "source": [
    "```bash\n",
    ".\\puma.exe sigl0097t 4 2 10 T 100 0540 1530 50000 1.773782e-04 9 0097 0097 01 0540 0540 100"
   ]
  },
  {
   "cell_type": "markdown",
   "id": "b54a5b93",
   "metadata": {},
   "source": [
    "---\n",
    "## Cambios clave respecto a la segunda corrida\n",
    "\n",
    "1. **Fijar el grosor (Thickness)**\n",
    "   - Se usa el valor más confiable encontrado antes: **97 nm**.\n",
    "   - Ya no se buscan variaciones de espesor; toda la optimización se enfoca en $ n(\\lambda) $ y $ k(\\lambda) $.\n",
    "\n",
    "2. **Usar el menor error cuadrático anterior**\n",
    "   - Valor anterior: **1.773782e-04**.\n",
    "   - Ahora, solo se aceptan soluciones con **error menor** a este valor.\n",
    "   - Esto filtra las soluciones, exigiendo que las curvas calculadas sean casi idénticas a los datos experimentales.\n",
    "\n",
    "3. **Aumentar el número de iteraciones**\n",
    "   - De **5000** a **50000** para hacer un barrido más fino del espacio de parámetros.\n",
    "   - Reduce el ruido numérico y mejora la precisión.\n",
    "\n",
    "4. **Mantener el punto de inflexión fijo**\n",
    "   - El inflection point sigue en **540 nm**, considerado confiable desde corridas previas.\n",
    "\n",
    "---\n",
    "\n",
    "## Resultado final\n",
    "\n",
    "- El archivo de salida `sigl0097t-inf.txt` contendrá los valores finales de:\n",
    "  - $ n(\\lambda) $: índice de refracción\n",
    "  - $ k(\\lambda) $: coeficiente de extinción\n",
    "- Estos valores corresponden a la **solución definitiva** para graficar y analizar.\n"
   ]
  },
  {
   "cell_type": "markdown",
   "id": "f8e08609",
   "metadata": {},
   "source": [
    "## Probando con datos del ITO"
   ]
  },
  {
   "cell_type": "code",
   "execution_count": null,
   "id": "bca8350f",
   "metadata": {},
   "outputs": [
    {
     "name": "stdout",
     "output_type": "stream",
     "text": [
      "Archivo listo para PUMA: ITO_data_curated_1100.txt\n"
     ]
    }
   ],
   "source": [
    "# Script para cambiar un archivo .dat al formato que se necesita para PuMA\n",
    "import numpy as np\n",
    "\n",
    "# Nombre del archivo original y del nuevo archivo\n",
    "input_file = \"ITO_data_curated_1100.txt\"  # cambiar esto al nombre del archivo\n",
    "output_file = \"ITO_data_curated_1100.txt\"\n",
    "\n",
    "# Lee los datos (dos columnas: longitud de onda y transmitancia, por ejemplo)\n",
    "data = np.loadtxt(input_file)\n",
    "\n",
    "# Reemplaza los valores negativos de transmitancia por un valor muy pequeño positivo, descomentar solo si no quiere quitar los negativos\n",
    "#data[:, 1] = np.where(data[:, 1] < 0, 1e-10, data[:, 1])\n",
    "\n",
    "# Elimina las filas con transmitancia negativa\n",
    "data = data[data[:, 1] >= 0]\n",
    "\n",
    "# Normaliza la transmitancia entre 0 y 1, descomentar solo si no esta normalizado\n",
    "#data[:, 1] = data[:, 1] / 100.0\n",
    "\n",
    "# Ordena las filas por longitud de onda (columna 0)\n",
    "orden = np.argsort(data[:, 0])  # índices ordenados por longitud de onda\n",
    "data = data[orden]              # reordena ambas columnas como pares\n",
    "\n",
    "# Agregar la primera fila con el número de observaciones\n",
    "n_obs = data.shape[0]\n",
    "with open(output_file, \"w\") as f:\n",
    "    f.write(f\"{n_obs}\\n\")\n",
    "    np.savetxt(f, data, fmt=\"%.3e %.3e\")  # Guardar en notación científica\n",
    "\n",
    "print(f\"Archivo listo para PUMA: {output_file}\")\n"
   ]
  },
  {
   "cell_type": "markdown",
   "id": "1704641e",
   "metadata": {},
   "source": [
    "```bash\n",
    "./puma.exe ITO_data_curated 4 2 70 T 100 0300 1100 3000 1e+100 0 0140 0170 1 0300 1100 50 1.6 2.4 0.05 1.5 2.2 0.05 0.00 0.40 0.05 > ITO_firstcall.txt\n",
    "\n",
    "\n"
   ]
  },
  {
   "cell_type": "markdown",
   "id": "96ec0c8c",
   "metadata": {},
   "source": [
    "\n",
    "## Parámetros First Call\n",
    "\n",
    "| Parámetro | Valor | Significado |\n",
    "|-----------|-------|------------|\n",
    "| `FNAME` | ITO_data_curated | Archivo de entrada que contiene los datos del film. |\n",
    "| `NLAYERS` | 4 | Número total de capas: aire inicial + film + sustrato + aire final. |\n",
    "| `SLAYER` | 2 | Número de la capa de interés: 0 → aire inicial, 1 → film, 2 → sustrato, 3 → aire final. |\n",
    "| `SUBSTRATE` | 70 | Código del sustrato, en este caso el soda lime glass que agregué. |\n",
    "| `DATATYPE` | T | Tipo de medida: `T` para transmitancia, `R` para reflectancia o `B` para ambos. |\n",
    "| `NOBS` | 100 | Número de observaciones o puntos de longitud de onda. |\n",
    "| `LAMBDAmin` | 300 | Longitud de onda mínima (nm) considerada para ajuste. |\n",
    "| `LAMBDAmax` | 1100 | Longitud de onda máxima (nm) considerada para ajuste. |\n",
    "| `MAXIT` | 3000 | Número máximo de iteraciones para el ajuste (lo mande en cluster, para local reducir el numero). |\n",
    "| `QUAD` | 1e+100 | Cota máxima del error cuadrático (muy alta para no limitar). |\n",
    "| `INIT` | 0 | Se realiza estimación inicial. |\n",
    "| `THICKNESSmin` | 140 | Espesor mínimo de la capa (nm) para el ajuste. |\n",
    "| `THICKNESSmax` | 170 | Espesor máximo de la capa (nm) para el ajuste. |\n",
    "| `THICKNESSstep` | 1 | Paso de espesor para el barrido de ajuste. |\n",
    "| `INFLEmin` | 300 | Longitud de onda mínima para buscar punto de inflexión. |\n",
    "| `INFLEmax` | 1100 | Longitud de onda máxima para punto de inflexión. |\n",
    "| `INFLEstep` | 50 | Paso en la búsqueda del punto de inflexión. |\n",
    "| `N0ini` | 1.6 | Valor mínimo de índice de refracción de la capa inicial. |\n",
    "| `N0fin` | 2.4 | Valor máximo de índice de refracción de la capa inicial. |\n",
    "| `N0step` | 0.05 | Paso de n para barrido de ajuste. |\n",
    "| `NFini` | 1.5 | Valor mínimo de índice de refracción de la capa final. |\n",
    "| `NFfin` | 2.2 | Valor máximo de índice de refracción de la capa final. |\n",
    "| `NFstep` | 0.05 | Paso de n de la capa final. |\n",
    "| `K0ini` | 0.00 | Valor mínimo de coeficiente de absorción de la capa inicial. |\n",
    "| `K0fin` | 0.40 | Valor máximo de coeficiente de absorción de la capa inicial. |\n",
    "| `K0step` | 0.05 | Paso de κ para barrido de ajuste. |\n",
    "\n"
   ]
  },
  {
   "cell_type": "markdown",
   "id": "442da6ea",
   "metadata": {},
   "source": [
    "Del first call, revisamos el -inf.txt y de ahí obtenemos el espesor estimado, punto de inflexión, y error cuadratico y mandamos a hacer el second call.\n",
    "Inicialmente salió Espesor estimado = 166 nm, Punto de inflexión = 300 nm y Error cuadrático = 2.989977e-02\n",
    "```bash\n",
    "./puma.exe ITO_data_curated 4 2 70 T 100 0300 1100 5000 2.989977e-02 9 0120 0200 1 0300 0300 100 > ITO_secondcall.txt\n",
    "\n"
   ]
  },
  {
   "cell_type": "markdown",
   "id": "b2781097",
   "metadata": {},
   "source": [
    "\n",
    "## Parámetros Second Call:\n",
    "\n",
    "| Parámetro | Valor | Explicación |\n",
    "|-----------|-------|-------------|\n",
    "| `FNAME` | ITO_data_curated | Nombre del archivo de datos que contiene la transmitancia medida. |\n",
    "| `NLAYERS` | 4 | Número de capas (aire inicial + film + sustrato + aire final). |\n",
    "| `SLAYER` | 2 | Índice de la capa a ajustar (la película es layer 1, sustrato layer 2). |\n",
    "| `SUBSTRATE` | 10 | Identificador del sustrato usado (por ejemplo vidrio). |\n",
    "| `DATATYPE` | T | Tipo de dato a ajustar: Transmittancia. |\n",
    "| `NOBS` | 100 | Número de puntos de observación usados en el ajuste. |\n",
    "| `LAMBDAmin` | 300 | Longitud de onda mínima en nm considerada para el ajuste. |\n",
    "| `LAMBDAmax` | 1100 | Longitud de onda máxima en nm considerada para el ajuste. |\n",
    "| `MAXIT` | 5000 | Número máximo de iteraciones del algoritmo de ajuste. |\n",
    "| `QUAD` | 2.989977e-02| Error cuadrático obtenido en el first call, usado como referencia. |\n",
    "| `INIT` | 9 | Indica que es un segundo call refinando los parámetros. |\n",
    "| `THICKNESSmin` | 120 | Espesor mínimo de la película (nm) en este barrido. |\n",
    "| `THICKNESSmax` | 200 | Espesor máximo de la película (nm). |\n",
    "| `THICKNESSstep` | 1 | Paso para el barrido de espesor. |\n",
    "| `INFLEmin` | 300 | Punto de inflexión mínimo para α(λ) (nm). |\n",
    "| `INFLEmax` | 300 | Punto de inflexión máximo (igual al mínimo, es fijo). |\n",
    "| `INFLEstep` | 100 | Paso para el barrido de puntos de inflexión (aquí no importa, ya que min=max). |\n"
   ]
  },
  {
   "cell_type": "markdown",
   "id": "d92a5b6a",
   "metadata": {},
   "source": [
    "Ahora para el Third Call, obtuvimos anteriormente que Espesor estimado = 166 nm, Punto de inflexión = 300 nm y Error cuadrático = 2.989977e-02, vamos a relajar un poco el error, porque ya deporsi es muy bajo y le va a costar encontrar un mejor ajuste\n",
    "```bash\n",
    "./puma.exe ITO_data_curated 4 2 70 T 100 0300 1100 500000 3e-02 9 0165 0167 1 0295 0305 1 > ITO_thirdcall.txt"
   ]
  },
  {
   "cell_type": "markdown",
   "id": "59090a49",
   "metadata": {},
   "source": [
    "\n",
    "Parámetros Third Call:\n",
    "\n",
    "| Parámetro | Valor | Explicación |\n",
    "|-----------|-------|-------------|\n",
    "| `FNAME` | ITO_data_curated | Nombre del archivo de datos que contiene la transmitancia medida. |\n",
    "| `NLAYERS` | 4 | Número de capas (aire inicial + película + sustrato + aire final). |\n",
    "| `SLAYER` | 2 | Índice de la capa a ajustar (la película es layer 1, sustrato layer 2). |\n",
    "| `SUBSTRATE` | 70 | Identificador del sustrato usado (ej. vidrio ). |\n",
    "| `DATATYPE` | T | Tipo de dato a ajustar: Transmittancia. |\n",
    "| `NOBS` | 100 | Número de puntos de observación usados en el ajuste. |\n",
    "| `LAMBDAmin` | 300 | Longitud de onda mínima en nm considerada para el ajuste. |\n",
    "| `LAMBDAmax` | 1100 | Longitud de onda máxima en nm considerada para el ajuste. |\n",
    "| `MAXIT` | 50000 | Número máximo de iteraciones del algoritmo de ajuste (muy alto para refinar la solución). |\n",
    "| `QUAD` | 3e-02 | Error cuadrático obtenido del second call, usado como referencia. |\n",
    "| `INIT` | 9 | Indica que es un tercer call refinando los parámetros anteriores. |\n",
    "| `THICKNESSmin` | 165 | Espesor mínimo de la película (nm) en este barrido. |\n",
    "| `THICKNESSmax` | 167 | Espesor máximo de la película (nm), aquí fijado. |\n",
    "| `THICKNESSstep` | 100 | Paso para el barrido de espesor (irrelevante al ser min=max). |\n",
    "| `INFLEmin` | 295 | Punto de inflexión mínimo para α(λ) (nm). |\n",
    "| `INFLEmax` | 303 | Punto de inflexión máximo (fijo). |\n",
    "| `INFLEstep` | 1 | Paso para el barrido de puntos de inflexión (irrelevante al ser min=max). |\n"
   ]
  },
  {
   "cell_type": "markdown",
   "id": "b7c7f5c6",
   "metadata": {},
   "source": []
  },
  {
   "cell_type": "code",
   "execution_count": 14,
   "id": "48ce84c2",
   "metadata": {},
   "outputs": [
    {
     "name": "stdout",
     "output_type": "stream",
     "text": [
      "Error relativo cuadrático promedio (RMSE): 2.15 %\n",
      "Desviación porcentual promedio: 1.70 %\n"
     ]
    },
    {
     "data": {
      "image/png": "[encoded data removed]",
      "text/plain": [
       "<Figure size 640x480 with 1 Axes>"
      ]
     },
     "metadata": {},
     "output_type": "display_data"
    },
    {
     "data": {
      "image/png": "[encoded data removed]",
      "text/plain": [
       "<Figure size 640x480 with 1 Axes>"
      ]
     },
     "metadata": {},
     "output_type": "display_data"
    },
    {
     "data": {
      "image/png": "[encoded data removed]",
      "text/plain": [
       "<Figure size 640x480 with 1 Axes>"
      ]
     },
     "metadata": {},
     "output_type": "display_data"
    },
    {
     "data": {
      "image/png": "[encoded data removed]",
      "text/plain": [
       "<Figure size 640x480 with 1 Axes>"
      ]
     },
     "metadata": {},
     "output_type": "display_data"
    },
    {
     "name": "stdout",
     "output_type": "stream",
     "text": [
      "Gráficas guardadas como PNG\n"
     ]
    }
   ],
   "source": [
    "import numpy as np\n",
    "import matplotlib.pyplot as plt\n",
    "from scipy.interpolate import interp1d\n",
    "\n",
    "#filename = \"ITO_s70_1100.txt\"\n",
    "filename = \"ITO_data_curated-inf.txt\"\n",
    "# === Detectar bloques de salida automáticamente ===\n",
    "block1 = []  # λ, n, kappa\n",
    "block2 = []  # λ, T simulada\n",
    "\n",
    "with open(filename, \"r\") as f:\n",
    "    for line in f:\n",
    "        try:\n",
    "            vals = list(map(float, line.split()))\n",
    "            if len(vals) == 3:       # λ, n, kappa\n",
    "                block1.append(vals)\n",
    "            elif len(vals) == 2:     # λ, T simulada\n",
    "                block2.append(vals)\n",
    "        except:\n",
    "            continue\n",
    "\n",
    "block1 = np.array(block1)\n",
    "block2 = np.array(block2)\n",
    "\n",
    "# === Extraer variables ===\n",
    "lambda1 = block1[:, 0]   # longitud de onda (nm)\n",
    "n = block1[:, 1]         # índice de refracción\n",
    "kappa = block1[:, 2]     # coeficiente de extinción\n",
    "\n",
    "lambda2 = block2[:, 0]   # λ en nm\n",
    "T_sim = block2[:, 1]     # transmitancia simulada\n",
    "\n",
    "# === Cargar experimental (desde input original) ===\n",
    "exp_data = np.loadtxt(\"ITO_data_curated_1100.txt\", skiprows=1)\n",
    "lambda_exp = exp_data[:, 0]\n",
    "T_exp = exp_data[:, 1]\n",
    "\n",
    "# === Calcular α vs Energía ===\n",
    "h_c = 1240  # eV·nm\n",
    "E = h_c / lambda1\n",
    "alpha = 4 * np.pi * kappa / (lambda1 * 1e-7)  # cm^-1\n",
    "\n",
    "\n",
    "# === Calcular error relativo cuadrático promedio ===\n",
    "\n",
    "# === Interpolación de T_sim a puntos experimentales ===\n",
    "interp_T = interp1d(lambda2, T_sim, kind='linear', fill_value=\"extrapolate\")\n",
    "T_sim_interp = interp_T(lambda_exp)\n",
    "\n",
    "# === 1. Error relativo cuadrático promedio (RMSE relativo) ===\n",
    "rel_error = np.sqrt(np.mean((T_sim_interp - T_exp)**2)) / np.mean(T_exp)\n",
    "percent_error_rmse = rel_error * 100\n",
    "\n",
    "# === 2. Desviación porcentual promedio (MAPE) ===\n",
    "abs_percent_error = np.mean(np.abs(T_sim_interp - T_exp)/T_exp) * 100\n",
    "\n",
    "print(f\"Error relativo cuadrático promedio (RMSE): {percent_error_rmse:.2f} %\")\n",
    "print(f\"Desviación porcentual promedio: {abs_percent_error:.2f} %\")\n",
    "\n",
    "\n",
    "# === 1. Transmitancia (experimental vs simulado) ===\n",
    "plt.figure()\n",
    "plt.plot(lambda_exp, T_exp, 'bo', markersize=3, label=\"Experimental\")\n",
    "plt.plot(lambda2, T_sim, 'r-', label=\"Simulado\")\n",
    "plt.xlabel(\"Longitud de onda (nm)\")\n",
    "plt.ylabel(\"Transmitancia\")\n",
    "plt.title(\"Transmitancia Experimental vs Simulada\")\n",
    "plt.legend()\n",
    "plt.savefig(\"T_exp_vs_sim.png\", dpi=300)\n",
    "plt.show()\n",
    "\n",
    "# === 2. Índice de refracción n vs λ ===\n",
    "plt.figure()\n",
    "plt.plot(lambda1, n, 'b-')\n",
    "plt.xlabel(\"Longitud de onda (nm)\")\n",
    "plt.ylabel(\"n\")\n",
    "plt.title(\"Índice de Refracción vs λ\")\n",
    "plt.savefig(\"n_vs_lambda.png\", dpi=300)\n",
    "plt.show()\n",
    "\n",
    "# === 3. κ vs λ ===\n",
    "plt.figure()\n",
    "plt.plot(lambda1, kappa, 'm-')\n",
    "plt.xlabel(\"Longitud de onda (nm)\")\n",
    "plt.ylabel(\"κ\")\n",
    "plt.title(\"Coeficiente de Extinción κ vs λ\")\n",
    "plt.savefig(\"kappa_vs_lambda.png\", dpi=300)\n",
    "plt.show()\n",
    "\n",
    "# === 4. Coeficiente de absorción α vs Energía ===\n",
    "plt.figure()\n",
    "plt.plot(E, alpha, 'g-')\n",
    "plt.yscale('log')\n",
    "plt.xlabel(\"Energía del fotón (eV)\")\n",
    "plt.ylabel(\"α (cm⁻¹)\")\n",
    "plt.title(\"Coeficiente de Absorción vs Energía\")\n",
    "plt.savefig(\"alpha_vs_energy.png\", dpi=300)\n",
    "plt.show()\n",
    "\n",
    "print(\"Gráficas guardadas como PNG\")\n"
   ]
  },
  {
   "cell_type": "code",
   "execution_count": 9,
   "id": "66388c1f",
   "metadata": {},
   "outputs": [
    {
     "data": {
      "application/vnd.plotly.v1+json": {
       "config": {
        "plotlyServerURL": "https://plot.ly"
       },
       "data": [
        {
         "mode": "markers",
         "name": "Experimental",
         "type": "scatter",
         "x": [
          300,
          301,
          302,
          303,
          304,
          305,
          306,
          307,
          308,
          309,
          310,
          311,
          312,
          313,
          314,
          315,
          316,
          317,
          318,
          319,
          320,
          321,
          322,
          323,
          324,
          325,
          326,
          327,
          328,
          329,
          330,
          331,
          332,
          333,
          334,
          335,
          336,
          337,
          338,
          339,
          340,
          341,
          342,
          343,
          344,
          345,
          346,
          347,
          348,
          349,
          350,
          351,
          352,
          353,
          354,
          355,
          356,
          357,
          358,
          359,
          360,
          361,
          362,
          363,
          364,
          365,
          366,
          367,
          368,
          369,
          370,
          371,
          372,
          373,
          374,
          375,
          376,
          377,
          378,
          379,
          380,
          381,
          382,
          383,
          384,
          385,
          386,
          387,
          388,
          389,
          390,
          391,
          392,
          393,
          394,
          395,
          396,
          397,
          398,
          399,
          400,
          401,
          402,
          403,
          404,
          405,
          406,
          407,
          408,
          409,
          410,
          411,
          412,
          413,
          414,
          415,
          416,
          417,
          418,
          419,
          420,
          421,
          422,
          423,
          424,
          425,
          426,
          427,
          428,
          429,
          430,
          431,
          432,
          433,
          434,
          435,
          436,
          437,
          438,
          439,
          440,
          441,
          442,
          443,
          444,
          445,
          446,
          447,
          448,
          449,
          450,
          451,
          452,
          453,
          454,
          455,
          456,
          457,
          458,
          459,
          460,
          461,
          462,
          463,
          464,
          465,
          466,
          467,
          468,
          469,
          470,
          471,
          472,
          473,
          474,
          475,
          476,
          477,
          478,
          479,
          480,
          481,
          482,
          483,
          484,
          485,
          486,
          487,
          488,
          489,
          490,
          491,
          492,
          493,
          494,
          495,
          496,
          497,
          498,
          499,
          500,
          501,
          502,
          503,
          504,
          505,
          506,
          507,
          508,
          509,
          510,
          511,
          512,
          513,
          514,
          515,
          516,
          517,
          518,
          519,
          520,
          521,
          522,
          523,
          524,
          525,
          526,
          527,
          528,
          529,
          530,
          531,
          532,
          533,
          534,
          535,
          536,
          537,
          538,
          539,
          540,
          541,
          542,
          543,
          544,
          545,
          546,
          547,
          548,
          549,
          550,
          551,
          552,
          553,
          554,
          555,
          556,
          557,
          558,
          559,
          560,
          561,
          562,
          563,
          564,
          565,
          566,
          567,
          568,
          569,
          570,
          571,
          572,
          573,
          574,
          575,
          576,
          577,
          578,
          579,
          580,
          581,
          582,
          583,
          584,
          585,
          586,
          587,
          588,
          589,
          590,
          591,
          592,
          593,
          594,
          595,
          596,
          597,
          598,
          599,
          600,
          601,
          602,
          603,
          604,
          605,
          606,
          607,
          608,
          609,
          610,
          611,
          612,
          613,
          614,
          615,
          616,
          617,
          618,
          619,
          620,
          621,
          622,
          623,
          624,
          625,
          626,
          627,
          628,
          629,
          630,
          631,
          632,
          633,
          634,
          635,
          636,
          637,
          638,
          639,
          640,
          641,
          642,
          643,
          644,
          645,
          646,
          647,
          648,
          649,
          650,
          651,
          652,
          653,
          654,
          655,
          656,
          657,
          658,
          659,
          660,
          661,
          662,
          663,
          664,
          665,
          666,
          667,
          668,
          669,
          670,
          671,
          672,
          673,
          674,
          675,
          676,
          677,
          678,
          679,
          680,
          681,
          682,
          683,
          684,
          685,
          686,
          687,
          688,
          689,
          690,
          691,
          692,
          693,
          694,
          695,
          696,
          697,
          698,
          699,
          700,
          701,
          702,
          703,
          704,
          705,
          706,
          707,
          708,
          709,
          710,
          711,
          712,
          713,
          714,
          715,
          716,
          717,
          718,
          719,
          720,
          721,
          722,
          723,
          724,
          725,
          726,
          727,
          728,
          729,
          730,
          731,
          732,
          733,
          734,
          735,
          736,
          737,
          738,
          739,
          740,
          741,
          742,
          743,
          744,
          745,
          746,
          747,
          748,
          749,
          750,
          751,
          752,
          753,
          754,
          755,
          756,
          757,
          758,
          759,
          760,
          761,
          762,
          763,
          764,
          765,
          766,
          767,
          768,
          769,
          770,
          771,
          772,
          773,
          774,
          775,
          776,
          777,
          778,
          779,
          780,
          781,
          782,
          783,
          784,
          785,
          786,
          787,
          788,
          789,
          790,
          791,
          792,
          793,
          794,
          795,
          796,
          797,
          798,
          799,
          800,
          801,
          802,
          803,
          804,
          805,
          806,
          807,
          808,
          809,
          810,
          811,
          812,
          813,
          814,
          815,
          816,
          817,
          818,
          819,
          820,
          821,
          822,
          823,
          824,
          825,
          826,
          827,
          828,
          829,
          830,
          831,
          832,
          833,
          834,
          835,
          836,
          837,
          838,
          839,
          840,
          841,
          842,
          843,
          844,
          845,
          846,
          847,
          848,
          849,
          850,
          851,
          852,
          853,
          854,
          855,
          856,
          857,
          858,
          859,
          860,
          861,
          862,
          863,
          864,
          865,
          866,
          867,
          868,
          869,
          870,
          871,
          872,
          873,
          874,
          875,
          876,
          877,
          878,
          879,
          880,
          881,
          882,
          883,
          884,
          885,
          886,
          887,
          888,
          889,
          890,
          891,
          892,
          893,
          894,
          895,
          896,
          897,
          898,
          899,
          900,
          901,
          902,
          903,
          904,
          905,
          906,
          907,
          908,
          909,
          910,
          911,
          912,
          913,
          914,
          915,
          916,
          917,
          918,
          919,
          920,
          921,
          922,
          923,
          924,
          925,
          926,
          927,
          928,
          929,
          930,
          931,
          932,
          933,
          934,
          935,
          936,
          937,
          938,
          939,
          940,
          941,
          942,
          943,
          944,
          945,
          946,
          947,
          948,
          949,
          950,
          951,
          952,
          953,
          954,
          955,
          956,
          957,
          958,
          959,
          960,
          961,
          962,
          963,
          964,
          965,
          966,
          967,
          968,
          969,
          970,
          971,
          972,
          973,
          974,
          975,
          976,
          977,
          978,
          979,
          980,
          981,
          982,
          983,
          984,
          985,
          986,
          987,
          988,
          989,
          990,
          991,
          992,
          993,
          994,
          995,
          996,
          997,
          998,
          999,
          1000,
          1001,
          1002,
          1003,
          1004,
          1005,
          1006,
          1007,
          1008,
          1009,
          1010,
          1011,
          1012,
          1013,
          1014,
          1015,
          1016,
          1017,
          1018,
          1019,
          1020,
          1021,
          1022,
          1023,
          1024,
          1025,
          1026,
          1027,
          1028,
          1029,
          1030,
          1031,
          1032,
          1033,
          1034,
          1035,
          1036,
          1037,
          1038,
          1039,
          1040,
          1041,
          1042,
          1043,
          1044,
          1045,
          1046,
          1047,
          1048,
          1049,
          1050,
          1051,
          1052,
          1053,
          1054,
          1055,
          1056,
          1057,
          1058,
          1059,
          1060,
          1061,
          1062,
          1063,
          1064,
          1065,
          1066,
          1067,
          1068,
          1069,
          1070,
          1071,
          1072,
          1073,
          1074,
          1075,
          1076,
          1077,
          1078,
          1079,
          1080,
          1081,
          1082,
          1083,
          1084,
          1085,
          1086,
          1087,
          1088,
          1089,
          1090,
          1091,
          1092,
          1093,
          1094,
          1095,
          1096,
          1097,
          1098,
          1099,
          1100
         ],
         "y": [
          0.02672,
          0.0332,
          0.04026,
          0.04864,
          0.05774,
          0.06801,
          0.07936,
          0.09099,
          0.1046,
          0.1188,
          0.1328,
          0.1486,
          0.1639,
          0.1806,
          0.1976,
          0.2159,
          0.2334,
          0.252,
          0.2707,
          0.2866,
          0.3034,
          0.3211,
          0.3459,
          0.358,
          0.3767,
          0.392,
          0.4101,
          0.4246,
          0.4425,
          0.4597,
          0.4734,
          0.4913,
          0.5088,
          0.5267,
          0.5356,
          0.5494,
          0.5663,
          0.5781,
          0.592,
          0.6058,
          0.6199,
          0.6336,
          0.6417,
          0.6554,
          0.6677,
          0.6808,
          0.6898,
          0.6992,
          0.7097,
          0.7214,
          0.7312,
          0.7428,
          0.7508,
          0.759,
          0.7679,
          0.7746,
          0.7826,
          0.7914,
          0.798,
          0.8039,
          0.8126,
          0.8164,
          0.8232,
          0.8294,
          0.8328,
          0.8387,
          0.8423,
          0.8462,
          0.8454,
          0.8479,
          0.8559,
          0.857,
          0.8574,
          0.8611,
          0.862,
          0.8628,
          0.8612,
          0.8618,
          0.863,
          0.8612,
          0.8598,
          0.8611,
          0.8625,
          0.8609,
          0.8599,
          0.8606,
          0.8602,
          0.8598,
          0.86,
          0.8587,
          0.8575,
          0.8567,
          0.8549,
          0.854,
          0.8522,
          0.85,
          0.8483,
          0.8462,
          0.8448,
          0.8429,
          0.8393,
          0.8363,
          0.8348,
          0.833,
          0.8309,
          0.8286,
          0.8259,
          0.8232,
          0.8214,
          0.8191,
          0.8171,
          0.8153,
          0.8128,
          0.8098,
          0.8078,
          0.8062,
          0.8042,
          0.8011,
          0.7986,
          0.7973,
          0.7956,
          0.7938,
          0.7922,
          0.7899,
          0.788,
          0.7867,
          0.7857,
          0.7841,
          0.782,
          0.781,
          0.7796,
          0.7774,
          0.7761,
          0.7751,
          0.7745,
          0.7736,
          0.7726,
          0.7711,
          0.7699,
          0.7698,
          0.7694,
          0.7685,
          0.7677,
          0.7666,
          0.7661,
          0.7663,
          0.7652,
          0.7649,
          0.7649,
          0.7647,
          0.7641,
          0.7636,
          0.7635,
          0.7631,
          0.7633,
          0.7634,
          0.7634,
          0.7636,
          0.7634,
          0.7641,
          0.7645,
          0.7641,
          0.7641,
          0.7642,
          0.7644,
          0.7652,
          0.7659,
          0.7661,
          0.7666,
          0.7673,
          0.7687,
          0.7685,
          0.7685,
          0.7697,
          0.7703,
          0.771,
          0.7715,
          0.7722,
          0.7727,
          0.7736,
          0.7744,
          0.7755,
          0.7764,
          0.7768,
          0.7778,
          0.7787,
          0.7796,
          0.7804,
          0.7815,
          0.7821,
          0.7843,
          0.7847,
          0.786,
          0.7866,
          0.7884,
          0.7891,
          0.7904,
          0.7911,
          0.7921,
          0.7941,
          0.7951,
          0.7957,
          0.7969,
          0.7992,
          0.7993,
          0.8005,
          0.8018,
          0.8031,
          0.8044,
          0.8056,
          0.8069,
          0.8077,
          0.8088,
          0.8101,
          0.8125,
          0.8132,
          0.8143,
          0.8156,
          0.8169,
          0.8179,
          0.8193,
          0.8206,
          0.8216,
          0.8229,
          0.8242,
          0.8254,
          0.8265,
          0.8275,
          0.8286,
          0.8305,
          0.8313,
          0.8331,
          0.8338,
          0.8352,
          0.8362,
          0.8376,
          0.8391,
          0.8401,
          0.8416,
          0.8421,
          0.8429,
          0.8445,
          0.8454,
          0.8468,
          0.8474,
          0.849,
          0.8502,
          0.8506,
          0.8521,
          0.8534,
          0.8544,
          0.8553,
          0.8564,
          0.857,
          0.8577,
          0.8587,
          0.8605,
          0.8613,
          0.8616,
          0.8626,
          0.8635,
          0.8649,
          0.8655,
          0.8663,
          0.8674,
          0.8681,
          0.8683,
          0.8692,
          0.8698,
          0.8708,
          0.8716,
          0.8724,
          0.8731,
          0.874,
          0.8746,
          0.8751,
          0.8755,
          0.8767,
          0.8768,
          0.8773,
          0.8783,
          0.8788,
          0.879,
          0.8799,
          0.8803,
          0.8807,
          0.8812,
          0.8813,
          0.8817,
          0.8824,
          0.8825,
          0.8828,
          0.8834,
          0.8844,
          0.8844,
          0.8849,
          0.8851,
          0.8853,
          0.8853,
          0.8857,
          0.8861,
          0.8862,
          0.8867,
          0.8872,
          0.8872,
          0.8879,
          0.8873,
          0.8879,
          0.8876,
          0.8879,
          0.8879,
          0.8879,
          0.8883,
          0.889,
          0.8888,
          0.8888,
          0.8892,
          0.8889,
          0.8887,
          0.8889,
          0.8885,
          0.888,
          0.8882,
          0.8889,
          0.8884,
          0.8881,
          0.8885,
          0.8884,
          0.8884,
          0.8879,
          0.8879,
          0.8879,
          0.8879,
          0.8885,
          0.8874,
          0.8867,
          0.8874,
          0.8875,
          0.8873,
          0.8865,
          0.8857,
          0.8863,
          0.8857,
          0.8854,
          0.8854,
          0.8851,
          0.8851,
          0.8852,
          0.8849,
          0.8848,
          0.884,
          0.8839,
          0.8834,
          0.883,
          0.8825,
          0.8827,
          0.8823,
          0.8815,
          0.8807,
          0.8811,
          0.8815,
          0.8807,
          0.8805,
          0.8801,
          0.8787,
          0.8785,
          0.8788,
          0.8783,
          0.8779,
          0.8779,
          0.8777,
          0.8776,
          0.8775,
          0.8768,
          0.8755,
          0.8751,
          0.8754,
          0.8745,
          0.8742,
          0.8741,
          0.8742,
          0.8736,
          0.8726,
          0.873,
          0.8724,
          0.8716,
          0.8714,
          0.8706,
          0.8698,
          0.8685,
          0.8677,
          0.8675,
          0.8675,
          0.8671,
          0.8672,
          0.8671,
          0.8663,
          0.8654,
          0.8651,
          0.8647,
          0.8642,
          0.8644,
          0.8639,
          0.8632,
          0.8626,
          0.8621,
          0.8622,
          0.8617,
          0.8611,
          0.861,
          0.8608,
          0.86,
          0.8595,
          0.8594,
          0.8585,
          0.8579,
          0.8576,
          0.8572,
          0.8575,
          0.8571,
          0.8563,
          0.856,
          0.8556,
          0.8553,
          0.8551,
          0.8549,
          0.8539,
          0.8536,
          0.8528,
          0.8518,
          0.8517,
          0.8514,
          0.8512,
          0.8509,
          0.8498,
          0.8492,
          0.8493,
          0.8494,
          0.8497,
          0.849,
          0.8475,
          0.8484,
          0.8472,
          0.8466,
          0.8471,
          0.8469,
          0.8467,
          0.847,
          0.8455,
          0.8447,
          0.844,
          0.8435,
          0.8424,
          0.8425,
          0.8433,
          0.8432,
          0.8427,
          0.8425,
          0.8416,
          0.8413,
          0.842,
          0.8423,
          0.8411,
          0.8409,
          0.8419,
          0.8394,
          0.8394,
          0.8386,
          0.839,
          0.8392,
          0.8385,
          0.8391,
          0.8364,
          0.8373,
          0.8378,
          0.8366,
          0.8371,
          0.8352,
          0.8346,
          0.8352,
          0.8355,
          0.835,
          0.8357,
          0.8359,
          0.8353,
          0.8336,
          0.8338,
          0.8337,
          0.8335,
          0.8331,
          0.8338,
          0.8335,
          0.8314,
          0.832,
          0.8314,
          0.8331,
          0.8322,
          0.8314,
          0.8307,
          0.8299,
          0.8287,
          0.828,
          0.8289,
          0.8309,
          0.8307,
          0.8304,
          0.828,
          0.8282,
          0.8287,
          0.8288,
          0.8296,
          0.83,
          0.831,
          0.8287,
          0.8288,
          0.8284,
          0.8266,
          0.8286,
          0.8266,
          0.8273,
          0.8263,
          0.8247,
          0.8223,
          0.8262,
          0.828,
          0.825,
          0.8247,
          0.8247,
          0.8235,
          0.8266,
          0.8255,
          0.8228,
          0.826,
          0.8239,
          0.8319,
          0.8264,
          0.8266,
          0.8254,
          0.8253,
          0.8256,
          0.8244,
          0.8248,
          0.8244,
          0.824,
          0.8243,
          0.8245,
          0.8237,
          0.8237,
          0.8242,
          0.8235,
          0.8233,
          0.8235,
          0.8235,
          0.823,
          0.8232,
          0.823,
          0.823,
          0.8224,
          0.8225,
          0.8223,
          0.8225,
          0.8225,
          0.8224,
          0.8224,
          0.8226,
          0.8225,
          0.822,
          0.8221,
          0.8221,
          0.8215,
          0.8218,
          0.8217,
          0.8216,
          0.8212,
          0.821,
          0.8213,
          0.8212,
          0.821,
          0.8208,
          0.8209,
          0.8207,
          0.8205,
          0.8206,
          0.8206,
          0.8205,
          0.8205,
          0.8203,
          0.8201,
          0.8201,
          0.8202,
          0.82,
          0.82,
          0.8199,
          0.82,
          0.8197,
          0.8195,
          0.8194,
          0.8194,
          0.8194,
          0.8194,
          0.8192,
          0.8192,
          0.819,
          0.8187,
          0.8186,
          0.8186,
          0.8184,
          0.8185,
          0.8184,
          0.8184,
          0.8182,
          0.8182,
          0.8182,
          0.8181,
          0.818,
          0.8178,
          0.8178,
          0.8177,
          0.8175,
          0.8175,
          0.8175,
          0.8173,
          0.8174,
          0.8174,
          0.8172,
          0.8169,
          0.8167,
          0.8167,
          0.8166,
          0.8165,
          0.8164,
          0.8164,
          0.8162,
          0.8161,
          0.816,
          0.8159,
          0.8158,
          0.8156,
          0.8154,
          0.8153,
          0.8151,
          0.8148,
          0.8147,
          0.8146,
          0.8145,
          0.8144,
          0.8143,
          0.814,
          0.8138,
          0.8138,
          0.8136,
          0.8134,
          0.8132,
          0.8132,
          0.813,
          0.8128,
          0.8127,
          0.8126,
          0.8124,
          0.8122,
          0.8121,
          0.8119,
          0.8118,
          0.8117,
          0.8115,
          0.8112,
          0.8109,
          0.8107,
          0.8106,
          0.8104,
          0.8102,
          0.81,
          0.8098,
          0.8096,
          0.8094,
          0.8091,
          0.8089,
          0.8086,
          0.8084,
          0.8082,
          0.808,
          0.8078,
          0.8075,
          0.8072,
          0.807,
          0.8068,
          0.8065,
          0.8063,
          0.8061,
          0.8058,
          0.8056,
          0.8054,
          0.805,
          0.8047,
          0.8045,
          0.8042,
          0.8039,
          0.8035,
          0.8033,
          0.8031,
          0.8028,
          0.8026,
          0.8023,
          0.8019,
          0.8016,
          0.8013,
          0.801,
          0.8007,
          0.8003,
          0.7999,
          0.7996,
          0.7993,
          0.799,
          0.7987,
          0.7984,
          0.798,
          0.7977,
          0.7973,
          0.7968,
          0.7964,
          0.7961,
          0.7959,
          0.7955,
          0.7953,
          0.7949,
          0.7944,
          0.7939,
          0.7936,
          0.7931,
          0.7926,
          0.7922,
          0.7919,
          0.7915,
          0.7911,
          0.7907,
          0.7903,
          0.7899,
          0.7894,
          0.789,
          0.7885,
          0.7879,
          0.7875,
          0.787,
          0.7866,
          0.7862,
          0.7857,
          0.7853,
          0.7848,
          0.7843,
          0.784,
          0.7836,
          0.7831,
          0.7826,
          0.782,
          0.7814,
          0.7809,
          0.7805,
          0.78,
          0.7796,
          0.7791,
          0.7786,
          0.778,
          0.7775,
          0.777,
          0.7764,
          0.7758,
          0.7753,
          0.7749,
          0.7744,
          0.7738,
          0.7731,
          0.7724,
          0.7719,
          0.7714,
          0.7708,
          0.7703,
          0.7696,
          0.769,
          0.7686,
          0.768,
          0.7673,
          0.7667,
          0.7662,
          0.7656,
          0.765,
          0.7644,
          0.7638,
          0.7633,
          0.7627,
          0.762,
          0.7613,
          0.7606,
          0.7598,
          0.7592,
          0.7585,
          0.7579,
          0.7573,
          0.7566,
          0.7559,
          0.7554,
          0.7547
         ]
        },
        {
         "mode": "lines",
         "name": "Simulado",
         "type": "scatter",
         "x": [
          300,
          308.0808080808081,
          316.16161616161617,
          324.24242424242425,
          332.32323232323233,
          340.4040404040404,
          348.4848484848485,
          356.5656565656566,
          364.64646464646466,
          372.72727272727275,
          380.80808080808083,
          388.8888888888889,
          396.969696969697,
          405.0505050505051,
          413.13131313131316,
          421.21212121212125,
          429.29292929292933,
          437.3737373737374,
          445.4545454545455,
          453.5353535353536,
          461.61616161616166,
          469.69696969696975,
          477.7777777777778,
          485.8585858585859,
          493.93939393939394,
          502.020202020202,
          510.1010101010101,
          518.1818181818182,
          526.2626262626263,
          534.3434343434344,
          542.4242424242425,
          550.5050505050506,
          558.5858585858587,
          566.6666666666667,
          574.7474747474748,
          582.8282828282829,
          590.909090909091,
          598.9898989898991,
          607.0707070707072,
          615.1515151515152,
          623.2323232323233,
          631.3131313131314,
          639.3939393939395,
          647.4747474747476,
          655.5555555555557,
          663.6363636363637,
          671.7171717171718,
          679.7979797979799,
          687.8787878787879,
          695.959595959596,
          704.040404040404,
          712.1212121212121,
          720.2020202020202,
          728.2828282828283,
          736.3636363636364,
          744.4444444444445,
          752.5252525252525,
          760.6060606060606,
          768.6868686868687,
          776.7676767676768,
          784.8484848484849,
          792.929292929293,
          801.010101010101,
          809.0909090909091,
          817.1717171717172,
          825.2525252525253,
          833.3333333333334,
          841.4141414141415,
          849.4949494949495,
          857.5757575757576,
          865.6565656565657,
          873.7373737373738,
          881.8181818181819,
          889.89898989899,
          897.979797979798,
          906.0606060606061,
          914.1414141414142,
          922.2222222222223,
          930.3030303030304,
          938.3838383838385,
          946.4646464646465,
          954.5454545454546,
          962.6262626262627,
          970.7070707070708,
          978.7878787878789,
          986.868686868687,
          994.949494949495,
          1003.0303030303031,
          1011.1111111111112,
          1019.1919191919193,
          1027.2727272727275,
          1035.3535353535353,
          1043.4343434343436,
          1051.5151515151515,
          1059.5959595959598,
          1067.6767676767677,
          1075.7575757575758,
          1083.8383838383838,
          1091.919191919192,
          1100
         ],
         "y": [
          0.026720000000714297,
          0.11400704883876449,
          0.22904443467674038,
          0.3826584506198218,
          0.5314212992992944,
          0.6279407418032501,
          0.6982775069317991,
          0.7741605466696431,
          0.8410942340250829,
          0.8620074891730833,
          0.8578093886546452,
          0.836135355931182,
          0.8071640658087206,
          0.7790530443835135,
          0.756604273633847,
          0.7418799940840433,
          0.7352304087599005,
          0.7360713755275616,
          0.7433337588288105,
          0.7556906260327253,
          0.7606894762428691,
          0.766884158666814,
          0.7740492879983025,
          0.7819662758924089,
          0.7904258250534958,
          0.7992300862084962,
          0.8081946140875651,
          0.8171501490027949,
          0.8259441856325643,
          0.8344422595357348,
          0.8425288763080642,
          0.8501080209319308,
          0.8563034989095392,
          0.8620365065474137,
          0.867269735843555,
          0.8719766715251696,
          0.8761408420044229,
          0.8797549513247771,
          0.8828199244691487,
          0.8853438993062005,
          0.8873411973650835,
          0.8888313029150287,
          0.8898378759239645,
          0.8903878198362982,
          0.8905104201697398,
          0.890236565046891,
          0.8895980542305229,
          0.8886269992170948,
          0.8873553135750752,
          0.8858142900367738,
          0.8840342588531425,
          0.8820443205489351,
          0.8798721453939264,
          0.8775438315448334,
          0.8750838138192898,
          0.872514815348766,
          0.8698578348413891,
          0.8671321627990299,
          0.8643554207187831,
          0.8615436180219753,
          0.8587112221600937,
          0.8558712380220398,
          0.8530352933947073,
          0.8502137277991312,
          0.8474156825328688,
          0.8446491901947872,
          0.8419212623530361,
          0.8392379743442847,
          0.836604546466984,
          0.8340254210589694,
          0.8315043351355745,
          0.8290443884139803,
          0.8266481066680369,
          0.8243175004498504,
          0.8220541192844316,
          0.819859101495348,
          0.8177332198559747,
          0.8156769232854463,
          0.8136903748231806,
          0.8117734861229824,
          0.8099259487088839,
          0.8081472622315587,
          0.8064367599573989,
          0.8047936317132485,
          0.8032169444989704,
          0.8017056609682194,
          0.8002586559653531,
          0.7988747312937949,
          0.7975526288786235,
          0.7962910424738607,
          0.7950886280530933,
          0.7939440130107466,
          0.7928558042906,
          0.7918225955480802,
          0.7908429734434183,
          0.7899155231540459,
          0.7890388331864502,
          0.7882114995602737,
          0.7874321294305422,
          0.786699344207616
         ]
        }
       ],
       "layout": {
        "template": {
         "data": {
          "bar": [
           {
            "error_x": {
             "color": "#2a3f5f"
            },
            "error_y": {
             "color": "#2a3f5f"
            },
            "marker": {
             "line": {
              "color": "#E5ECF6",
              "width": 0.5
             },
             "pattern": {
              "fillmode": "overlay",
              "size": 10,
              "solidity": 0.2
             }
            },
            "type": "bar"
           }
          ],
          "barpolar": [
           {
            "marker": {
             "line": {
              "color": "#E5ECF6",
              "width": 0.5
             },
             "pattern": {
              "fillmode": "overlay",
              "size": 10,
              "solidity": 0.2
             }
            },
            "type": "barpolar"
           }
          ],
          "carpet": [
           {
            "aaxis": {
             "endlinecolor": "#2a3f5f",
             "gridcolor": "white",
             "linecolor": "white",
             "minorgridcolor": "white",
             "startlinecolor": "#2a3f5f"
            },
            "baxis": {
             "endlinecolor": "#2a3f5f",
             "gridcolor": "white",
             "linecolor": "white",
             "minorgridcolor": "white",
             "startlinecolor": "#2a3f5f"
            },
            "type": "carpet"
           }
          ],
          "choropleth": [
           {
            "colorbar": {
             "outlinewidth": 0,
             "ticks": ""
            },
            "type": "choropleth"
           }
          ],
          "contour": [
           {
            "colorbar": {
             "outlinewidth": 0,
             "ticks": ""
            },
            "colorscale": [
             [
              0,
              "#0d0887"
             ],
             [
              0.1111111111111111,
              "#46039f"
             ],
             [
              0.2222222222222222,
              "#7201a8"
             ],
             [
              0.3333333333333333,
              "#9c179e"
             ],
             [
              0.4444444444444444,
              "#bd3786"
             ],
             [
              0.5555555555555556,
              "#d8576b"
             ],
             [
              0.6666666666666666,
              "#ed7953"
             ],
             [
              0.7777777777777778,
              "#fb9f3a"
             ],
             [
              0.8888888888888888,
              "#fdca26"
             ],
             [
              1,
              "#f0f921"
             ]
            ],
            "type": "contour"
           }
          ],
          "contourcarpet": [
           {
            "colorbar": {
             "outlinewidth": 0,
             "ticks": ""
            },
            "type": "contourcarpet"
           }
          ],
          "heatmap": [
           {
            "colorbar": {
             "outlinewidth": 0,
             "ticks": ""
            },
            "colorscale": [
             [
              0,
              "#0d0887"
             ],
             [
              0.1111111111111111,
              "#46039f"
             ],
             [
              0.2222222222222222,
              "#7201a8"
             ],
             [
              0.3333333333333333,
              "#9c179e"
             ],
             [
              0.4444444444444444,
              "#bd3786"
             ],
             [
              0.5555555555555556,
              "#d8576b"
             ],
             [
              0.6666666666666666,
              "#ed7953"
             ],
             [
              0.7777777777777778,
              "#fb9f3a"
             ],
             [
              0.8888888888888888,
              "#fdca26"
             ],
             [
              1,
              "#f0f921"
             ]
            ],
            "type": "heatmap"
           }
          ],
          "heatmapgl": [
           {
            "colorbar": {
             "outlinewidth": 0,
             "ticks": ""
            },
            "colorscale": [
             [
              0,
              "#0d0887"
             ],
             [
              0.1111111111111111,
              "#46039f"
             ],
             [
              0.2222222222222222,
              "#7201a8"
             ],
             [
              0.3333333333333333,
              "#9c179e"
             ],
             [
              0.4444444444444444,
              "#bd3786"
             ],
             [
              0.5555555555555556,
              "#d8576b"
             ],
             [
              0.6666666666666666,
              "#ed7953"
             ],
             [
              0.7777777777777778,
              "#fb9f3a"
             ],
             [
              0.8888888888888888,
              "#fdca26"
             ],
             [
              1,
              "#f0f921"
             ]
            ],
            "type": "heatmapgl"
           }
          ],
          "histogram": [
           {
            "marker": {
             "pattern": {
              "fillmode": "overlay",
              "size": 10,
              "solidity": 0.2
             }
            },
            "type": "histogram"
           }
          ],
          "histogram2d": [
           {
            "colorbar": {
             "outlinewidth": 0,
             "ticks": ""
            },
            "colorscale": [
             [
              0,
              "#0d0887"
             ],
             [
              0.1111111111111111,
              "#46039f"
             ],
             [
              0.2222222222222222,
              "#7201a8"
             ],
             [
              0.3333333333333333,
              "#9c179e"
             ],
             [
              0.4444444444444444,
              "#bd3786"
             ],
             [
              0.5555555555555556,
              "#d8576b"
             ],
             [
              0.6666666666666666,
              "#ed7953"
             ],
             [
              0.7777777777777778,
              "#fb9f3a"
             ],
             [
              0.8888888888888888,
              "#fdca26"
             ],
             [
              1,
              "#f0f921"
             ]
            ],
            "type": "histogram2d"
           }
          ],
          "histogram2dcontour": [
           {
            "colorbar": {
             "outlinewidth": 0,
             "ticks": ""
            },
            "colorscale": [
             [
              0,
              "#0d0887"
             ],
             [
              0.1111111111111111,
              "#46039f"
             ],
             [
              0.2222222222222222,
              "#7201a8"
             ],
             [
              0.3333333333333333,
              "#9c179e"
             ],
             [
              0.4444444444444444,
              "#bd3786"
             ],
             [
              0.5555555555555556,
              "#d8576b"
             ],
             [
              0.6666666666666666,
              "#ed7953"
             ],
             [
              0.7777777777777778,
              "#fb9f3a"
             ],
             [
              0.8888888888888888,
              "#fdca26"
             ],
             [
              1,
              "#f0f921"
             ]
            ],
            "type": "histogram2dcontour"
           }
          ],
          "mesh3d": [
           {
            "colorbar": {
             "outlinewidth": 0,
             "ticks": ""
            },
            "type": "mesh3d"
           }
          ],
          "parcoords": [
           {
            "line": {
             "colorbar": {
              "outlinewidth": 0,
              "ticks": ""
             }
            },
            "type": "parcoords"
           }
          ],
          "pie": [
           {
            "automargin": true,
            "type": "pie"
           }
          ],
          "scatter": [
           {
            "fillpattern": {
             "fillmode": "overlay",
             "size": 10,
             "solidity": 0.2
            },
            "type": "scatter"
           }
          ],
          "scatter3d": [
           {
            "line": {
             "colorbar": {
              "outlinewidth": 0,
              "ticks": ""
             }
            },
            "marker": {
             "colorbar": {
              "outlinewidth": 0,
              "ticks": ""
             }
            },
            "type": "scatter3d"
           }
          ],
          "scattercarpet": [
           {
            "marker": {
             "colorbar": {
              "outlinewidth": 0,
              "ticks": ""
             }
            },
            "type": "scattercarpet"
           }
          ],
          "scattergeo": [
           {
            "marker": {
             "colorbar": {
              "outlinewidth": 0,
              "ticks": ""
             }
            },
            "type": "scattergeo"
           }
          ],
          "scattergl": [
           {
            "marker": {
             "colorbar": {
              "outlinewidth": 0,
              "ticks": ""
             }
            },
            "type": "scattergl"
           }
          ],
          "scattermapbox": [
           {
            "marker": {
             "colorbar": {
              "outlinewidth": 0,
              "ticks": ""
             }
            },
            "type": "scattermapbox"
           }
          ],
          "scatterpolar": [
           {
            "marker": {
             "colorbar": {
              "outlinewidth": 0,
              "ticks": ""
             }
            },
            "type": "scatterpolar"
           }
          ],
          "scatterpolargl": [
           {
            "marker": {
             "colorbar": {
              "outlinewidth": 0,
              "ticks": ""
             }
            },
            "type": "scatterpolargl"
           }
          ],
          "scatterternary": [
           {
            "marker": {
             "colorbar": {
              "outlinewidth": 0,
              "ticks": ""
             }
            },
            "type": "scatterternary"
           }
          ],
          "surface": [
           {
            "colorbar": {
             "outlinewidth": 0,
             "ticks": ""
            },
            "colorscale": [
             [
              0,
              "#0d0887"
             ],
             [
              0.1111111111111111,
              "#46039f"
             ],
             [
              0.2222222222222222,
              "#7201a8"
             ],
             [
              0.3333333333333333,
              "#9c179e"
             ],
             [
              0.4444444444444444,
              "#bd3786"
             ],
             [
              0.5555555555555556,
              "#d8576b"
             ],
             [
              0.6666666666666666,
              "#ed7953"
             ],
             [
              0.7777777777777778,
              "#fb9f3a"
             ],
             [
              0.8888888888888888,
              "#fdca26"
             ],
             [
              1,
              "#f0f921"
             ]
            ],
            "type": "surface"
           }
          ],
          "table": [
           {
            "cells": {
             "fill": {
              "color": "#EBF0F8"
             },
             "line": {
              "color": "white"
             }
            },
            "header": {
             "fill": {
              "color": "#C8D4E3"
             },
             "line": {
              "color": "white"
             }
            },
            "type": "table"
           }
          ]
         },
         "layout": {
          "annotationdefaults": {
           "arrowcolor": "#2a3f5f",
           "arrowhead": 0,
           "arrowwidth": 1
          },
          "autotypenumbers": "strict",
          "coloraxis": {
           "colorbar": {
            "outlinewidth": 0,
            "ticks": ""
           }
          },
          "colorscale": {
           "diverging": [
            [
             0,
             "#8e0152"
            ],
            [
             0.1,
             "#c51b7d"
            ],
            [
             0.2,
             "#de77ae"
            ],
            [
             0.3,
             "#f1b6da"
            ],
            [
             0.4,
             "#fde0ef"
            ],
            [
             0.5,
             "#f7f7f7"
            ],
            [
             0.6,
             "#e6f5d0"
            ],
            [
             0.7,
             "#b8e186"
            ],
            [
             0.8,
             "#7fbc41"
            ],
            [
             0.9,
             "#4d9221"
            ],
            [
             1,
             "#276419"
            ]
           ],
           "sequential": [
            [
             0,
             "#0d0887"
            ],
            [
             0.1111111111111111,
             "#46039f"
            ],
            [
             0.2222222222222222,
             "#7201a8"
            ],
            [
             0.3333333333333333,
             "#9c179e"
            ],
            [
             0.4444444444444444,
             "#bd3786"
            ],
            [
             0.5555555555555556,
             "#d8576b"
            ],
            [
             0.6666666666666666,
             "#ed7953"
            ],
            [
             0.7777777777777778,
             "#fb9f3a"
            ],
            [
             0.8888888888888888,
             "#fdca26"
            ],
            [
             1,
             "#f0f921"
            ]
           ],
           "sequentialminus": [
            [
             0,
             "#0d0887"
            ],
            [
             0.1111111111111111,
             "#46039f"
            ],
            [
             0.2222222222222222,
             "#7201a8"
            ],
            [
             0.3333333333333333,
             "#9c179e"
            ],
            [
             0.4444444444444444,
             "#bd3786"
            ],
            [
             0.5555555555555556,
             "#d8576b"
            ],
            [
             0.6666666666666666,
             "#ed7953"
            ],
            [
             0.7777777777777778,
             "#fb9f3a"
            ],
            [
             0.8888888888888888,
             "#fdca26"
            ],
            [
             1,
             "#f0f921"
            ]
           ]
          },
          "colorway": [
           "#636efa",
           "#EF553B",
           "#00cc96",
           "#ab63fa",
           "#FFA15A",
           "#19d3f3",
           "#FF6692",
           "#B6E880",
           "#FF97FF",
           "#FECB52"
          ],
          "font": {
           "color": "#2a3f5f"
          },
          "geo": {
           "bgcolor": "white",
           "lakecolor": "white",
           "landcolor": "#E5ECF6",
           "showlakes": true,
           "showland": true,
           "subunitcolor": "white"
          },
          "hoverlabel": {
           "align": "left"
          },
          "hovermode": "closest",
          "mapbox": {
           "style": "light"
          },
          "paper_bgcolor": "white",
          "plot_bgcolor": "#E5ECF6",
          "polar": {
           "angularaxis": {
            "gridcolor": "white",
            "linecolor": "white",
            "ticks": ""
           },
           "bgcolor": "#E5ECF6",
           "radialaxis": {
            "gridcolor": "white",
            "linecolor": "white",
            "ticks": ""
           }
          },
          "scene": {
           "xaxis": {
            "backgroundcolor": "#E5ECF6",
            "gridcolor": "white",
            "gridwidth": 2,
            "linecolor": "white",
            "showbackground": true,
            "ticks": "",
            "zerolinecolor": "white"
           },
           "yaxis": {
            "backgroundcolor": "#E5ECF6",
            "gridcolor": "white",
            "gridwidth": 2,
            "linecolor": "white",
            "showbackground": true,
            "ticks": "",
            "zerolinecolor": "white"
           },
           "zaxis": {
            "backgroundcolor": "#E5ECF6",
            "gridcolor": "white",
            "gridwidth": 2,
            "linecolor": "white",
            "showbackground": true,
            "ticks": "",
            "zerolinecolor": "white"
           }
          },
          "shapedefaults": {
           "line": {
            "color": "#2a3f5f"
           }
          },
          "ternary": {
           "aaxis": {
            "gridcolor": "white",
            "linecolor": "white",
            "ticks": ""
           },
           "baxis": {
            "gridcolor": "white",
            "linecolor": "white",
            "ticks": ""
           },
           "bgcolor": "#E5ECF6",
           "caxis": {
            "gridcolor": "white",
            "linecolor": "white",
            "ticks": ""
           }
          },
          "title": {
           "x": 0.05
          },
          "xaxis": {
           "automargin": true,
           "gridcolor": "white",
           "linecolor": "white",
           "ticks": "",
           "title": {
            "standoff": 15
           },
           "zerolinecolor": "white",
           "zerolinewidth": 2
          },
          "yaxis": {
           "automargin": true,
           "gridcolor": "white",
           "linecolor": "white",
           "ticks": "",
           "title": {
            "standoff": 15
           },
           "zerolinecolor": "white",
           "zerolinewidth": 2
          }
         }
        },
        "title": {
         "text": "Transmitancia Experimental vs Simulada"
        },
        "xaxis": {
         "title": {
          "text": "Longitud de onda (nm)"
         }
        },
        "yaxis": {
         "title": {
          "text": "Transmitancia"
         }
        }
       }
      }
     },
     "metadata": {},
     "output_type": "display_data"
    },
    {
     "data": {
      "application/vnd.plotly.v1+json": {
       "config": {
        "plotlyServerURL": "https://plot.ly"
       },
       "data": [
        {
         "mode": "lines",
         "name": "n",
         "type": "scatter",
         "x": [
          300,
          308.0808080808081,
          316.16161616161617,
          324.24242424242425,
          332.32323232323233,
          340.4040404040404,
          348.4848484848485,
          356.5656565656566,
          364.64646464646466,
          372.72727272727275,
          380.80808080808083,
          388.8888888888889,
          396.969696969697,
          405.0505050505051,
          413.13131313131316,
          421.21212121212125,
          429.29292929292933,
          437.3737373737374,
          445.4545454545455,
          453.5353535353536,
          461.61616161616166,
          469.69696969696975,
          477.7777777777778,
          485.8585858585859,
          493.93939393939394,
          502.020202020202,
          510.1010101010101,
          518.1818181818182,
          526.2626262626263,
          534.3434343434344,
          542.4242424242425,
          550.5050505050506,
          558.5858585858587,
          566.6666666666667,
          574.7474747474748,
          582.8282828282829,
          590.909090909091,
          598.9898989898991,
          607.0707070707072,
          615.1515151515152,
          623.2323232323233,
          631.3131313131314,
          639.3939393939395,
          647.4747474747476,
          655.5555555555557,
          663.6363636363637,
          671.7171717171718,
          679.7979797979799,
          687.8787878787879,
          695.959595959596,
          704.040404040404,
          712.1212121212121,
          720.2020202020202,
          728.2828282828283,
          736.3636363636364,
          744.4444444444445,
          752.5252525252525,
          760.6060606060606,
          768.6868686868687,
          776.7676767676768,
          784.8484848484849,
          792.929292929293,
          801.010101010101,
          809.0909090909091,
          817.1717171717172,
          825.2525252525253,
          833.3333333333334,
          841.4141414141415,
          849.4949494949495,
          857.5757575757576,
          865.6565656565657,
          873.7373737373738,
          881.8181818181819,
          889.89898989899,
          897.979797979798,
          906.0606060606061,
          914.1414141414142,
          922.2222222222223,
          930.3030303030304,
          938.3838383838385,
          946.4646464646465,
          954.5454545454546,
          962.6262626262627,
          970.7070707070708,
          978.7878787878789,
          986.868686868687,
          994.949494949495,
          1003.0303030303031,
          1011.1111111111112,
          1019.1919191919193,
          1027.2727272727275,
          1035.3535353535353,
          1043.4343434343436,
          1051.5151515151515,
          1059.5959595959598,
          1067.6767676767677,
          1075.7575757575758,
          1083.8383838383838,
          1091.919191919192,
          1100
         ],
         "y": [
          3.252882027942219,
          3.0776261282006305,
          2.902370228459044,
          2.7271143287174575,
          2.5518584289820456,
          2.3766025292466337,
          2.3476934325309076,
          2.3187843358151814,
          2.2898752390994552,
          2.260966142383729,
          2.232057045668003,
          2.2031479489522767,
          2.1742388522365506,
          2.1453297555208244,
          2.116420658805098,
          2.087511562089372,
          2.058602465373646,
          2.0296933686579197,
          2.0007842719421935,
          1.9718751752264674,
          1.9690505666740727,
          1.966225958121678,
          1.9634013495692835,
          1.9605767410168888,
          1.9577521324644942,
          1.9549275239120996,
          1.952102915359705,
          1.9492783068073103,
          1.9464536982549157,
          1.9436290897037474,
          1.940804481152579,
          1.9379798726014108,
          1.9379798726014108,
          1.9379798726014108,
          1.9379798726014108,
          1.9379798726014108,
          1.9379798726014108,
          1.9379798726014108,
          1.9379798726014108,
          1.9379798726014108,
          1.9379798726014108,
          1.9379798726014108,
          1.9379798726014108,
          1.9379798726014108,
          1.9379798726014108,
          1.9379798726014108,
          1.9379798726014108,
          1.9379798726014108,
          1.9379798726014108,
          1.9379798726014108,
          1.9379798726014108,
          1.9379798726014108,
          1.9379798726014108,
          1.9379798726014108,
          1.9379798726014108,
          1.9379798726014108,
          1.9379798726014108,
          1.9379798726014108,
          1.9379798726014108,
          1.9379798726014108,
          1.9379798726014108,
          1.9379798726014108,
          1.9379798726014108,
          1.9379798726014108,
          1.9379798726014108,
          1.9379798726014108,
          1.9379798726014108,
          1.9379798726014108,
          1.9379798726014108,
          1.9379798726014108,
          1.9379798726014108,
          1.9379798726014108,
          1.9379798726014108,
          1.9379798726014108,
          1.9379798726014108,
          1.9379798726014108,
          1.9379798726014108,
          1.9379798726014108,
          1.9379798726014108,
          1.9379798726014108,
          1.9379798726014108,
          1.9379798726014108,
          1.9379798726014108,
          1.9379798726014108,
          1.9379798726014108,
          1.9379798726014108,
          1.9379798726014108,
          1.9379798726014108,
          1.9379798726014108,
          1.9379798726014108,
          1.9379798726014108,
          1.9379798726014108,
          1.9379798726014108,
          1.9379798726014108,
          1.9379798726014108,
          1.9379798726014108,
          1.9379798726014108,
          1.9379798726014108,
          1.9379798726014108,
          1.9379798726014108
         ]
        }
       ],
       "layout": {
        "template": {
         "data": {
          "bar": [
           {
            "error_x": {
             "color": "#2a3f5f"
            },
            "error_y": {
             "color": "#2a3f5f"
            },
            "marker": {
             "line": {
              "color": "#E5ECF6",
              "width": 0.5
             },
             "pattern": {
              "fillmode": "overlay",
              "size": 10,
              "solidity": 0.2
             }
            },
            "type": "bar"
           }
          ],
          "barpolar": [
           {
            "marker": {
             "line": {
              "color": "#E5ECF6",
              "width": 0.5
             },
             "pattern": {
              "fillmode": "overlay",
              "size": 10,
              "solidity": 0.2
             }
            },
            "type": "barpolar"
           }
          ],
          "carpet": [
           {
            "aaxis": {
             "endlinecolor": "#2a3f5f",
             "gridcolor": "white",
             "linecolor": "white",
             "minorgridcolor": "white",
             "startlinecolor": "#2a3f5f"
            },
            "baxis": {
             "endlinecolor": "#2a3f5f",
             "gridcolor": "white",
             "linecolor": "white",
             "minorgridcolor": "white",
             "startlinecolor": "#2a3f5f"
            },
            "type": "carpet"
           }
          ],
          "choropleth": [
           {
            "colorbar": {
             "outlinewidth": 0,
             "ticks": ""
            },
            "type": "choropleth"
           }
          ],
          "contour": [
           {
            "colorbar": {
             "outlinewidth": 0,
             "ticks": ""
            },
            "colorscale": [
             [
              0,
              "#0d0887"
             ],
             [
              0.1111111111111111,
              "#46039f"
             ],
             [
              0.2222222222222222,
              "#7201a8"
             ],
             [
              0.3333333333333333,
              "#9c179e"
             ],
             [
              0.4444444444444444,
              "#bd3786"
             ],
             [
              0.5555555555555556,
              "#d8576b"
             ],
             [
              0.6666666666666666,
              "#ed7953"
             ],
             [
              0.7777777777777778,
              "#fb9f3a"
             ],
             [
              0.8888888888888888,
              "#fdca26"
             ],
             [
              1,
              "#f0f921"
             ]
            ],
            "type": "contour"
           }
          ],
          "contourcarpet": [
           {
            "colorbar": {
             "outlinewidth": 0,
             "ticks": ""
            },
            "type": "contourcarpet"
           }
          ],
          "heatmap": [
           {
            "colorbar": {
             "outlinewidth": 0,
             "ticks": ""
            },
            "colorscale": [
             [
              0,
              "#0d0887"
             ],
             [
              0.1111111111111111,
              "#46039f"
             ],
             [
              0.2222222222222222,
              "#7201a8"
             ],
             [
              0.3333333333333333,
              "#9c179e"
             ],
             [
              0.4444444444444444,
              "#bd3786"
             ],
             [
              0.5555555555555556,
              "#d8576b"
             ],
             [
              0.6666666666666666,
              "#ed7953"
             ],
             [
              0.7777777777777778,
              "#fb9f3a"
             ],
             [
              0.8888888888888888,
              "#fdca26"
             ],
             [
              1,
              "#f0f921"
             ]
            ],
            "type": "heatmap"
           }
          ],
          "heatmapgl": [
           {
            "colorbar": {
             "outlinewidth": 0,
             "ticks": ""
            },
            "colorscale": [
             [
              0,
              "#0d0887"
             ],
             [
              0.1111111111111111,
              "#46039f"
             ],
             [
              0.2222222222222222,
              "#7201a8"
             ],
             [
              0.3333333333333333,
              "#9c179e"
             ],
             [
              0.4444444444444444,
              "#bd3786"
             ],
             [
              0.5555555555555556,
              "#d8576b"
             ],
             [
              0.6666666666666666,
              "#ed7953"
             ],
             [
              0.7777777777777778,
              "#fb9f3a"
             ],
             [
              0.8888888888888888,
              "#fdca26"
             ],
             [
              1,
              "#f0f921"
             ]
            ],
            "type": "heatmapgl"
           }
          ],
          "histogram": [
           {
            "marker": {
             "pattern": {
              "fillmode": "overlay",
              "size": 10,
              "solidity": 0.2
             }
            },
            "type": "histogram"
           }
          ],
          "histogram2d": [
           {
            "colorbar": {
             "outlinewidth": 0,
             "ticks": ""
            },
            "colorscale": [
             [
              0,
              "#0d0887"
             ],
             [
              0.1111111111111111,
              "#46039f"
             ],
             [
              0.2222222222222222,
              "#7201a8"
             ],
             [
              0.3333333333333333,
              "#9c179e"
             ],
             [
              0.4444444444444444,
              "#bd3786"
             ],
             [
              0.5555555555555556,
              "#d8576b"
             ],
             [
              0.6666666666666666,
              "#ed7953"
             ],
             [
              0.7777777777777778,
              "#fb9f3a"
             ],
             [
              0.8888888888888888,
              "#fdca26"
             ],
             [
              1,
              "#f0f921"
             ]
            ],
            "type": "histogram2d"
           }
          ],
          "histogram2dcontour": [
           {
            "colorbar": {
             "outlinewidth": 0,
             "ticks": ""
            },
            "colorscale": [
             [
              0,
              "#0d0887"
             ],
             [
              0.1111111111111111,
              "#46039f"
             ],
             [
              0.2222222222222222,
              "#7201a8"
             ],
             [
              0.3333333333333333,
              "#9c179e"
             ],
             [
              0.4444444444444444,
              "#bd3786"
             ],
             [
              0.5555555555555556,
              "#d8576b"
             ],
             [
              0.6666666666666666,
              "#ed7953"
             ],
             [
              0.7777777777777778,
              "#fb9f3a"
             ],
             [
              0.8888888888888888,
              "#fdca26"
             ],
             [
              1,
              "#f0f921"
             ]
            ],
            "type": "histogram2dcontour"
           }
          ],
          "mesh3d": [
           {
            "colorbar": {
             "outlinewidth": 0,
             "ticks": ""
            },
            "type": "mesh3d"
           }
          ],
          "parcoords": [
           {
            "line": {
             "colorbar": {
              "outlinewidth": 0,
              "ticks": ""
             }
            },
            "type": "parcoords"
           }
          ],
          "pie": [
           {
            "automargin": true,
            "type": "pie"
           }
          ],
          "scatter": [
           {
            "fillpattern": {
             "fillmode": "overlay",
             "size": 10,
             "solidity": 0.2
            },
            "type": "scatter"
           }
          ],
          "scatter3d": [
           {
            "line": {
             "colorbar": {
              "outlinewidth": 0,
              "ticks": ""
             }
            },
            "marker": {
             "colorbar": {
              "outlinewidth": 0,
              "ticks": ""
             }
            },
            "type": "scatter3d"
           }
          ],
          "scattercarpet": [
           {
            "marker": {
             "colorbar": {
              "outlinewidth": 0,
              "ticks": ""
             }
            },
            "type": "scattercarpet"
           }
          ],
          "scattergeo": [
           {
            "marker": {
             "colorbar": {
              "outlinewidth": 0,
              "ticks": ""
             }
            },
            "type": "scattergeo"
           }
          ],
          "scattergl": [
           {
            "marker": {
             "colorbar": {
              "outlinewidth": 0,
              "ticks": ""
             }
            },
            "type": "scattergl"
           }
          ],
          "scattermapbox": [
           {
            "marker": {
             "colorbar": {
              "outlinewidth": 0,
              "ticks": ""
             }
            },
            "type": "scattermapbox"
           }
          ],
          "scatterpolar": [
           {
            "marker": {
             "colorbar": {
              "outlinewidth": 0,
              "ticks": ""
             }
            },
            "type": "scatterpolar"
           }
          ],
          "scatterpolargl": [
           {
            "marker": {
             "colorbar": {
              "outlinewidth": 0,
              "ticks": ""
             }
            },
            "type": "scatterpolargl"
           }
          ],
          "scatterternary": [
           {
            "marker": {
             "colorbar": {
              "outlinewidth": 0,
              "ticks": ""
             }
            },
            "type": "scatterternary"
           }
          ],
          "surface": [
           {
            "colorbar": {
             "outlinewidth": 0,
             "ticks": ""
            },
            "colorscale": [
             [
              0,
              "#0d0887"
             ],
             [
              0.1111111111111111,
              "#46039f"
             ],
             [
              0.2222222222222222,
              "#7201a8"
             ],
             [
              0.3333333333333333,
              "#9c179e"
             ],
             [
              0.4444444444444444,
              "#bd3786"
             ],
             [
              0.5555555555555556,
              "#d8576b"
             ],
             [
              0.6666666666666666,
              "#ed7953"
             ],
             [
              0.7777777777777778,
              "#fb9f3a"
             ],
             [
              0.8888888888888888,
              "#fdca26"
             ],
             [
              1,
              "#f0f921"
             ]
            ],
            "type": "surface"
           }
          ],
          "table": [
           {
            "cells": {
             "fill": {
              "color": "#EBF0F8"
             },
             "line": {
              "color": "white"
             }
            },
            "header": {
             "fill": {
              "color": "#C8D4E3"
             },
             "line": {
              "color": "white"
             }
            },
            "type": "table"
           }
          ]
         },
         "layout": {
          "annotationdefaults": {
           "arrowcolor": "#2a3f5f",
           "arrowhead": 0,
           "arrowwidth": 1
          },
          "autotypenumbers": "strict",
          "coloraxis": {
           "colorbar": {
            "outlinewidth": 0,
            "ticks": ""
           }
          },
          "colorscale": {
           "diverging": [
            [
             0,
             "#8e0152"
            ],
            [
             0.1,
             "#c51b7d"
            ],
            [
             0.2,
             "#de77ae"
            ],
            [
             0.3,
             "#f1b6da"
            ],
            [
             0.4,
             "#fde0ef"
            ],
            [
             0.5,
             "#f7f7f7"
            ],
            [
             0.6,
             "#e6f5d0"
            ],
            [
             0.7,
             "#b8e186"
            ],
            [
             0.8,
             "#7fbc41"
            ],
            [
             0.9,
             "#4d9221"
            ],
            [
             1,
             "#276419"
            ]
           ],
           "sequential": [
            [
             0,
             "#0d0887"
            ],
            [
             0.1111111111111111,
             "#46039f"
            ],
            [
             0.2222222222222222,
             "#7201a8"
            ],
            [
             0.3333333333333333,
             "#9c179e"
            ],
            [
             0.4444444444444444,
             "#bd3786"
            ],
            [
             0.5555555555555556,
             "#d8576b"
            ],
            [
             0.6666666666666666,
             "#ed7953"
            ],
            [
             0.7777777777777778,
             "#fb9f3a"
            ],
            [
             0.8888888888888888,
             "#fdca26"
            ],
            [
             1,
             "#f0f921"
            ]
           ],
           "sequentialminus": [
            [
             0,
             "#0d0887"
            ],
            [
             0.1111111111111111,
             "#46039f"
            ],
            [
             0.2222222222222222,
             "#7201a8"
            ],
            [
             0.3333333333333333,
             "#9c179e"
            ],
            [
             0.4444444444444444,
             "#bd3786"
            ],
            [
             0.5555555555555556,
             "#d8576b"
            ],
            [
             0.6666666666666666,
             "#ed7953"
            ],
            [
             0.7777777777777778,
             "#fb9f3a"
            ],
            [
             0.8888888888888888,
             "#fdca26"
            ],
            [
             1,
             "#f0f921"
            ]
           ]
          },
          "colorway": [
           "#636efa",
           "#EF553B",
           "#00cc96",
           "#ab63fa",
           "#FFA15A",
           "#19d3f3",
           "#FF6692",
           "#B6E880",
           "#FF97FF",
           "#FECB52"
          ],
          "font": {
           "color": "#2a3f5f"
          },
          "geo": {
           "bgcolor": "white",
           "lakecolor": "white",
           "landcolor": "#E5ECF6",
           "showlakes": true,
           "showland": true,
           "subunitcolor": "white"
          },
          "hoverlabel": {
           "align": "left"
          },
          "hovermode": "closest",
          "mapbox": {
           "style": "light"
          },
          "paper_bgcolor": "white",
          "plot_bgcolor": "#E5ECF6",
          "polar": {
           "angularaxis": {
            "gridcolor": "white",
            "linecolor": "white",
            "ticks": ""
           },
           "bgcolor": "#E5ECF6",
           "radialaxis": {
            "gridcolor": "white",
            "linecolor": "white",
            "ticks": ""
           }
          },
          "scene": {
           "xaxis": {
            "backgroundcolor": "#E5ECF6",
            "gridcolor": "white",
            "gridwidth": 2,
            "linecolor": "white",
            "showbackground": true,
            "ticks": "",
            "zerolinecolor": "white"
           },
           "yaxis": {
            "backgroundcolor": "#E5ECF6",
            "gridcolor": "white",
            "gridwidth": 2,
            "linecolor": "white",
            "showbackground": true,
            "ticks": "",
            "zerolinecolor": "white"
           },
           "zaxis": {
            "backgroundcolor": "#E5ECF6",
            "gridcolor": "white",
            "gridwidth": 2,
            "linecolor": "white",
            "showbackground": true,
            "ticks": "",
            "zerolinecolor": "white"
           }
          },
          "shapedefaults": {
           "line": {
            "color": "#2a3f5f"
           }
          },
          "ternary": {
           "aaxis": {
            "gridcolor": "white",
            "linecolor": "white",
            "ticks": ""
           },
           "baxis": {
            "gridcolor": "white",
            "linecolor": "white",
            "ticks": ""
           },
           "bgcolor": "#E5ECF6",
           "caxis": {
            "gridcolor": "white",
            "linecolor": "white",
            "ticks": ""
           }
          },
          "title": {
           "x": 0.05
          },
          "xaxis": {
           "automargin": true,
           "gridcolor": "white",
           "linecolor": "white",
           "ticks": "",
           "title": {
            "standoff": 15
           },
           "zerolinecolor": "white",
           "zerolinewidth": 2
          },
          "yaxis": {
           "automargin": true,
           "gridcolor": "white",
           "linecolor": "white",
           "ticks": "",
           "title": {
            "standoff": 15
           },
           "zerolinecolor": "white",
           "zerolinewidth": 2
          }
         }
        },
        "title": {
         "text": "Índice de Refracción vs λ"
        },
        "xaxis": {
         "title": {
          "text": "Longitud de onda (nm)"
         }
        },
        "yaxis": {
         "title": {
          "text": "n"
         }
        }
       }
      }
     },
     "metadata": {},
     "output_type": "display_data"
    },
    {
     "data": {
      "application/vnd.plotly.v1+json": {
       "config": {
        "plotlyServerURL": "https://plot.ly"
       },
       "data": [
        {
         "mode": "lines",
         "name": "κ",
         "type": "scatter",
         "x": [
          300,
          308.0808080808081,
          316.16161616161617,
          324.24242424242425,
          332.32323232323233,
          340.4040404040404,
          348.4848484848485,
          356.5656565656566,
          364.64646464646466,
          372.72727272727275,
          380.80808080808083,
          388.8888888888889,
          396.969696969697,
          405.0505050505051,
          413.13131313131316,
          421.21212121212125,
          429.29292929292933,
          437.3737373737374,
          445.4545454545455,
          453.5353535353536,
          461.61616161616166,
          469.69696969696975,
          477.7777777777778,
          485.8585858585859,
          493.93939393939394,
          502.020202020202,
          510.1010101010101,
          518.1818181818182,
          526.2626262626263,
          534.3434343434344,
          542.4242424242425,
          550.5050505050506,
          558.5858585858587,
          566.6666666666667,
          574.7474747474748,
          582.8282828282829,
          590.909090909091,
          598.9898989898991,
          607.0707070707072,
          615.1515151515152,
          623.2323232323233,
          631.3131313131314,
          639.3939393939395,
          647.4747474747476,
          655.5555555555557,
          663.6363636363637,
          671.7171717171718,
          679.7979797979799,
          687.8787878787879,
          695.959595959596,
          704.040404040404,
          712.1212121212121,
          720.2020202020202,
          728.2828282828283,
          736.3636363636364,
          744.4444444444445,
          752.5252525252525,
          760.6060606060606,
          768.6868686868687,
          776.7676767676768,
          784.8484848484849,
          792.929292929293,
          801.010101010101,
          809.0909090909091,
          817.1717171717172,
          825.2525252525253,
          833.3333333333334,
          841.4141414141415,
          849.4949494949495,
          857.5757575757576,
          865.6565656565657,
          873.7373737373738,
          881.8181818181819,
          889.89898989899,
          897.979797979798,
          906.0606060606061,
          914.1414141414142,
          922.2222222222223,
          930.3030303030304,
          938.3838383838385,
          946.4646464646465,
          954.5454545454546,
          962.6262626262627,
          970.7070707070708,
          978.7878787878789,
          986.868686868687,
          994.949494949495,
          1003.0303030303031,
          1011.1111111111112,
          1019.1919191919193,
          1027.2727272727275,
          1035.3535353535353,
          1043.4343434343436,
          1051.5151515151515,
          1059.5959595959598,
          1067.6767676767677,
          1075.7575757575758,
          1083.8383838383838,
          1091.919191919192,
          1100
         ],
         "y": [
          0.44676910577305395,
          0.24800083808629636,
          0.17384512224031656,
          0.09968940639433675,
          0.02553369054835694,
          0.021340484197587214,
          0.017147277846817487,
          0.01295407149604776,
          0.008760865145278032,
          0.008760865145278032,
          0.008760865145278032,
          0.008760865145278032,
          0.008760865145278032,
          0.008760865145278032,
          0.008760865145278032,
          0.008760865145278032,
          0.008760865145278032,
          0.008760865145278032,
          0.008760865145278032,
          0.008760865145278032,
          0.008760865145278032,
          0.008760865145278032,
          0.008760865145278032,
          0.008760865145278032,
          0.008760865145278032,
          0.008760865145278032,
          0.008760865145278032,
          0.008760865145278032,
          0.008760865145278032,
          0.008760865145278032,
          0.008760865145278032,
          0.008760865145278032,
          0.008760865145278032,
          0.008760865145278032,
          0.008760865145278032,
          0.008760865145278032,
          0.008760865145278032,
          0.008760865145278032,
          0.008760865145278032,
          0.008760865145278032,
          0.008760865145278032,
          0.008760865145278032,
          0.008760865145278032,
          0.008760865145278032,
          0.008760865145278032,
          0.008760865145278032,
          0.008760865145278032,
          0.008760865145278032,
          0.008760865145278032,
          0.008760865145278032,
          0.008760865145278032,
          0.008760865145278032,
          0.008760865145278032,
          0.008760865145278032,
          0.008760865145278032,
          0.008760865145278032,
          0.008760865145278032,
          0.008760865145278032,
          0.008760865145278032,
          0.008760865145278032,
          0.008760865145278032,
          0.008760865145278032,
          0.008760865145278032,
          0.008760865145278032,
          0.008760865145278032,
          0.008760865145278032,
          0.008760865145278032,
          0.008760865145278032,
          0.008760865145278032,
          0.008760865145278032,
          0.008760865145278032,
          0.008760865145278032,
          0.008760865145278032,
          0.008760865145278032,
          0.008760865145278032,
          0.008760865145278032,
          0.008760865145278032,
          0.008760865145278032,
          0.008760865145278032,
          0.008760865145278032,
          0.008760865145278032,
          0.008760865145278032,
          0.008760865145278032,
          0.008760865145278032,
          0.008760865145278032,
          0.008760865145278032,
          0.008760865145278032,
          0.008760865145278032,
          0.008760865145278032,
          0.008760865145278032,
          0.008760865145278032,
          0.008760865145278032,
          0.008760865145278032,
          0.008760865145278032,
          0.008760865145278032,
          0.008760865145278032,
          0.008760865145278032,
          0.008760865145278032,
          0.008760865145278032,
          0.008760865145278032
         ]
        }
       ],
       "layout": {
        "template": {
         "data": {
          "bar": [
           {
            "error_x": {
             "color": "#2a3f5f"
            },
            "error_y": {
             "color": "#2a3f5f"
            },
            "marker": {
             "line": {
              "color": "#E5ECF6",
              "width": 0.5
             },
             "pattern": {
              "fillmode": "overlay",
              "size": 10,
              "solidity": 0.2
             }
            },
            "type": "bar"
           }
          ],
          "barpolar": [
           {
            "marker": {
             "line": {
              "color": "#E5ECF6",
              "width": 0.5
             },
             "pattern": {
              "fillmode": "overlay",
              "size": 10,
              "solidity": 0.2
             }
            },
            "type": "barpolar"
           }
          ],
          "carpet": [
           {
            "aaxis": {
             "endlinecolor": "#2a3f5f",
             "gridcolor": "white",
             "linecolor": "white",
             "minorgridcolor": "white",
             "startlinecolor": "#2a3f5f"
            },
            "baxis": {
             "endlinecolor": "#2a3f5f",
             "gridcolor": "white",
             "linecolor": "white",
             "minorgridcolor": "white",
             "startlinecolor": "#2a3f5f"
            },
            "type": "carpet"
           }
          ],
          "choropleth": [
           {
            "colorbar": {
             "outlinewidth": 0,
             "ticks": ""
            },
            "type": "choropleth"
           }
          ],
          "contour": [
           {
            "colorbar": {
             "outlinewidth": 0,
             "ticks": ""
            },
            "colorscale": [
             [
              0,
              "#0d0887"
             ],
             [
              0.1111111111111111,
              "#46039f"
             ],
             [
              0.2222222222222222,
              "#7201a8"
             ],
             [
              0.3333333333333333,
              "#9c179e"
             ],
             [
              0.4444444444444444,
              "#bd3786"
             ],
             [
              0.5555555555555556,
              "#d8576b"
             ],
             [
              0.6666666666666666,
              "#ed7953"
             ],
             [
              0.7777777777777778,
              "#fb9f3a"
             ],
             [
              0.8888888888888888,
              "#fdca26"
             ],
             [
              1,
              "#f0f921"
             ]
            ],
            "type": "contour"
           }
          ],
          "contourcarpet": [
           {
            "colorbar": {
             "outlinewidth": 0,
             "ticks": ""
            },
            "type": "contourcarpet"
           }
          ],
          "heatmap": [
           {
            "colorbar": {
             "outlinewidth": 0,
             "ticks": ""
            },
            "colorscale": [
             [
              0,
              "#0d0887"
             ],
             [
              0.1111111111111111,
              "#46039f"
             ],
             [
              0.2222222222222222,
              "#7201a8"
             ],
             [
              0.3333333333333333,
              "#9c179e"
             ],
             [
              0.4444444444444444,
              "#bd3786"
             ],
             [
              0.5555555555555556,
              "#d8576b"
             ],
             [
              0.6666666666666666,
              "#ed7953"
             ],
             [
              0.7777777777777778,
              "#fb9f3a"
             ],
             [
              0.8888888888888888,
              "#fdca26"
             ],
             [
              1,
              "#f0f921"
             ]
            ],
            "type": "heatmap"
           }
          ],
          "heatmapgl": [
           {
            "colorbar": {
             "outlinewidth": 0,
             "ticks": ""
            },
            "colorscale": [
             [
              0,
              "#0d0887"
             ],
             [
              0.1111111111111111,
              "#46039f"
             ],
             [
              0.2222222222222222,
              "#7201a8"
             ],
             [
              0.3333333333333333,
              "#9c179e"
             ],
             [
              0.4444444444444444,
              "#bd3786"
             ],
             [
              0.5555555555555556,
              "#d8576b"
             ],
             [
              0.6666666666666666,
              "#ed7953"
             ],
             [
              0.7777777777777778,
              "#fb9f3a"
             ],
             [
              0.8888888888888888,
              "#fdca26"
             ],
             [
              1,
              "#f0f921"
             ]
            ],
            "type": "heatmapgl"
           }
          ],
          "histogram": [
           {
            "marker": {
             "pattern": {
              "fillmode": "overlay",
              "size": 10,
              "solidity": 0.2
             }
            },
            "type": "histogram"
           }
          ],
          "histogram2d": [
           {
            "colorbar": {
             "outlinewidth": 0,
             "ticks": ""
            },
            "colorscale": [
             [
              0,
              "#0d0887"
             ],
             [
              0.1111111111111111,
              "#46039f"
             ],
             [
              0.2222222222222222,
              "#7201a8"
             ],
             [
              0.3333333333333333,
              "#9c179e"
             ],
             [
              0.4444444444444444,
              "#bd3786"
             ],
             [
              0.5555555555555556,
              "#d8576b"
             ],
             [
              0.6666666666666666,
              "#ed7953"
             ],
             [
              0.7777777777777778,
              "#fb9f3a"
             ],
             [
              0.8888888888888888,
              "#fdca26"
             ],
             [
              1,
              "#f0f921"
             ]
            ],
            "type": "histogram2d"
           }
          ],
          "histogram2dcontour": [
           {
            "colorbar": {
             "outlinewidth": 0,
             "ticks": ""
            },
            "colorscale": [
             [
              0,
              "#0d0887"
             ],
             [
              0.1111111111111111,
              "#46039f"
             ],
             [
              0.2222222222222222,
              "#7201a8"
             ],
             [
              0.3333333333333333,
              "#9c179e"
             ],
             [
              0.4444444444444444,
              "#bd3786"
             ],
             [
              0.5555555555555556,
              "#d8576b"
             ],
             [
              0.6666666666666666,
              "#ed7953"
             ],
             [
              0.7777777777777778,
              "#fb9f3a"
             ],
             [
              0.8888888888888888,
              "#fdca26"
             ],
             [
              1,
              "#f0f921"
             ]
            ],
            "type": "histogram2dcontour"
           }
          ],
          "mesh3d": [
           {
            "colorbar": {
             "outlinewidth": 0,
             "ticks": ""
            },
            "type": "mesh3d"
           }
          ],
          "parcoords": [
           {
            "line": {
             "colorbar": {
              "outlinewidth": 0,
              "ticks": ""
             }
            },
            "type": "parcoords"
           }
          ],
          "pie": [
           {
            "automargin": true,
            "type": "pie"
           }
          ],
          "scatter": [
           {
            "fillpattern": {
             "fillmode": "overlay",
             "size": 10,
             "solidity": 0.2
            },
            "type": "scatter"
           }
          ],
          "scatter3d": [
           {
            "line": {
             "colorbar": {
              "outlinewidth": 0,
              "ticks": ""
             }
            },
            "marker": {
             "colorbar": {
              "outlinewidth": 0,
              "ticks": ""
             }
            },
            "type": "scatter3d"
           }
          ],
          "scattercarpet": [
           {
            "marker": {
             "colorbar": {
              "outlinewidth": 0,
              "ticks": ""
             }
            },
            "type": "scattercarpet"
           }
          ],
          "scattergeo": [
           {
            "marker": {
             "colorbar": {
              "outlinewidth": 0,
              "ticks": ""
             }
            },
            "type": "scattergeo"
           }
          ],
          "scattergl": [
           {
            "marker": {
             "colorbar": {
              "outlinewidth": 0,
              "ticks": ""
             }
            },
            "type": "scattergl"
           }
          ],
          "scattermapbox": [
           {
            "marker": {
             "colorbar": {
              "outlinewidth": 0,
              "ticks": ""
             }
            },
            "type": "scattermapbox"
           }
          ],
          "scatterpolar": [
           {
            "marker": {
             "colorbar": {
              "outlinewidth": 0,
              "ticks": ""
             }
            },
            "type": "scatterpolar"
           }
          ],
          "scatterpolargl": [
           {
            "marker": {
             "colorbar": {
              "outlinewidth": 0,
              "ticks": ""
             }
            },
            "type": "scatterpolargl"
           }
          ],
          "scatterternary": [
           {
            "marker": {
             "colorbar": {
              "outlinewidth": 0,
              "ticks": ""
             }
            },
            "type": "scatterternary"
           }
          ],
          "surface": [
           {
            "colorbar": {
             "outlinewidth": 0,
             "ticks": ""
            },
            "colorscale": [
             [
              0,
              "#0d0887"
             ],
             [
              0.1111111111111111,
              "#46039f"
             ],
             [
              0.2222222222222222,
              "#7201a8"
             ],
             [
              0.3333333333333333,
              "#9c179e"
             ],
             [
              0.4444444444444444,
              "#bd3786"
             ],
             [
              0.5555555555555556,
              "#d8576b"
             ],
             [
              0.6666666666666666,
              "#ed7953"
             ],
             [
              0.7777777777777778,
              "#fb9f3a"
             ],
             [
              0.8888888888888888,
              "#fdca26"
             ],
             [
              1,
              "#f0f921"
             ]
            ],
            "type": "surface"
           }
          ],
          "table": [
           {
            "cells": {
             "fill": {
              "color": "#EBF0F8"
             },
             "line": {
              "color": "white"
             }
            },
            "header": {
             "fill": {
              "color": "#C8D4E3"
             },
             "line": {
              "color": "white"
             }
            },
            "type": "table"
           }
          ]
         },
         "layout": {
          "annotationdefaults": {
           "arrowcolor": "#2a3f5f",
           "arrowhead": 0,
           "arrowwidth": 1
          },
          "autotypenumbers": "strict",
          "coloraxis": {
           "colorbar": {
            "outlinewidth": 0,
            "ticks": ""
           }
          },
          "colorscale": {
           "diverging": [
            [
             0,
             "#8e0152"
            ],
            [
             0.1,
             "#c51b7d"
            ],
            [
             0.2,
             "#de77ae"
            ],
            [
             0.3,
             "#f1b6da"
            ],
            [
             0.4,
             "#fde0ef"
            ],
            [
             0.5,
             "#f7f7f7"
            ],
            [
             0.6,
             "#e6f5d0"
            ],
            [
             0.7,
             "#b8e186"
            ],
            [
             0.8,
             "#7fbc41"
            ],
            [
             0.9,
             "#4d9221"
            ],
            [
             1,
             "#276419"
            ]
           ],
           "sequential": [
            [
             0,
             "#0d0887"
            ],
            [
             0.1111111111111111,
             "#46039f"
            ],
            [
             0.2222222222222222,
             "#7201a8"
            ],
            [
             0.3333333333333333,
             "#9c179e"
            ],
            [
             0.4444444444444444,
             "#bd3786"
            ],
            [
             0.5555555555555556,
             "#d8576b"
            ],
            [
             0.6666666666666666,
             "#ed7953"
            ],
            [
             0.7777777777777778,
             "#fb9f3a"
            ],
            [
             0.8888888888888888,
             "#fdca26"
            ],
            [
             1,
             "#f0f921"
            ]
           ],
           "sequentialminus": [
            [
             0,
             "#0d0887"
            ],
            [
             0.1111111111111111,
             "#46039f"
            ],
            [
             0.2222222222222222,
             "#7201a8"
            ],
            [
             0.3333333333333333,
             "#9c179e"
            ],
            [
             0.4444444444444444,
             "#bd3786"
            ],
            [
             0.5555555555555556,
             "#d8576b"
            ],
            [
             0.6666666666666666,
             "#ed7953"
            ],
            [
             0.7777777777777778,
             "#fb9f3a"
            ],
            [
             0.8888888888888888,
             "#fdca26"
            ],
            [
             1,
             "#f0f921"
            ]
           ]
          },
          "colorway": [
           "#636efa",
           "#EF553B",
           "#00cc96",
           "#ab63fa",
           "#FFA15A",
           "#19d3f3",
           "#FF6692",
           "#B6E880",
           "#FF97FF",
           "#FECB52"
          ],
          "font": {
           "color": "#2a3f5f"
          },
          "geo": {
           "bgcolor": "white",
           "lakecolor": "white",
           "landcolor": "#E5ECF6",
           "showlakes": true,
           "showland": true,
           "subunitcolor": "white"
          },
          "hoverlabel": {
           "align": "left"
          },
          "hovermode": "closest",
          "mapbox": {
           "style": "light"
          },
          "paper_bgcolor": "white",
          "plot_bgcolor": "#E5ECF6",
          "polar": {
           "angularaxis": {
            "gridcolor": "white",
            "linecolor": "white",
            "ticks": ""
           },
           "bgcolor": "#E5ECF6",
           "radialaxis": {
            "gridcolor": "white",
            "linecolor": "white",
            "ticks": ""
           }
          },
          "scene": {
           "xaxis": {
            "backgroundcolor": "#E5ECF6",
            "gridcolor": "white",
            "gridwidth": 2,
            "linecolor": "white",
            "showbackground": true,
            "ticks": "",
            "zerolinecolor": "white"
           },
           "yaxis": {
            "backgroundcolor": "#E5ECF6",
            "gridcolor": "white",
            "gridwidth": 2,
            "linecolor": "white",
            "showbackground": true,
            "ticks": "",
            "zerolinecolor": "white"
           },
           "zaxis": {
            "backgroundcolor": "#E5ECF6",
            "gridcolor": "white",
            "gridwidth": 2,
            "linecolor": "white",
            "showbackground": true,
            "ticks": "",
            "zerolinecolor": "white"
           }
          },
          "shapedefaults": {
           "line": {
            "color": "#2a3f5f"
           }
          },
          "ternary": {
           "aaxis": {
            "gridcolor": "white",
            "linecolor": "white",
            "ticks": ""
           },
           "baxis": {
            "gridcolor": "white",
            "linecolor": "white",
            "ticks": ""
           },
           "bgcolor": "#E5ECF6",
           "caxis": {
            "gridcolor": "white",
            "linecolor": "white",
            "ticks": ""
           }
          },
          "title": {
           "x": 0.05
          },
          "xaxis": {
           "automargin": true,
           "gridcolor": "white",
           "linecolor": "white",
           "ticks": "",
           "title": {
            "standoff": 15
           },
           "zerolinecolor": "white",
           "zerolinewidth": 2
          },
          "yaxis": {
           "automargin": true,
           "gridcolor": "white",
           "linecolor": "white",
           "ticks": "",
           "title": {
            "standoff": 15
           },
           "zerolinecolor": "white",
           "zerolinewidth": 2
          }
         }
        },
        "title": {
         "text": "Coeficiente de Extinción κ vs λ"
        },
        "xaxis": {
         "title": {
          "text": "Longitud de onda (nm)"
         }
        },
        "yaxis": {
         "title": {
          "text": "κ"
         }
        }
       }
      }
     },
     "metadata": {},
     "output_type": "display_data"
    },
    {
     "data": {
      "application/vnd.plotly.v1+json": {
       "config": {
        "plotlyServerURL": "https://plot.ly"
       },
       "data": [
        {
         "mode": "lines",
         "name": "α",
         "type": "scatter",
         "x": [
          4.133333333333334,
          4.024918032786886,
          3.922044728434505,
          3.824299065420561,
          3.7313069908814587,
          3.6427299703264095,
          3.5582608695652174,
          3.4776203966005665,
          3.4005540166204984,
          3.3268292682926828,
          3.2562334217506628,
          3.188571428571428,
          3.1236641221374044,
          3.0613466334164587,
          3.0014669926650366,
          2.9438848920863308,
          2.8884705882352937,
          2.8351039260969975,
          2.7836734693877547,
          2.7340757238307347,
          2.686214442013129,
          2.6399999999999997,
          2.595348837209302,
          2.5521829521829518,
          2.510429447852761,
          2.470020120724346,
          2.430891089108911,
          2.3929824561403508,
          2.3562380038387714,
          2.320604914933837,
          2.2860335195530723,
          2.2524770642201832,
          2.2198915009041587,
          2.188235294117647,
          2.1574692442882246,
          2.1275563258232233,
          2.0984615384615384,
          2.0701517706576724,
          2.0425956738768716,
          2.0157635467980293,
          1.9896272285251213,
          1.9641599999999997,
          1.939336492890995,
          1.915132605304212,
          1.8915254237288133,
          1.8684931506849312,
          1.8460150375939848,
          1.8240713224368497,
          1.8026431718061675,
          1.7817126269956458,
          1.7612625538020086,
          1.7412765957446807,
          1.7217391304347827,
          1.7026352288488211,
          1.6839506172839507,
          1.6656716417910447,
          1.647785234899329,
          1.6302788844621514,
          1.6131406044678054,
          1.5963589076723017,
          1.57992277992278,
          1.5638216560509555,
          1.548045397225725,
          1.5325842696629213,
          1.5174289245982695,
          1.5025703794369645,
          1.488,
          1.4737094837935174,
          1.4596908442330558,
          1.4459363957597173,
          1.432438739789965,
          1.4191907514450866,
          1.4061855670103092,
          1.393416572077185,
          1.380877390326209,
          1.3685618729096989,
          1.3564640883977899,
          1.344578313253012,
          1.332899022801303,
          1.321420882669537,
          1.3101387406616862,
          1.299047619047619,
          1.2881427072402938,
          1.2774193548387096,
          1.2668730650154798,
          1.2564994882292733,
          1.2462944162436547,
          1.2362537764350452,
          1.2263736263736262,
          1.2166501486620416,
          1.207079646017699,
          1.1976585365853658,
          1.18838334946757,
          1.1792507204610951,
          1.1702573879885603,
          1.1614001892147587,
          1.1526760563380283,
          1.1440820130475302,
          1.1356151711378353,
          1.1272727272727272
         ],
         "y": [
          187142.20540633434,
          101157.56523355543,
          69097.64259471849,
          38635.72233040298,
          9655.232838820153,
          7878.062586990763,
          6183.311825101284,
          4565.3769617677035,
          3019.151122847798,
          2953.6952719459487,
          2891.017388191128,
          2830.9442996053376,
          2773.316934727876,
          2717.988916079938,
          2664.825318699401,
          2613.70157157807,
          2564.5024831718943,
          2517.1213749377716,
          2471.459309179263,
          2427.4243994388753,
          2384.9311933217837,
          2343.900119028075,
          2304.2569880508563,
          2265.9325475011537,
          2228.8620763763906,
          2192.9850208210364,
          2158.244664055555,
          2124.587827189191,
          2091.9645975970348,
          2060.328081943393,
          2029.6341812812943,
          1999.841385959734,
          1970.9105883328298,
          1942.8049114938592,
          1915.4895524570386,
          1888.931638384844,
          1863.1000946120598,
          1837.9655233525377,
          1813.5000920932696,
          1789.6774307849835,
          1766.4725370308834,
          1743.861688556888,
          1721.822362319202,
          1700.3331596693527,
          1679.3737370540139,
          1658.9247417778613,
          1638.9677524030901,
          1619.4852233997847,
          1600.4604336975847,
          1581.8774388215604,
          1563.721026324326,
          1545.9766742525603,
          1528.6305124096145,
          1511.6692861970253,
          1495.0803228368381,
          1478.8514997938332,
          1462.9712152322888,
          1447.428360355983,
          1432.212293492845,
          1417.3128157972108,
          1402.7201484530954,
          1388.4249112714076,
          1374.4181025826672,
          1360.6910803346507,
          1347.2355443115637,
          1334.0435193978642,
          1321.1073398158244,
          1308.4196342713744,
          1295.9733119477469,
          1283.7615492909954,
          1271.7777775356535,
          1260.015670922607,
          1248.4691355647824,
          1237.1322989194723,
          1225.9994998290833,
          1215.0652790948218,
          1204.324370550337,
          1193.7716926046605,
          1183.4023402259013,
          1173.2115773391336,
          1163.1948296137195,
          1153.3476776169894,
          1143.6658503127546,
          1134.1452188845526,
          1124.7817908648658,
          1115.5717045527688,
          1106.5112237036092,
          1097.5967324753826,
          1088.8247306174376,
          1080.1918288880624,
          1071.694744688353,
          1063.3302979005416,
          1055.0954069197046,
          1046.9870848684486,
          1039.0024359847996,
          1031.1386521741297,
          1023.3930097164838,
          1015.762866121207,
          1008.2456571212351,
          1000.838893799867
         ]
        }
       ],
       "layout": {
        "template": {
         "data": {
          "bar": [
           {
            "error_x": {
             "color": "#2a3f5f"
            },
            "error_y": {
             "color": "#2a3f5f"
            },
            "marker": {
             "line": {
              "color": "#E5ECF6",
              "width": 0.5
             },
             "pattern": {
              "fillmode": "overlay",
              "size": 10,
              "solidity": 0.2
             }
            },
            "type": "bar"
           }
          ],
          "barpolar": [
           {
            "marker": {
             "line": {
              "color": "#E5ECF6",
              "width": 0.5
             },
             "pattern": {
              "fillmode": "overlay",
              "size": 10,
              "solidity": 0.2
             }
            },
            "type": "barpolar"
           }
          ],
          "carpet": [
           {
            "aaxis": {
             "endlinecolor": "#2a3f5f",
             "gridcolor": "white",
             "linecolor": "white",
             "minorgridcolor": "white",
             "startlinecolor": "#2a3f5f"
            },
            "baxis": {
             "endlinecolor": "#2a3f5f",
             "gridcolor": "white",
             "linecolor": "white",
             "minorgridcolor": "white",
             "startlinecolor": "#2a3f5f"
            },
            "type": "carpet"
           }
          ],
          "choropleth": [
           {
            "colorbar": {
             "outlinewidth": 0,
             "ticks": ""
            },
            "type": "choropleth"
           }
          ],
          "contour": [
           {
            "colorbar": {
             "outlinewidth": 0,
             "ticks": ""
            },
            "colorscale": [
             [
              0,
              "#0d0887"
             ],
             [
              0.1111111111111111,
              "#46039f"
             ],
             [
              0.2222222222222222,
              "#7201a8"
             ],
             [
              0.3333333333333333,
              "#9c179e"
             ],
             [
              0.4444444444444444,
              "#bd3786"
             ],
             [
              0.5555555555555556,
              "#d8576b"
             ],
             [
              0.6666666666666666,
              "#ed7953"
             ],
             [
              0.7777777777777778,
              "#fb9f3a"
             ],
             [
              0.8888888888888888,
              "#fdca26"
             ],
             [
              1,
              "#f0f921"
             ]
            ],
            "type": "contour"
           }
          ],
          "contourcarpet": [
           {
            "colorbar": {
             "outlinewidth": 0,
             "ticks": ""
            },
            "type": "contourcarpet"
           }
          ],
          "heatmap": [
           {
            "colorbar": {
             "outlinewidth": 0,
             "ticks": ""
            },
            "colorscale": [
             [
              0,
              "#0d0887"
             ],
             [
              0.1111111111111111,
              "#46039f"
             ],
             [
              0.2222222222222222,
              "#7201a8"
             ],
             [
              0.3333333333333333,
              "#9c179e"
             ],
             [
              0.4444444444444444,
              "#bd3786"
             ],
             [
              0.5555555555555556,
              "#d8576b"
             ],
             [
              0.6666666666666666,
              "#ed7953"
             ],
             [
              0.7777777777777778,
              "#fb9f3a"
             ],
             [
              0.8888888888888888,
              "#fdca26"
             ],
             [
              1,
              "#f0f921"
             ]
            ],
            "type": "heatmap"
           }
          ],
          "heatmapgl": [
           {
            "colorbar": {
             "outlinewidth": 0,
             "ticks": ""
            },
            "colorscale": [
             [
              0,
              "#0d0887"
             ],
             [
              0.1111111111111111,
              "#46039f"
             ],
             [
              0.2222222222222222,
              "#7201a8"
             ],
             [
              0.3333333333333333,
              "#9c179e"
             ],
             [
              0.4444444444444444,
              "#bd3786"
             ],
             [
              0.5555555555555556,
              "#d8576b"
             ],
             [
              0.6666666666666666,
              "#ed7953"
             ],
             [
              0.7777777777777778,
              "#fb9f3a"
             ],
             [
              0.8888888888888888,
              "#fdca26"
             ],
             [
              1,
              "#f0f921"
             ]
            ],
            "type": "heatmapgl"
           }
          ],
          "histogram": [
           {
            "marker": {
             "pattern": {
              "fillmode": "overlay",
              "size": 10,
              "solidity": 0.2
             }
            },
            "type": "histogram"
           }
          ],
          "histogram2d": [
           {
            "colorbar": {
             "outlinewidth": 0,
             "ticks": ""
            },
            "colorscale": [
             [
              0,
              "#0d0887"
             ],
             [
              0.1111111111111111,
              "#46039f"
             ],
             [
              0.2222222222222222,
              "#7201a8"
             ],
             [
              0.3333333333333333,
              "#9c179e"
             ],
             [
              0.4444444444444444,
              "#bd3786"
             ],
             [
              0.5555555555555556,
              "#d8576b"
             ],
             [
              0.6666666666666666,
              "#ed7953"
             ],
             [
              0.7777777777777778,
              "#fb9f3a"
             ],
             [
              0.8888888888888888,
              "#fdca26"
             ],
             [
              1,
              "#f0f921"
             ]
            ],
            "type": "histogram2d"
           }
          ],
          "histogram2dcontour": [
           {
            "colorbar": {
             "outlinewidth": 0,
             "ticks": ""
            },
            "colorscale": [
             [
              0,
              "#0d0887"
             ],
             [
              0.1111111111111111,
              "#46039f"
             ],
             [
              0.2222222222222222,
              "#7201a8"
             ],
             [
              0.3333333333333333,
              "#9c179e"
             ],
             [
              0.4444444444444444,
              "#bd3786"
             ],
             [
              0.5555555555555556,
              "#d8576b"
             ],
             [
              0.6666666666666666,
              "#ed7953"
             ],
             [
              0.7777777777777778,
              "#fb9f3a"
             ],
             [
              0.8888888888888888,
              "#fdca26"
             ],
             [
              1,
              "#f0f921"
             ]
            ],
            "type": "histogram2dcontour"
           }
          ],
          "mesh3d": [
           {
            "colorbar": {
             "outlinewidth": 0,
             "ticks": ""
            },
            "type": "mesh3d"
           }
          ],
          "parcoords": [
           {
            "line": {
             "colorbar": {
              "outlinewidth": 0,
              "ticks": ""
             }
            },
            "type": "parcoords"
           }
          ],
          "pie": [
           {
            "automargin": true,
            "type": "pie"
           }
          ],
          "scatter": [
           {
            "fillpattern": {
             "fillmode": "overlay",
             "size": 10,
             "solidity": 0.2
            },
            "type": "scatter"
           }
          ],
          "scatter3d": [
           {
            "line": {
             "colorbar": {
              "outlinewidth": 0,
              "ticks": ""
             }
            },
            "marker": {
             "colorbar": {
              "outlinewidth": 0,
              "ticks": ""
             }
            },
            "type": "scatter3d"
           }
          ],
          "scattercarpet": [
           {
            "marker": {
             "colorbar": {
              "outlinewidth": 0,
              "ticks": ""
             }
            },
            "type": "scattercarpet"
           }
          ],
          "scattergeo": [
           {
            "marker": {
             "colorbar": {
              "outlinewidth": 0,
              "ticks": ""
             }
            },
            "type": "scattergeo"
           }
          ],
          "scattergl": [
           {
            "marker": {
             "colorbar": {
              "outlinewidth": 0,
              "ticks": ""
             }
            },
            "type": "scattergl"
           }
          ],
          "scattermapbox": [
           {
            "marker": {
             "colorbar": {
              "outlinewidth": 0,
              "ticks": ""
             }
            },
            "type": "scattermapbox"
           }
          ],
          "scatterpolar": [
           {
            "marker": {
             "colorbar": {
              "outlinewidth": 0,
              "ticks": ""
             }
            },
            "type": "scatterpolar"
           }
          ],
          "scatterpolargl": [
           {
            "marker": {
             "colorbar": {
              "outlinewidth": 0,
              "ticks": ""
             }
            },
            "type": "scatterpolargl"
           }
          ],
          "scatterternary": [
           {
            "marker": {
             "colorbar": {
              "outlinewidth": 0,
              "ticks": ""
             }
            },
            "type": "scatterternary"
           }
          ],
          "surface": [
           {
            "colorbar": {
             "outlinewidth": 0,
             "ticks": ""
            },
            "colorscale": [
             [
              0,
              "#0d0887"
             ],
             [
              0.1111111111111111,
              "#46039f"
             ],
             [
              0.2222222222222222,
              "#7201a8"
             ],
             [
              0.3333333333333333,
              "#9c179e"
             ],
             [
              0.4444444444444444,
              "#bd3786"
             ],
             [
              0.5555555555555556,
              "#d8576b"
             ],
             [
              0.6666666666666666,
              "#ed7953"
             ],
             [
              0.7777777777777778,
              "#fb9f3a"
             ],
             [
              0.8888888888888888,
              "#fdca26"
             ],
             [
              1,
              "#f0f921"
             ]
            ],
            "type": "surface"
           }
          ],
          "table": [
           {
            "cells": {
             "fill": {
              "color": "#EBF0F8"
             },
             "line": {
              "color": "white"
             }
            },
            "header": {
             "fill": {
              "color": "#C8D4E3"
             },
             "line": {
              "color": "white"
             }
            },
            "type": "table"
           }
          ]
         },
         "layout": {
          "annotationdefaults": {
           "arrowcolor": "#2a3f5f",
           "arrowhead": 0,
           "arrowwidth": 1
          },
          "autotypenumbers": "strict",
          "coloraxis": {
           "colorbar": {
            "outlinewidth": 0,
            "ticks": ""
           }
          },
          "colorscale": {
           "diverging": [
            [
             0,
             "#8e0152"
            ],
            [
             0.1,
             "#c51b7d"
            ],
            [
             0.2,
             "#de77ae"
            ],
            [
             0.3,
             "#f1b6da"
            ],
            [
             0.4,
             "#fde0ef"
            ],
            [
             0.5,
             "#f7f7f7"
            ],
            [
             0.6,
             "#e6f5d0"
            ],
            [
             0.7,
             "#b8e186"
            ],
            [
             0.8,
             "#7fbc41"
            ],
            [
             0.9,
             "#4d9221"
            ],
            [
             1,
             "#276419"
            ]
           ],
           "sequential": [
            [
             0,
             "#0d0887"
            ],
            [
             0.1111111111111111,
             "#46039f"
            ],
            [
             0.2222222222222222,
             "#7201a8"
            ],
            [
             0.3333333333333333,
             "#9c179e"
            ],
            [
             0.4444444444444444,
             "#bd3786"
            ],
            [
             0.5555555555555556,
             "#d8576b"
            ],
            [
             0.6666666666666666,
             "#ed7953"
            ],
            [
             0.7777777777777778,
             "#fb9f3a"
            ],
            [
             0.8888888888888888,
             "#fdca26"
            ],
            [
             1,
             "#f0f921"
            ]
           ],
           "sequentialminus": [
            [
             0,
             "#0d0887"
            ],
            [
             0.1111111111111111,
             "#46039f"
            ],
            [
             0.2222222222222222,
             "#7201a8"
            ],
            [
             0.3333333333333333,
             "#9c179e"
            ],
            [
             0.4444444444444444,
             "#bd3786"
            ],
            [
             0.5555555555555556,
             "#d8576b"
            ],
            [
             0.6666666666666666,
             "#ed7953"
            ],
            [
             0.7777777777777778,
             "#fb9f3a"
            ],
            [
             0.8888888888888888,
             "#fdca26"
            ],
            [
             1,
             "#f0f921"
            ]
           ]
          },
          "colorway": [
           "#636efa",
           "#EF553B",
           "#00cc96",
           "#ab63fa",
           "#FFA15A",
           "#19d3f3",
           "#FF6692",
           "#B6E880",
           "#FF97FF",
           "#FECB52"
          ],
          "font": {
           "color": "#2a3f5f"
          },
          "geo": {
           "bgcolor": "white",
           "lakecolor": "white",
           "landcolor": "#E5ECF6",
           "showlakes": true,
           "showland": true,
           "subunitcolor": "white"
          },
          "hoverlabel": {
           "align": "left"
          },
          "hovermode": "closest",
          "mapbox": {
           "style": "light"
          },
          "paper_bgcolor": "white",
          "plot_bgcolor": "#E5ECF6",
          "polar": {
           "angularaxis": {
            "gridcolor": "white",
            "linecolor": "white",
            "ticks": ""
           },
           "bgcolor": "#E5ECF6",
           "radialaxis": {
            "gridcolor": "white",
            "linecolor": "white",
            "ticks": ""
           }
          },
          "scene": {
           "xaxis": {
            "backgroundcolor": "#E5ECF6",
            "gridcolor": "white",
            "gridwidth": 2,
            "linecolor": "white",
            "showbackground": true,
            "ticks": "",
            "zerolinecolor": "white"
           },
           "yaxis": {
            "backgroundcolor": "#E5ECF6",
            "gridcolor": "white",
            "gridwidth": 2,
            "linecolor": "white",
            "showbackground": true,
            "ticks": "",
            "zerolinecolor": "white"
           },
           "zaxis": {
            "backgroundcolor": "#E5ECF6",
            "gridcolor": "white",
            "gridwidth": 2,
            "linecolor": "white",
            "showbackground": true,
            "ticks": "",
            "zerolinecolor": "white"
           }
          },
          "shapedefaults": {
           "line": {
            "color": "#2a3f5f"
           }
          },
          "ternary": {
           "aaxis": {
            "gridcolor": "white",
            "linecolor": "white",
            "ticks": ""
           },
           "baxis": {
            "gridcolor": "white",
            "linecolor": "white",
            "ticks": ""
           },
           "bgcolor": "#E5ECF6",
           "caxis": {
            "gridcolor": "white",
            "linecolor": "white",
            "ticks": ""
           }
          },
          "title": {
           "x": 0.05
          },
          "xaxis": {
           "automargin": true,
           "gridcolor": "white",
           "linecolor": "white",
           "ticks": "",
           "title": {
            "standoff": 15
           },
           "zerolinecolor": "white",
           "zerolinewidth": 2
          },
          "yaxis": {
           "automargin": true,
           "gridcolor": "white",
           "linecolor": "white",
           "ticks": "",
           "title": {
            "standoff": 15
           },
           "zerolinecolor": "white",
           "zerolinewidth": 2
          }
         }
        },
        "title": {
         "text": "Coeficiente de Absorción vs Energía"
        },
        "xaxis": {
         "title": {
          "text": "Energía del fotón (eV)"
         }
        },
        "yaxis": {
         "title": {
          "text": "α (cm⁻¹)"
         },
         "type": "log"
        }
       }
      }
     },
     "metadata": {},
     "output_type": "display_data"
    }
   ],
   "source": [
    "import numpy as np\n",
    "import plotly.graph_objects as go\n",
    "import plotly.io as pio\n",
    "\n",
    "#filename = \"ITO_s70_1100.txt\"\n",
    "filename = \"ITO_data_curated-inf.txt\"\n",
    "\n",
    "# === Detectar bloques de salida automáticamente ===\n",
    "block1 = []  # λ, n, kappa\n",
    "block2 = []  # λ, T simulada\n",
    "\n",
    "with open(filename, \"r\") as f:\n",
    "    for line in f:\n",
    "        try:\n",
    "            vals = list(map(float, line.split()))\n",
    "            if len(vals) == 3:       # λ, n, kappa\n",
    "                block1.append(vals)\n",
    "            elif len(vals) == 2:     # λ, T simulada\n",
    "                block2.append(vals)\n",
    "        except:\n",
    "            continue\n",
    "\n",
    "block1 = np.array(block1)\n",
    "block2 = np.array(block2)\n",
    "\n",
    "# === Extraer variables ===\n",
    "lambda1 = block1[:, 0]   # longitud de onda (nm)\n",
    "n = block1[:, 1]         # índice de refracción\n",
    "kappa = block1[:, 2]     # coeficiente de extinción\n",
    "\n",
    "lambda2 = block2[:, 0]   # λ en nm\n",
    "T_sim = block2[:, 1]     # transmitancia simulada\n",
    "\n",
    "# === Cargar experimental (desde input original) ===\n",
    "exp_data = np.loadtxt(\"ITO_data_curated_1100.txt\", skiprows=1)\n",
    "lambda_exp = exp_data[:, 0]\n",
    "T_exp = exp_data[:, 1]\n",
    "\n",
    "# === Calcular α vs Energía ===\n",
    "h_c = 1240  # eV·nm\n",
    "E = h_c / lambda1\n",
    "alpha = 4 * np.pi * kappa / (lambda1 * 1e-7)  # cm^-1\n",
    "\n",
    "# === 1. Transmitancia (experimental vs simulado) ===\n",
    "fig1 = go.Figure()\n",
    "fig1.add_trace(go.Scatter(x=lambda_exp, y=T_exp, mode=\"markers\",\n",
    "                          name=\"Experimental\"))\n",
    "fig1.add_trace(go.Scatter(x=lambda2, y=T_sim, mode=\"lines\",\n",
    "                          name=\"Simulado\"))\n",
    "fig1.update_layout(title=\"Transmitancia Experimental vs Simulada\",\n",
    "                   xaxis_title=\"Longitud de onda (nm)\",\n",
    "                   yaxis_title=\"Transmitancia\")\n",
    "fig1.show()\n",
    "\n",
    "# === 2. Índice de refracción n vs λ ===\n",
    "fig2 = go.Figure()\n",
    "fig2.add_trace(go.Scatter(x=lambda1, y=n, mode=\"lines\", name=\"n\"))\n",
    "fig2.update_layout(title=\"Índice de Refracción vs λ\",\n",
    "                   xaxis_title=\"Longitud de onda (nm)\",\n",
    "                   yaxis_title=\"n\")\n",
    "fig2.show()\n",
    "\n",
    "# === 3. κ vs λ ===\n",
    "fig3 = go.Figure()\n",
    "fig3.add_trace(go.Scatter(x=lambda1, y=kappa, mode=\"lines\", name=\"κ\"))\n",
    "fig3.update_layout(title=\"Coeficiente de Extinción κ vs λ\",\n",
    "                   xaxis_title=\"Longitud de onda (nm)\",\n",
    "                   yaxis_title=\"κ\")\n",
    "fig3.show()\n",
    "\n",
    "# === 4. Coeficiente de absorción α vs Energía ===\n",
    "fig4 = go.Figure()\n",
    "fig4.add_trace(go.Scatter(x=E, y=alpha, mode=\"lines\", name=\"α\"))\n",
    "fig4.update_yaxes(type=\"log\")\n",
    "fig4.update_layout(title=\"Coeficiente de Absorción vs Energía\",\n",
    "                   xaxis_title=\"Energía del fotón (eV)\",\n",
    "                   yaxis_title=\"α (cm⁻¹)\")\n",
    "fig4.show()\n"
   ]
  }
 ],
 "metadata": {
  "kernelspec": {
   "display_name": "base",
   "language": "python",
   "name": "python3"
  },
  "language_info": {
   "codemirror_mode": {
    "name": "ipython",
    "version": 3
   },
   "file_extension": ".py",
   "mimetype": "text/x-python",
   "name": "python",
   "nbconvert_exporter": "python",
   "pygments_lexer": "ipython3",
   "version": "3.12.3"
  }
 },
 "nbformat": 4,
 "nbformat_minor": 5
}
