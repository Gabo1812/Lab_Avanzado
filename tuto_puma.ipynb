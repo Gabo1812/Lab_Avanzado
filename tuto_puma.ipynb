{
 "cells": [
  {
   "cell_type": "markdown",
   "id": "bb34dc62",
   "metadata": {},
   "source": [
    "# Tutorial básico para usar PUMA para películas delgadas\n",
    "\n",
    "## 1. Introducción\n",
    "(https://www.ime.usp.br/~egbirgin/puma/#remarks)\n",
    "\n",
    "PUMA es un software para estimar las constantes ópticas \\( n \\), \\( k \\) y el espesor de películas delgadas usando datos de transmitancia y/o reflectancia.\n",
    "\n",
    "Este tutorial explicara cómo preparar los datos, correr PUMA desde la consola y entender sus parámetros principales.\n",
    "\n",
    "---\n",
    "\n",
    "## 2. Preparar el archivo de datos\n",
    "\n",
    "PUMA requiere un archivo de texto con este formato:\n",
    "\n",
    "- Primera línea: número de observaciones (por ejemplo, 100)\n",
    "- Luego, cada línea contiene la longitud de onda (en nm) y la transmitancia (o reflectancia) en fracciones (0 a 1).\n",
    "\n",
    "Ejemplo de archivo llamado `muestra1-dat.txt`:\n",
    "\n",
    "\n",
    "\n"
   ]
  },
  {
   "cell_type": "markdown",
   "id": "d515cf2c",
   "metadata": {},
   "source": [
    "Para compilar PUMA para una pelicula:\n",
    "\n",
    "gcc -O4 -lm puma.c -o puma.exe"
   ]
  },
  {
   "cell_type": "markdown",
   "id": "9c051744",
   "metadata": {},
   "source": [
    "# Cómo usar PUMA para estimar el espesor y constantes ópticas de una película delgada\n",
    "\n",
    "Para correr PUMA en un sistema de una sola película, se tiene que escribir en la terminal el siguiente comando:\n",
    "\n"
   ]
  },
  {
   "cell_type": "markdown",
   "id": "6f59e13e",
   "metadata": {},
   "source": [
    "```bash\n",
    "puma FNAME NLAYERS SLAYER SUBSTRATE DATATYPE NOBS LAMBDAmin LAMBDAmax maxIT QUAD INIT THICKNESSmin THICKNESSmax THICKNESSstep INFLEmin INFLEmax INFLEstep N0ini N0fin N0step NFini NFfin NFstep K0ini K0fin K0step"
   ]
  },
  {
   "cell_type": "markdown",
   "id": "2b7924df",
   "metadata": {},
   "source": [
    "\n",
    "donde las palabras en mayúsculas son parámetros que se describen a continuación:\n",
    "\n",
    "- **FNAME**: nombre de la película que se está estudiando (sin espacios).  \n",
    "  El archivo de entrada debe llamarse `FNAME-dat.txt`.  \n",
    "  El archivo de salida será creado automáticamente como `FNAME-inf.txt`.\n",
    "\n",
    "- **Formato del archivo de entrada** (`FNAME-dat.txt`):\n",
    "  - La primera línea contiene el número de observaciones. Por ejemplo, si tienes 100 observaciones, el archivo tendrá 101 líneas.\n",
    "  - Desde la segunda línea hasta la última, cada línea debe contener la longitud de onda y la transmitancia (o reflectancia o ambas). Esto significa que cada línea debe tener 2 o 3 números.\n",
    "  - Los datos de transmitancia o reflectancia deben estar en fracciones, es decir, valores entre 0 y 1.  \n",
    "    Si tus datos están en porcentaje (0 a 100), divídelos entre 100.\n",
    "\n",
    "- **NLAYERS**: número total de capas del sistema (películas, substrato y las capas de aire inicial y final).  \n",
    "\n",
    "- **SLAYER**: número de la capa que corresponde al substrato.  \n",
    "  Para un sistema con: aire (capa 0), película (1), substrato (2) y aire (3), usa `SLAYER = 2`.\n",
    "\n",
    "- **SUBSTRATE**: número que describe el substrato:  \n",
    "  - 10: vidrio  \n",
    "  - 20: silicio cristalino  \n",
    "  - 30: cuarzo cristalino  \n",
    "  - 40: portaobjetos de vidrio \n",
    "  - 50: borosilicato\n",
    "\n",
    "- **DATATYPE**: tipo de dato. Usa:  \n",
    "  - `T` para transmitancia  \n",
    "  - `R` para reflectancia  \n",
    "  - `B` para ambos\n",
    "\n",
    "- **NOBS**: número de puntos usados en la optimización.  \n",
    "  Se interpolan puntos equiespaciados dentro del intervalo `[LAMBDAmin, LAMBDAmax]`.  \n",
    "  Se recomienda usar 100 si no se tiene experiencia.\n",
    "\n",
    "- **LAMBDAmin**: límite inferior del rango de longitudes de onda para estimar las constantes ópticas.  \n",
    "  Debe ser mayor o igual al menor valor de longitud de onda en el archivo de datos.\n",
    "\n",
    "- **LAMBDAmax**: límite superior del rango.  \n",
    "  Debe ser menor o igual al mayor valor de longitud de onda en el archivo de datos.  \n",
    "  Obligatorio: `LAMBDAmax >= LAMBDAmin`.\n",
    "\n",
    "- **maxIT**: número máximo de iteraciones del optimizador.  \n",
    "  Por cada combinación fija de grosor y punto de inflexión se resuelve un problema de optimización no lineal.  \n",
    "  Se recomienda usar:  \n",
    "  - 3000 para primer intento  \n",
    "  - 5000 para segundo intento  \n",
    "  - 50000 para último intento\n",
    "\n",
    "- **QUAD**: error cuadrático del mejor ajuste hasta el momento.  \n",
    "  Solo se guardan soluciones con error menor que este valor.  \n",
    "  En el primer intento, se usa un número muy grande, como `1e+100`.  \n",
    "  Cuando se usa una estimación previa para guiar un nuevo intento, puede que no se encuentre una mejor solución. En ese caso, el grosor retornado es cero.\n",
    "  \n"
   ]
  },
  {
   "cell_type": "markdown",
   "id": "6bfb398f",
   "metadata": {},
   "source": [
    "- **INIT**: entero que elige entre hacer la estimación inicial o usar la previa como punto de partida.  \n",
    "  - Usa `0` para estimación inicial.  \n",
    "  - Usa `9` para usar la estimación previa como inicial.  \n",
    "  - Si se usa `9`, se ignoran los parámetros de estimación inicial (`N0ini`, `N0fin`, `N0step`, `NFini`, `NFfin`, `NFstep`, `K0ini`, `K0fin`, `K0step`).\n",
    "\n",
    "- **THICKNESSmin**: límite inferior para el grosor de prueba.  \n",
    "  - Junto con `THICKNESSmax` define el intervalo en que se busca el grosor real.  \n",
    "  - Se necesita algún conocimiento previo para fijar este rango.\n",
    "\n",
    "- **THICKNESSmax**: límite superior para el grosor de prueba.  \n",
    "  - Debe cumplirse `THICKNESSmax >= THICKNESSmin`.  \n",
    "  - Si `THICKNESSmax = THICKNESSmin`, entonces se asume que el grosor es conocido y solo se estiman las constantes ópticas. En este caso, `THICKNESSstep` se ignora.\n",
    "\n",
    "- **THICKNESSstep**: paso para barrer los valores de grosor en el intervalo definido.\n",
    "\n",
    "Los valores de grosor probados son:\n",
    "\n",
    "$$\n",
    "\\text{THICKNESS} = \\text{THICKNESSmin} + w \\times \\text{THICKNESSstep}, \\quad w=0,1,2,...\n",
    "$$\n",
    "\n",
    "- **INFLEmin**: límite inferior del punto de inflexión del coeficiente de atenuación.  \n",
    "  - En PUMA, el coeficiente de atenuación se aproxima por una función cóncava en $[\\text{LAMBDAmin}, \\text{INFLEPOINT}]$ y convexa en $[\\text{INFLEPOINT}, \\text{LAMBDAmax}]$.  \n",
    "  - Define junto con `INFLEmax` el rango donde se busca ese punto de inflexión.  \n",
    "  - Si no se tiene idea, poner `INFLEmin = LAMBDAmin`.\n",
    "\n",
    "- **INFLEmax**: límite superior para el punto de inflexión.  \n",
    "  - Debe cumplirse `INFLEmax >= INFLEmin`.  \n",
    "  - Si no se sabe, pon `INFLEmax = LAMBDAmax`.  \n",
    "  - Si no se sabe el punto exacto, poner `INFLEmax = INFLEmin` y el paso se ignora.\n",
    "\n",
    "- **INFLEstep**: paso para barrer valores del punto de inflexión dentro del rango.\n",
    "\n",
    "Los valores probados son:\n",
    "\n",
    "$$\n",
    "\\text{INFLEPOINT} = \\text{INFLEmin} + w \\times \\text{INFLEstep}, \\quad w=0,1,2,...\n",
    "$$\n",
    "\n",
    "- **N0ini, N0fin, N0step, NFini, NFfin, NFstep**: parámetros para la estimación inicial del índice de refracción \\( n \\).\n",
    "\n",
    "  La estimación inicial de \\( n(\\lambda) \\) se hace con funciones lineales estrictamente decrecientes que van de:\n",
    "\n",
    "  - $ N_0 $ en $\\lambda = \\text{LAMBDAmin}$, que varía entre `N0ini` y `N0fin` con paso `N0step`,  \n",
    "  - a $ N_F$ en $\\lambda = \\text{LAMBDAmax}$, que varía entre `NFini` y `NFfin` con paso `NFstep`.\n",
    "\n",
    "  Esto significa que las funciones iniciales son líneas que pasan por los pares:\n",
    "\n",
    "$$\n",
    "(\\text{LAMBDAmin}, N_0), \\quad (\\text{LAMBDAmax}, N_F)\n",
    "$$\n",
    "\n",
    "con\n",
    "\n",
    "$$\n",
    "N_0 = \\text{N0ini} + u \\times \\text{N0step}, \\quad u = 0,1,2,...\n",
    "$$\n",
    "\n",
    "$$\n",
    "N_F = \\text{NFini} + v \\times \\text{NFstep}, \\quad v = 0,1,2,...\n",
    "$$\n",
    "\n",
    "donde $ N_0 \\in [\\text{N0ini}, \\text{N0fin}] $, $ N_F \\in [\\text{NFini}, \\text{NFfin}] $, y $ N_0 > N_F $.\n"
   ]
  },
  {
   "cell_type": "markdown",
   "id": "6cb8b520",
   "metadata": {},
   "source": [
    "- Se necesita un conocimiento a priori del índice de refracción del material para fijar estos parámetros.\n",
    "\n",
    "- **K0ini, K0fin, K0step**: estimaciones iniciales para el coeficiente de atenuación \\( k \\).  \n",
    "\n",
    "  En este caso se usa una función lineal a tramos, con valores:  \n",
    "  - $ K_0 $ en $\\lambda = \\text{LAMBDAmin}$,  \n",
    "  - $ 0.1 \\times K_0 $ en $\\lambda = \\text{LAMBDAmin} + 0.2 \\times (\\text{LAMBDAmax} - \\text{LAMBDAmin})$,  \n",
    "  - $ K_0 $ en $\\lambda = \\text{LAMBDAmax}$,  \n",
    "\n",
    "  donde $ K_0 $ varía dentro del intervalo $[K0ini, K0fin]$ como:\n",
    "\n",
    "  $$\n",
    "  K_0 = K0ini + z \\times K0step, \\quad z = 0,1,2,...\n",
    "  $$\n",
    "\n"
   ]
  },
  {
   "cell_type": "markdown",
   "id": "66f4da86",
   "metadata": {},
   "source": [
    "# Sustratos soportados por PuMA\n",
    "\n",
    "En PuMA, el parámetro `SUBSTRATE` define el índice de refracción de la capa base de la película según el material. Cada ID corresponde a un material específico y su rango de transparencia.\n",
    "\n",
    "| ID | Material                      | Rango de λ (nm) |\n",
    "|----|-------------------------------|----------------|\n",
    "| 10 | Vidrio genérico                | 350 – 2000     |\n",
    "| 20 | Silicio cristalino             | 1250 – 2600    |\n",
    "| 30 | Cuarzo cristalino              | 200 – 1500     |\n",
    "| 40 | Vidrio para portaobjetos (glass slides)      | 360 – 800      |\n",
    "| 50 | Borosilicato                   | 300 – 2600     |\n",
    "| 60 | Cuarzo amorfo                  | 200 – 1500     |"
   ]
  },
  {
   "cell_type": "markdown",
   "id": "ad211e9a",
   "metadata": {},
   "source": [
    "# Ejemplo para sistema de una sola película\n",
    "\n",
    "Como se explicó antes, se puede correr PUMA haciendo una estimación inicial o usando una estimación previa como punto de partida, llamando a PUMA una, dos, tres o más veces según sea necesario. Esta flexibilidad combinada con una buena elección de parámetros de entrada da un grado alto de control.\n",
    "\n",
    "Generalmente, con tres llamadas alcanza. El procedimiento recomendado es:\n",
    "\n",
    "1. En el primer intento, se elige un intervalo para los grosores de prueba alrededor de algún valor conocido.  \n",
    "   Se fija el paso de grosor.  \n",
    "   Se elige el intervalo para el punto de inflexión del coeficiente de atenuación igual al intervalo del espectro.\n",
    "\n",
    "2. En el segundo intento, se estrecha el intervalo de grosores alrededor del grosor recuperado previamente.  \n",
    "   Se disminuye el paso de grosor.  \n",
    "   Y se hace lo mismo para el punto de inflexión del coeficiente de atenuación.  \n",
    "   Además, se incrementa el número máximo de iteraciones.\n",
    "\n",
    "3. En el tercer intento, se fija el grosor como el recuperado anteriormente.  \n",
    "   Y se hace lo mismo para el punto de inflexión.  \n",
    "   Y se vuelve a aumentar el máximo de iteraciones.\n",
    "\n",
    "---\n",
    "\n",
    "## Ejemplo práctico con la película \"gedanken film A\"\n",
    "\n",
    "(Para reproducir este ejemplo, copiá el archivo de datos `sigl0097t-dat.txt` al mismo directorio donde está instalado PUMA).\n",
    "\n",
    "### Primera llamada\n",
    "\n",
    "El comando para el primer intento es:\n",
    "\n"
   ]
  },
  {
   "cell_type": "markdown",
   "id": "140ec92d",
   "metadata": {},
   "source": [
    "```bash\n",
    ".\\puma.exe sigl0097t 4 2 10 T 100 0540 1530 3000 1e+100 0 0010 0200 10 0540 1530 100 3 5 1 3 5 1 0.10 0.10 0.05 > results.txt\n",
    "\n"
   ]
  },
  {
   "cell_type": "markdown",
   "id": "0a36f711",
   "metadata": {},
   "source": [
    "Lo que se observara en el output es algo con esta estructura:\n",
    "\n",
    "`λ_min   Espesor   m1   m2   ΔK0   error   [opcional !!!]`\n"
   ]
  },
  {
   "cell_type": "markdown",
   "id": "0594fadf",
   "metadata": {},
   "source": [
    "Donde en este ejemplo, se puede observar algo como:\n",
    "\n",
    "540.00 → Longitud de onda mínima usada en ese cálculo (en nm).\n",
    "\n",
    "10.00 → Espesor de la película (en nm o en la unidad que definiste en el input).\n",
    "\n",
    "3.00 → Primer índice de interferencia (m1), asociado al mínimo/máximo de interferencia más bajo.\n",
    "\n",
    "3.00 → Segundo índice de interferencia (m2), asociado a otro punto característico.\n",
    "\n",
    "0.10 → Paso de variación de K0 (coeficiente de extinción inicial) en la búsqueda.\n",
    "\n",
    "4.151371e+00 → Error o función objetivo (fitness) que el algoritmo está minimizando.\n",
    "\n",
    "!!! → Marcador que indica que esa combinación de parámetros está fuera de un rango físico razonable o que el ajuste no cumple alguna condición interna del programa (por ejemplo, índice de refracción < 1 o K negativo)."
   ]
  },
  {
   "cell_type": "markdown",
   "id": "239d5c99",
   "metadata": {},
   "source": [
    "## Segunda llamada (Second Call)\n",
    "\n",
    "Con los resultados de la primera corrida:\n",
    "- Espesor recuperado: **100 nm**\n",
    "- Punto de inflexión recuperado: **540 nm**\n",
    "- Error cuadrático: **6.342857e-03** *(puede variar levemente entre máquinas)*\n",
    "\n",
    "\n",
    "\n"
   ]
  },
  {
   "cell_type": "markdown",
   "id": "09b81238",
   "metadata": {},
   "source": [
    "```bash\n",
    ".\\puma.exe sigl0097t 4 2 10 T 100 0540 1530 5000 6.342857e-03 9 0050 0150 01 0540 0540 100 > secondcall_results.txt"
   ]
  },
  {
   "cell_type": "markdown",
   "id": "7b696ca6",
   "metadata": {},
   "source": [
    "\n",
    "> Nota: en esta segunda llamada **se omiten** los parámetros de estimación inicial de \\(n\\) y \\(k\\):  \n",
    "> `N0ini N0fin N0step NFini NFfin NFstep K0ini K0fin K0step`.\n",
    "\n",
    "### Qué cambió respecto a la primera llamada???\n",
    "\n",
    "- **MAXIT**: de `3000` → `5000` (más iteraciones).\n",
    "- **QUAD**: ahora es el **error cuadrático previo** `6.342857e-03`.  \n",
    "  Solo se guardan soluciones con error **menor** a este valor.\n",
    "- **INIT**: `9` (usa las constantes ópticas estimadas previamente como **initial guess**).\n",
    "- **THICKNESSmin–max–step**: de `10–200–10` → a un rango centrado en **100 nm**: `50–150–1`.  \n",
    "  Rango más estrecho y **paso** más fino.\n",
    "- **INFLEmin–max–step**: se **fija** el punto de inflexión en `540`: `540–540` (el `step` se ignora).\n",
    "\n",
    "### Resultado esperado\n",
    "- Espesor recuperado cercano a **97 nm**.\n",
    "- Se actualizan $ n(\\lambda) $ y $ k(\\lambda) $ usando las constantes previas como guía, refinando el ajuste.\n",
    "\n"
   ]
  },
  {
   "cell_type": "markdown",
   "id": "eea54441",
   "metadata": {},
   "source": [
    "# Tercera Corrida en PuMA (Third Call)\n",
    "\n",
    "En la **third call**, el objetivo ya no es explorar un rango amplio como al inicio, sino **refinar al máximo** los parámetros óptimos obtenidos en las corridas previas.\n",
    "\n",
    "\n",
    "\n"
   ]
  },
  {
   "cell_type": "markdown",
   "id": "b1002b0a",
   "metadata": {},
   "source": [
    "```bash\n",
    ".\\puma.exe sigl0097t 4 2 10 T 100 0540 1530 50000 1.773782e-04 9 0097 0097 01 0540 0540 100"
   ]
  },
  {
   "cell_type": "markdown",
   "id": "b54a5b93",
   "metadata": {},
   "source": [
    "---\n",
    "## Cambios clave respecto a la segunda corrida\n",
    "\n",
    "1. **Fijar el grosor (Thickness)**\n",
    "   - Se usa el valor más confiable encontrado antes: **97 nm**.\n",
    "   - Ya no se buscan variaciones de espesor; toda la optimización se enfoca en $ n(\\lambda) $ y $ k(\\lambda) $.\n",
    "\n",
    "2. **Usar el menor error cuadrático anterior**\n",
    "   - Valor anterior: **1.773782e-04**.\n",
    "   - Ahora, solo se aceptan soluciones con **error menor** a este valor.\n",
    "   - Esto filtra las soluciones, exigiendo que las curvas calculadas sean casi idénticas a los datos experimentales.\n",
    "\n",
    "3. **Aumentar el número de iteraciones**\n",
    "   - De **5000** a **50000** para hacer un barrido más fino del espacio de parámetros.\n",
    "   - Reduce el ruido numérico y mejora la precisión.\n",
    "\n",
    "4. **Mantener el punto de inflexión fijo**\n",
    "   - El inflection point sigue en **540 nm**, considerado confiable desde corridas previas.\n",
    "\n",
    "---\n",
    "\n",
    "## Resultado final\n",
    "\n",
    "- El archivo de salida `sigl0097t-inf.txt` contendrá los valores finales de:\n",
    "  - $ n(\\lambda) $: índice de refracción\n",
    "  - $ k(\\lambda) $: coeficiente de extinción\n",
    "- Estos valores corresponden a la **solución definitiva** para graficar y analizar.\n"
   ]
  },
  {
   "cell_type": "markdown",
   "id": "f8e08609",
   "metadata": {},
   "source": [
    "## Probando con datos del ITO"
   ]
  },
  {
   "cell_type": "code",
   "execution_count": 25,
   "id": "bca8350f",
   "metadata": {},
   "outputs": [
    {
     "name": "stdout",
     "output_type": "stream",
     "text": [
      "Archivo listo para PUMA: ITO_data_curated_350-1000.txt\n"
     ]
    }
   ],
   "source": [
    "# Script para cambiar un archivo .dat al formato que se necesita para PuMA\n",
    "import numpy as np\n",
    "\n",
    "# Nombre del archivo original y del nuevo archivo\n",
    "input_file = \"ITO_data_curated_350-1000.txt\"  # cambiar esto al nombre del archivo\n",
    "output_file = \"ITO_data_curated_350-1000.txt\"\n",
    "\n",
    "# Lee los datos (dos columnas: longitud de onda y transmitancia, por ejemplo)\n",
    "data = np.loadtxt(input_file)\n",
    "\n",
    "# Reemplaza los valores negativos de transmitancia por un valor muy pequeño positivo, descomentar solo si no quiere quitar los negativos\n",
    "#data[:, 1] = np.where(data[:, 1] < 0, 1e-10, data[:, 1])\n",
    "\n",
    "# Elimina las filas con transmitancia negativa\n",
    "data = data[data[:, 1] >= 0]\n",
    "\n",
    "# Normaliza la transmitancia entre 0 y 1, descomentar solo si no esta normalizado\n",
    "#data[:, 1] = data[:, 1] / 100.0\n",
    "\n",
    "# Ordena las filas por longitud de onda (columna 0)\n",
    "orden = np.argsort(data[:, 0])  # índices ordenados por longitud de onda\n",
    "data = data[orden]              # reordena ambas columnas como pares\n",
    "\n",
    "# Agregar la primera fila con el número de observaciones\n",
    "n_obs = data.shape[0]\n",
    "with open(output_file, \"w\") as f:\n",
    "    f.write(f\"{n_obs}\\n\")\n",
    "    np.savetxt(f, data, fmt=\"%.3e %.3e\")  # Guardar en notación científica\n",
    "\n",
    "print(f\"Archivo listo para PUMA: {output_file}\")\n"
   ]
  },
  {
   "cell_type": "markdown",
   "id": "1704641e",
   "metadata": {},
   "source": [
    "```bash\n",
    "./puma.exe ITO_data_curated 4 2 70 T 100 0300 1100 3000 1e+100 0 0140 0170 1 0300 1100 50 1.6 2.4 0.05 1.5 2.2 0.05 0.00 0.40 0.05 > ITO_firstcall.txt\n",
    "\n",
    "\n"
   ]
  },
  {
   "cell_type": "markdown",
   "id": "96ec0c8c",
   "metadata": {},
   "source": [
    "\n",
    "## Parámetros First Call\n",
    "\n",
    "| Parámetro | Valor | Significado |\n",
    "|-----------|-------|------------|\n",
    "| `FNAME` | ITO_data_curated | Archivo de entrada que contiene los datos del film. |\n",
    "| `NLAYERS` | 4 | Número total de capas: aire inicial + film + sustrato + aire final. |\n",
    "| `SLAYER` | 2 | Número de la capa de interés: 0 → aire inicial, 1 → film, 2 → sustrato, 3 → aire final. |\n",
    "| `SUBSTRATE` | 70 | Código del sustrato, en este caso el soda lime glass que agregué. |\n",
    "| `DATATYPE` | T | Tipo de medida: `T` para transmitancia, `R` para reflectancia o `B` para ambos. |\n",
    "| `NOBS` | 100 | Número de observaciones o puntos de longitud de onda. |\n",
    "| `LAMBDAmin` | 300 | Longitud de onda mínima (nm) considerada para ajuste. |\n",
    "| `LAMBDAmax` | 1100 | Longitud de onda máxima (nm) considerada para ajuste. |\n",
    "| `MAXIT` | 3000 | Número máximo de iteraciones para el ajuste (lo mande en cluster, para local reducir el numero). |\n",
    "| `QUAD` | 1e+100 | Cota máxima del error cuadrático (muy alta para no limitar). |\n",
    "| `INIT` | 0 | Se realiza estimación inicial. |\n",
    "| `THICKNESSmin` | 140 | Espesor mínimo de la capa (nm) para el ajuste. |\n",
    "| `THICKNESSmax` | 170 | Espesor máximo de la capa (nm) para el ajuste. |\n",
    "| `THICKNESSstep` | 1 | Paso de espesor para el barrido de ajuste. |\n",
    "| `INFLEmin` | 300 | Longitud de onda mínima para buscar punto de inflexión. |\n",
    "| `INFLEmax` | 1100 | Longitud de onda máxima para punto de inflexión. |\n",
    "| `INFLEstep` | 50 | Paso en la búsqueda del punto de inflexión. |\n",
    "| `N0ini` | 1.6 | Valor mínimo de índice de refracción de la capa inicial. |\n",
    "| `N0fin` | 2.4 | Valor máximo de índice de refracción de la capa inicial. |\n",
    "| `N0step` | 0.05 | Paso de n para barrido de ajuste. |\n",
    "| `NFini` | 1.5 | Valor mínimo de índice de refracción de la capa final. |\n",
    "| `NFfin` | 2.2 | Valor máximo de índice de refracción de la capa final. |\n",
    "| `NFstep` | 0.05 | Paso de n de la capa final. |\n",
    "| `K0ini` | 0.00 | Valor mínimo de coeficiente de absorción de la capa inicial. |\n",
    "| `K0fin` | 0.40 | Valor máximo de coeficiente de absorción de la capa inicial. |\n",
    "| `K0step` | 0.05 | Paso de κ para barrido de ajuste. |\n",
    "\n"
   ]
  },
  {
   "cell_type": "markdown",
   "id": "442da6ea",
   "metadata": {},
   "source": [
    "Del first call, revisamos el -inf.txt y de ahí obtenemos el espesor estimado, punto de inflexión, y error cuadratico y mandamos a hacer el second call.\n",
    "Inicialmente salió Espesor estimado = 166 nm, Punto de inflexión = 300 nm y Error cuadrático = 2.989977e-02\n",
    "```bash\n",
    "./puma.exe ITO_data_curated 4 2 70 T 100 0300 1100 5000 2.989977e-02 9 0120 0200 1 0300 0300 100 > ITO_secondcall.txt\n",
    "\n"
   ]
  },
  {
   "cell_type": "markdown",
   "id": "b2781097",
   "metadata": {},
   "source": [
    "\n",
    "## Parámetros Second Call:\n",
    "\n",
    "| Parámetro | Valor | Explicación |\n",
    "|-----------|-------|-------------|\n",
    "| `FNAME` | ITO_data_curated | Nombre del archivo de datos que contiene la transmitancia medida. |\n",
    "| `NLAYERS` | 4 | Número de capas (aire inicial + film + sustrato + aire final). |\n",
    "| `SLAYER` | 2 | Índice de la capa a ajustar (la película es layer 1, sustrato layer 2). |\n",
    "| `SUBSTRATE` | 10 | Identificador del sustrato usado (por ejemplo vidrio). |\n",
    "| `DATATYPE` | T | Tipo de dato a ajustar: Transmittancia. |\n",
    "| `NOBS` | 100 | Número de puntos de observación usados en el ajuste. |\n",
    "| `LAMBDAmin` | 300 | Longitud de onda mínima en nm considerada para el ajuste. |\n",
    "| `LAMBDAmax` | 1100 | Longitud de onda máxima en nm considerada para el ajuste. |\n",
    "| `MAXIT` | 5000 | Número máximo de iteraciones del algoritmo de ajuste. |\n",
    "| `QUAD` | 2.989977e-02| Error cuadrático obtenido en el first call, usado como referencia. |\n",
    "| `INIT` | 9 | Indica que es un segundo call refinando los parámetros. |\n",
    "| `THICKNESSmin` | 120 | Espesor mínimo de la película (nm) en este barrido. |\n",
    "| `THICKNESSmax` | 200 | Espesor máximo de la película (nm). |\n",
    "| `THICKNESSstep` | 1 | Paso para el barrido de espesor. |\n",
    "| `INFLEmin` | 300 | Punto de inflexión mínimo para α(λ) (nm). |\n",
    "| `INFLEmax` | 300 | Punto de inflexión máximo (igual al mínimo, es fijo). |\n",
    "| `INFLEstep` | 100 | Paso para el barrido de puntos de inflexión (aquí no importa, ya que min=max). |\n"
   ]
  },
  {
   "cell_type": "markdown",
   "id": "d92a5b6a",
   "metadata": {},
   "source": [
    "Ahora para el Third Call, obtuvimos anteriormente que Espesor estimado = 166 nm, Punto de inflexión = 300 nm y Error cuadrático = 2.989977e-02, vamos a relajar un poco el error, porque ya deporsi es muy bajo y le va a costar encontrar un mejor ajuste\n",
    "```bash\n",
    "./puma.exe ITO_data_curated 4 2 70 T 100 0300 1100 500000 3e-02 9 0165 0167 1 0295 0305 1 > ITO_thirdcall.txt"
   ]
  },
  {
   "cell_type": "markdown",
   "id": "59090a49",
   "metadata": {},
   "source": [
    "\n",
    "Parámetros Third Call:\n",
    "\n",
    "| Parámetro | Valor | Explicación |\n",
    "|-----------|-------|-------------|\n",
    "| `FNAME` | ITO_data_curated | Nombre del archivo de datos que contiene la transmitancia medida. |\n",
    "| `NLAYERS` | 4 | Número de capas (aire inicial + película + sustrato + aire final). |\n",
    "| `SLAYER` | 2 | Índice de la capa a ajustar (la película es layer 1, sustrato layer 2). |\n",
    "| `SUBSTRATE` | 70 | Identificador del sustrato usado (ej. vidrio ). |\n",
    "| `DATATYPE` | T | Tipo de dato a ajustar: Transmittancia. |\n",
    "| `NOBS` | 100 | Número de puntos de observación usados en el ajuste. |\n",
    "| `LAMBDAmin` | 300 | Longitud de onda mínima en nm considerada para el ajuste. |\n",
    "| `LAMBDAmax` | 1100 | Longitud de onda máxima en nm considerada para el ajuste. |\n",
    "| `MAXIT` | 50000 | Número máximo de iteraciones del algoritmo de ajuste (muy alto para refinar la solución). |\n",
    "| `QUAD` | 3e-02 | Error cuadrático obtenido del second call, usado como referencia. |\n",
    "| `INIT` | 9 | Indica que es un tercer call refinando los parámetros anteriores. |\n",
    "| `THICKNESSmin` | 165 | Espesor mínimo de la película (nm) en este barrido. |\n",
    "| `THICKNESSmax` | 167 | Espesor máximo de la película (nm), aquí fijado. |\n",
    "| `THICKNESSstep` | 100 | Paso para el barrido de espesor (irrelevante al ser min=max). |\n",
    "| `INFLEmin` | 295 | Punto de inflexión mínimo para α(λ) (nm). |\n",
    "| `INFLEmax` | 303 | Punto de inflexión máximo (fijo). |\n",
    "| `INFLEstep` | 1 | Paso para el barrido de puntos de inflexión (irrelevante al ser min=max). |\n"
   ]
  },
  {
   "cell_type": "markdown",
   "id": "b7c7f5c6",
   "metadata": {},
   "source": []
  },
  {
   "cell_type": "code",
   "execution_count": 26,
   "id": "48ce84c2",
   "metadata": {},
   "outputs": [
    {
     "name": "stdout",
     "output_type": "stream",
     "text": [
      "Error relativo cuadrático promedio (RMSE): 0.17 %\n",
      "Desviación porcentual promedio: 0.13 %\n"
     ]
    },
    {
     "data": {
      "image/png": "[encoded data removed]",
      "text/plain": [
       "<Figure size 640x480 with 1 Axes>"
      ]
     },
     "metadata": {},
     "output_type": "display_data"
    },
    {
     "data": {
      "image/png": "[encoded data removed]",
      "text/plain": [
       "<Figure size 640x480 with 1 Axes>"
      ]
     },
     "metadata": {},
     "output_type": "display_data"
    },
    {
     "data": {
      "image/png": "[encoded data removed]",
      "text/plain": [
       "<Figure size 640x480 with 1 Axes>"
      ]
     },
     "metadata": {},
     "output_type": "display_data"
    },
    {
     "data": {
      "image/png": "[encoded data removed]",
      "text/plain": [
       "<Figure size 640x480 with 1 Axes>"
      ]
     },
     "metadata": {},
     "output_type": "display_data"
    },
    {
     "name": "stdout",
     "output_type": "stream",
     "text": [
      "Gráficas guardadas como PNG\n"
     ]
    }
   ],
   "source": [
    "import numpy as np\n",
    "import matplotlib.pyplot as plt\n",
    "from scipy.interpolate import interp1d\n",
    "\n",
    "filename = \"ITO_s70_400-1000.txt\"\n",
    "# === Detectar bloques de salida automáticamente ===\n",
    "block1 = []  # λ, n, kappa\n",
    "block2 = []  # λ, T simulada\n",
    "\n",
    "with open(filename, \"r\") as f:\n",
    "    for line in f:\n",
    "        try:\n",
    "            vals = list(map(float, line.split()))\n",
    "            if len(vals) == 3:       # λ, n, kappa\n",
    "                block1.append(vals)\n",
    "            elif len(vals) == 2:     # λ, T simulada\n",
    "                block2.append(vals)\n",
    "        except:\n",
    "            continue\n",
    "\n",
    "block1 = np.array(block1)\n",
    "block2 = np.array(block2)\n",
    "\n",
    "# === Extraer variables ===\n",
    "lambda1 = block1[:, 0]   # longitud de onda (nm)\n",
    "n = block1[:, 1]         # índice de refracción\n",
    "kappa = block1[:, 2]     # coeficiente de extinción\n",
    "\n",
    "lambda2 = block2[:, 0]   # λ en nm\n",
    "T_sim = block2[:, 1]     # transmitancia simulada\n",
    "\n",
    "# === Cargar experimental (desde input original) ===\n",
    "exp_data = np.loadtxt(\"ITO_data_curated_400-1000.txt\", skiprows=1)\n",
    "lambda_exp = exp_data[:, 0]\n",
    "T_exp = exp_data[:, 1]\n",
    "\n",
    "# === Calcular α vs Energía ===\n",
    "h_c = 1240  # eV·nm\n",
    "E = h_c / lambda1\n",
    "alpha = 4 * np.pi * kappa / (lambda1 * 1e-7)  # cm^-1\n",
    "\n",
    "\n",
    "# === Calcular error relativo cuadrático promedio ===\n",
    "\n",
    "# === Interpolación de T_sim a puntos experimentales ===\n",
    "interp_T = interp1d(lambda2, T_sim, kind='linear', fill_value=\"extrapolate\")\n",
    "T_sim_interp = interp_T(lambda_exp)\n",
    "\n",
    "# === 1. Error relativo cuadrático promedio (RMSE relativo) ===\n",
    "rel_error = np.sqrt(np.mean((T_sim_interp - T_exp)**2)) / np.mean(T_exp)\n",
    "percent_error_rmse = rel_error * 100\n",
    "\n",
    "# === 2. Desviación porcentual promedio (MAPE) ===\n",
    "abs_percent_error = np.mean(np.abs(T_sim_interp - T_exp)/T_exp) * 100\n",
    "\n",
    "print(f\"Error relativo cuadrático promedio (RMSE): {percent_error_rmse:.2f} %\")\n",
    "print(f\"Desviación porcentual promedio: {abs_percent_error:.2f} %\")\n",
    "\n",
    "\n",
    "# === 1. Transmitancia (experimental vs simulado) ===\n",
    "plt.figure()\n",
    "plt.plot(lambda_exp, T_exp, 'bo', markersize=3, label=\"Experimental\")\n",
    "plt.plot(lambda2, T_sim, 'r-', label=\"Simulado\")\n",
    "plt.xlabel(\"Longitud de onda (nm)\")\n",
    "plt.ylabel(\"Transmitancia\")\n",
    "plt.title(\"Transmitancia Experimental vs Simulada\")\n",
    "plt.legend()\n",
    "plt.savefig(\"T_exp_vs_sim.png\", dpi=300)\n",
    "plt.show()\n",
    "\n",
    "# === 2. Índice de refracción n vs λ ===\n",
    "plt.figure()\n",
    "plt.plot(lambda1, n, 'b-')\n",
    "plt.xlabel(\"Longitud de onda (nm)\")\n",
    "plt.ylabel(\"n\")\n",
    "plt.title(\"Índice de Refracción vs λ\")\n",
    "plt.savefig(\"n_vs_lambda.png\", dpi=300)\n",
    "plt.show()\n",
    "\n",
    "# === 3. κ vs λ ===\n",
    "plt.figure()\n",
    "plt.plot(lambda1, kappa, 'm-')\n",
    "plt.xlabel(\"Longitud de onda (nm)\")\n",
    "plt.ylabel(\"κ\")\n",
    "plt.title(\"Coeficiente de Extinción κ vs λ\")\n",
    "plt.savefig(\"kappa_vs_lambda.png\", dpi=300)\n",
    "plt.show()\n",
    "\n",
    "# === 4. Coeficiente de absorción α vs Energía ===\n",
    "plt.figure()\n",
    "plt.plot(E, alpha, 'g-')\n",
    "plt.yscale('log')\n",
    "plt.xlabel(\"Energía del fotón (eV)\")\n",
    "plt.ylabel(\"α (cm⁻¹)\")\n",
    "plt.title(\"Coeficiente de Absorción vs Energía\")\n",
    "plt.savefig(\"alpha_vs_energy.png\", dpi=300)\n",
    "plt.show()\n",
    "\n",
    "print(\"Gráficas guardadas como PNG\")\n"
   ]
  },
  {
   "cell_type": "code",
   "execution_count": 2,
   "id": "66388c1f",
   "metadata": {},
   "outputs": [
    {
     "name": "stdout",
     "output_type": "stream",
     "text": [
      "Error relativo cuadrático promedio (RMSE): 0.17 %\n",
      "Desviación porcentual promedio (MAPE): 0.13 %\n"
     ]
    },
    {
     "data": {
      "application/vnd.plotly.v1+json": {
       "config": {
        "plotlyServerURL": "https://plot.ly"
       },
       "data": [
        {
         "mode": "markers",
         "name": "Experimental",
         "type": "scatter",
         "x": [
          400,
          401,
          402,
          403,
          404,
          405,
          406,
          407,
          408,
          409,
          410,
          411,
          412,
          413,
          414,
          415,
          416,
          417,
          418,
          419,
          420,
          421,
          422,
          423,
          424,
          425,
          426,
          427,
          428,
          429,
          430,
          431,
          432,
          433,
          434,
          435,
          436,
          437,
          438,
          439,
          440,
          441,
          442,
          443,
          444,
          445,
          446,
          447,
          448,
          449,
          450,
          451,
          452,
          453,
          454,
          455,
          456,
          457,
          458,
          459,
          460,
          461,
          462,
          463,
          464,
          465,
          466,
          467,
          468,
          469,
          470,
          471,
          472,
          473,
          474,
          475,
          476,
          477,
          478,
          479,
          480,
          481,
          482,
          483,
          484,
          485,
          486,
          487,
          488,
          489,
          490,
          491,
          492,
          493,
          494,
          495,
          496,
          497,
          498,
          499,
          500,
          501,
          502,
          503,
          504,
          505,
          506,
          507,
          508,
          509,
          510,
          511,
          512,
          513,
          514,
          515,
          516,
          517,
          518,
          519,
          520,
          521,
          522,
          523,
          524,
          525,
          526,
          527,
          528,
          529,
          530,
          531,
          532,
          533,
          534,
          535,
          536,
          537,
          538,
          539,
          540,
          541,
          542,
          543,
          544,
          545,
          546,
          547,
          548,
          549,
          550,
          551,
          552,
          553,
          554,
          555,
          556,
          557,
          558,
          559,
          560,
          561,
          562,
          563,
          564,
          565,
          566,
          567,
          568,
          569,
          570,
          571,
          572,
          573,
          574,
          575,
          576,
          577,
          578,
          579,
          580,
          581,
          582,
          583,
          584,
          585,
          586,
          587,
          588,
          589,
          590,
          591,
          592,
          593,
          594,
          595,
          596,
          597,
          598,
          599,
          600,
          601,
          602,
          603,
          604,
          605,
          606,
          607,
          608,
          609,
          610,
          611,
          612,
          613,
          614,
          615,
          616,
          617,
          618,
          619,
          620,
          621,
          622,
          623,
          624,
          625,
          626,
          627,
          628,
          629,
          630,
          631,
          632,
          633,
          634,
          635,
          636,
          637,
          638,
          639,
          640,
          641,
          642,
          643,
          644,
          645,
          646,
          647,
          648,
          649,
          650,
          651,
          652,
          653,
          654,
          655,
          656,
          657,
          658,
          659,
          660,
          661,
          662,
          663,
          664,
          665,
          666,
          667,
          668,
          669,
          670,
          671,
          672,
          673,
          674,
          675,
          676,
          677,
          678,
          679,
          680,
          681,
          682,
          683,
          684,
          685,
          686,
          687,
          688,
          689,
          690,
          691,
          692,
          693,
          694,
          695,
          696,
          697,
          698,
          699,
          700,
          701,
          702,
          703,
          704,
          705,
          706,
          707,
          708,
          709,
          710,
          711,
          712,
          713,
          714,
          715,
          716,
          717,
          718,
          719,
          720,
          721,
          722,
          723,
          724,
          725,
          726,
          727,
          728,
          729,
          730,
          731,
          732,
          733,
          734,
          735,
          736,
          737,
          738,
          739,
          740,
          741,
          742,
          743,
          744,
          745,
          746,
          747,
          748,
          749,
          750,
          751,
          752,
          753,
          754,
          755,
          756,
          757,
          758,
          759,
          760,
          761,
          762,
          763,
          764,
          765,
          766,
          767,
          768,
          769,
          770,
          771,
          772,
          773,
          774,
          775,
          776,
          777,
          778,
          779,
          780,
          781,
          782,
          783,
          784,
          785,
          786,
          787,
          788,
          789,
          790,
          791,
          792,
          793,
          794,
          795,
          796,
          797,
          798,
          799,
          800,
          801,
          802,
          803,
          804,
          805,
          806,
          807,
          808,
          809,
          810,
          811,
          812,
          813,
          814,
          815,
          816,
          817,
          818,
          819,
          820,
          821,
          822,
          823,
          824,
          825,
          826,
          827,
          828,
          829,
          830,
          831,
          832,
          833,
          834,
          835,
          836,
          837,
          838,
          839,
          840,
          841,
          842,
          843,
          844,
          845,
          846,
          847,
          848,
          849,
          850,
          851,
          852,
          853,
          854,
          855,
          856,
          857,
          858,
          859,
          860,
          861,
          862,
          863,
          864,
          865,
          866,
          867,
          868,
          869,
          870,
          871,
          872,
          873,
          874,
          875,
          876,
          877,
          878,
          879,
          880,
          881,
          882,
          883,
          884,
          885,
          886,
          887,
          888,
          889,
          890,
          891,
          892,
          893,
          894,
          895,
          896,
          897,
          898,
          899,
          900,
          901,
          902,
          903,
          904,
          905,
          906,
          907,
          908,
          909,
          910,
          911,
          912,
          913,
          914,
          915,
          916,
          917,
          918,
          919,
          920,
          921,
          922,
          923,
          924,
          925,
          926,
          927,
          928,
          929,
          930,
          931,
          932,
          933,
          934,
          935,
          936,
          937,
          938,
          939,
          940,
          941,
          942,
          943,
          944,
          945,
          946,
          947,
          948,
          949,
          950,
          951,
          952,
          953,
          954,
          955,
          956,
          957,
          958,
          959,
          960,
          961,
          962,
          963,
          964,
          965,
          966,
          967,
          968,
          969,
          970,
          971,
          972,
          973,
          974,
          975,
          976,
          977,
          978,
          979,
          980,
          981,
          982,
          983,
          984,
          985,
          986,
          987,
          988,
          989,
          990,
          991,
          992,
          993,
          994,
          995,
          996,
          997,
          998,
          999,
          1000
         ],
         "y": [
          0.8393,
          0.8363,
          0.8348,
          0.833,
          0.8309,
          0.8286,
          0.8259,
          0.8232,
          0.8214,
          0.8191,
          0.8171,
          0.8153,
          0.8128,
          0.8098,
          0.8078,
          0.8062,
          0.8042,
          0.8011,
          0.7986,
          0.7973,
          0.7956,
          0.7938,
          0.7922,
          0.7899,
          0.788,
          0.7867,
          0.7857,
          0.7841,
          0.782,
          0.781,
          0.7796,
          0.7774,
          0.7761,
          0.7751,
          0.7745,
          0.7736,
          0.7726,
          0.7711,
          0.7699,
          0.7698,
          0.7694,
          0.7685,
          0.7677,
          0.7666,
          0.7661,
          0.7663,
          0.7652,
          0.7649,
          0.7649,
          0.7647,
          0.7641,
          0.7636,
          0.7635,
          0.7631,
          0.7633,
          0.7634,
          0.7634,
          0.7636,
          0.7634,
          0.7641,
          0.7645,
          0.7641,
          0.7641,
          0.7642,
          0.7644,
          0.7652,
          0.7659,
          0.7661,
          0.7666,
          0.7673,
          0.7687,
          0.7685,
          0.7685,
          0.7697,
          0.7703,
          0.771,
          0.7715,
          0.7722,
          0.7727,
          0.7736,
          0.7744,
          0.7755,
          0.7764,
          0.7768,
          0.7778,
          0.7787,
          0.7796,
          0.7804,
          0.7815,
          0.7821,
          0.7843,
          0.7847,
          0.786,
          0.7866,
          0.7884,
          0.7891,
          0.7904,
          0.7911,
          0.7921,
          0.7941,
          0.7951,
          0.7957,
          0.7969,
          0.7992,
          0.7993,
          0.8005,
          0.8018,
          0.8031,
          0.8044,
          0.8056,
          0.8069,
          0.8077,
          0.8088,
          0.8101,
          0.8125,
          0.8132,
          0.8143,
          0.8156,
          0.8169,
          0.8179,
          0.8193,
          0.8206,
          0.8216,
          0.8229,
          0.8242,
          0.8254,
          0.8265,
          0.8275,
          0.8286,
          0.8305,
          0.8313,
          0.8331,
          0.8338,
          0.8352,
          0.8362,
          0.8376,
          0.8391,
          0.8401,
          0.8416,
          0.8421,
          0.8429,
          0.8445,
          0.8454,
          0.8468,
          0.8474,
          0.849,
          0.8502,
          0.8506,
          0.8521,
          0.8534,
          0.8544,
          0.8553,
          0.8564,
          0.857,
          0.8577,
          0.8587,
          0.8605,
          0.8613,
          0.8616,
          0.8626,
          0.8635,
          0.8649,
          0.8655,
          0.8663,
          0.8674,
          0.8681,
          0.8683,
          0.8692,
          0.8698,
          0.8708,
          0.8716,
          0.8724,
          0.8731,
          0.874,
          0.8746,
          0.8751,
          0.8755,
          0.8767,
          0.8768,
          0.8773,
          0.8783,
          0.8788,
          0.879,
          0.8799,
          0.8803,
          0.8807,
          0.8812,
          0.8813,
          0.8817,
          0.8824,
          0.8825,
          0.8828,
          0.8834,
          0.8844,
          0.8844,
          0.8849,
          0.8851,
          0.8853,
          0.8853,
          0.8857,
          0.8861,
          0.8862,
          0.8867,
          0.8872,
          0.8872,
          0.8879,
          0.8873,
          0.8879,
          0.8876,
          0.8879,
          0.8879,
          0.8879,
          0.8883,
          0.889,
          0.8888,
          0.8888,
          0.8892,
          0.8889,
          0.8887,
          0.8889,
          0.8885,
          0.888,
          0.8882,
          0.8889,
          0.8884,
          0.8881,
          0.8885,
          0.8884,
          0.8884,
          0.8879,
          0.8879,
          0.8879,
          0.8879,
          0.8885,
          0.8874,
          0.8867,
          0.8874,
          0.8875,
          0.8873,
          0.8865,
          0.8857,
          0.8863,
          0.8857,
          0.8854,
          0.8854,
          0.8851,
          0.8851,
          0.8852,
          0.8849,
          0.8848,
          0.884,
          0.8839,
          0.8834,
          0.883,
          0.8825,
          0.8827,
          0.8823,
          0.8815,
          0.8807,
          0.8811,
          0.8815,
          0.8807,
          0.8805,
          0.8801,
          0.8787,
          0.8785,
          0.8788,
          0.8783,
          0.8779,
          0.8779,
          0.8777,
          0.8776,
          0.8775,
          0.8768,
          0.8755,
          0.8751,
          0.8754,
          0.8745,
          0.8742,
          0.8741,
          0.8742,
          0.8736,
          0.8726,
          0.873,
          0.8724,
          0.8716,
          0.8714,
          0.8706,
          0.8698,
          0.8685,
          0.8677,
          0.8675,
          0.8675,
          0.8671,
          0.8672,
          0.8671,
          0.8663,
          0.8654,
          0.8651,
          0.8647,
          0.8642,
          0.8644,
          0.8639,
          0.8632,
          0.8626,
          0.8621,
          0.8622,
          0.8617,
          0.8611,
          0.861,
          0.8608,
          0.86,
          0.8595,
          0.8594,
          0.8585,
          0.8579,
          0.8576,
          0.8572,
          0.8575,
          0.8571,
          0.8563,
          0.856,
          0.8556,
          0.8553,
          0.8551,
          0.8549,
          0.8539,
          0.8536,
          0.8528,
          0.8518,
          0.8517,
          0.8514,
          0.8512,
          0.8509,
          0.8498,
          0.8492,
          0.8493,
          0.8494,
          0.8497,
          0.849,
          0.8475,
          0.8484,
          0.8472,
          0.8466,
          0.8471,
          0.8469,
          0.8467,
          0.847,
          0.8455,
          0.8447,
          0.844,
          0.8435,
          0.8424,
          0.8425,
          0.8433,
          0.8432,
          0.8427,
          0.8425,
          0.8416,
          0.8413,
          0.842,
          0.8423,
          0.8411,
          0.8409,
          0.8419,
          0.8394,
          0.8394,
          0.8386,
          0.839,
          0.8392,
          0.8385,
          0.8391,
          0.8364,
          0.8373,
          0.8378,
          0.8366,
          0.8371,
          0.8352,
          0.8346,
          0.8352,
          0.8355,
          0.835,
          0.8357,
          0.8359,
          0.8353,
          0.8336,
          0.8338,
          0.8337,
          0.8335,
          0.8331,
          0.8338,
          0.8335,
          0.8314,
          0.832,
          0.8314,
          0.8331,
          0.8322,
          0.8314,
          0.8307,
          0.8299,
          0.8287,
          0.828,
          0.8289,
          0.8309,
          0.8307,
          0.8304,
          0.828,
          0.8282,
          0.8287,
          0.8288,
          0.8296,
          0.83,
          0.831,
          0.8287,
          0.8288,
          0.8284,
          0.8266,
          0.8286,
          0.8266,
          0.8273,
          0.8263,
          0.8247,
          0.8223,
          0.8262,
          0.828,
          0.825,
          0.8247,
          0.8247,
          0.8235,
          0.8266,
          0.8255,
          0.8228,
          0.826,
          0.8239,
          0.8319,
          0.8264,
          0.8266,
          0.8254,
          0.8253,
          0.8256,
          0.8244,
          0.8248,
          0.8244,
          0.824,
          0.8243,
          0.8245,
          0.8237,
          0.8237,
          0.8242,
          0.8235,
          0.8233,
          0.8235,
          0.8235,
          0.823,
          0.8232,
          0.823,
          0.823,
          0.8224,
          0.8225,
          0.8223,
          0.8225,
          0.8225,
          0.8224,
          0.8224,
          0.8226,
          0.8225,
          0.822,
          0.8221,
          0.8221,
          0.8215,
          0.8218,
          0.8217,
          0.8216,
          0.8212,
          0.821,
          0.8213,
          0.8212,
          0.821,
          0.8208,
          0.8209,
          0.8207,
          0.8205,
          0.8206,
          0.8206,
          0.8205,
          0.8205,
          0.8203,
          0.8201,
          0.8201,
          0.8202,
          0.82,
          0.82,
          0.8199,
          0.82,
          0.8197,
          0.8195,
          0.8194,
          0.8194,
          0.8194,
          0.8194,
          0.8192,
          0.8192,
          0.819,
          0.8187,
          0.8186,
          0.8186,
          0.8184,
          0.8185,
          0.8184,
          0.8184,
          0.8182,
          0.8182,
          0.8182,
          0.8181,
          0.818,
          0.8178,
          0.8178,
          0.8177,
          0.8175,
          0.8175,
          0.8175,
          0.8173,
          0.8174,
          0.8174,
          0.8172,
          0.8169,
          0.8167,
          0.8167,
          0.8166,
          0.8165,
          0.8164,
          0.8164,
          0.8162,
          0.8161,
          0.816,
          0.8159,
          0.8158,
          0.8156,
          0.8154,
          0.8153,
          0.8151,
          0.8148,
          0.8147,
          0.8146,
          0.8145,
          0.8144,
          0.8143,
          0.814,
          0.8138,
          0.8138,
          0.8136,
          0.8134,
          0.8132,
          0.8132,
          0.813,
          0.8128,
          0.8127,
          0.8126,
          0.8124,
          0.8122,
          0.8121,
          0.8119,
          0.8118,
          0.8117,
          0.8115,
          0.8112,
          0.8109,
          0.8107,
          0.8106,
          0.8104,
          0.8102,
          0.81,
          0.8098,
          0.8096,
          0.8094,
          0.8091,
          0.8089,
          0.8086,
          0.8084,
          0.8082,
          0.808,
          0.8078,
          0.8075,
          0.8072,
          0.807,
          0.8068,
          0.8065,
          0.8063,
          0.8061,
          0.8058,
          0.8056,
          0.8054,
          0.805,
          0.8047,
          0.8045,
          0.8042,
          0.8039,
          0.8035,
          0.8033,
          0.8031,
          0.8028
         ]
        },
        {
         "mode": "lines",
         "name": "Simulado",
         "type": "scatter",
         "x": [
          400,
          406.06060606060606,
          412.1212121212121,
          418.1818181818182,
          424.24242424242425,
          430.3030303030303,
          436.3636363636364,
          442.42424242424244,
          448.4848484848485,
          454.54545454545456,
          460.6060606060606,
          466.6666666666667,
          472.72727272727275,
          478.78787878787875,
          484.8484848484849,
          490.9090909090909,
          496.969696969697,
          503.030303030303,
          509.0909090909091,
          515.1515151515151,
          521.2121212121212,
          527.2727272727273,
          533.3333333333334,
          539.3939393939394,
          545.4545454545455,
          551.5151515151515,
          557.5757575757575,
          563.6363636363636,
          569.6969696969697,
          575.7575757575758,
          581.8181818181818,
          587.8787878787879,
          593.939393939394,
          600,
          606.060606060606,
          612.1212121212121,
          618.1818181818182,
          624.2424242424242,
          630.3030303030303,
          636.3636363636364,
          642.4242424242425,
          648.4848484848485,
          654.5454545454545,
          660.6060606060606,
          666.6666666666667,
          672.7272727272727,
          678.7878787878788,
          684.8484848484849,
          690.9090909090909,
          696.969696969697,
          703.030303030303,
          709.090909090909,
          715.1515151515151,
          721.2121212121212,
          727.2727272727273,
          733.3333333333333,
          739.3939393939394,
          745.4545454545455,
          751.5151515151515,
          757.5757575757575,
          763.6363636363636,
          769.6969696969697,
          775.7575757575758,
          781.8181818181818,
          787.8787878787879,
          793.939393939394,
          800,
          806.060606060606,
          812.1212121212121,
          818.1818181818182,
          824.2424242424242,
          830.3030303030303,
          836.3636363636364,
          842.4242424242425,
          848.4848484848485,
          854.5454545454545,
          860.6060606060606,
          866.6666666666667,
          872.7272727272727,
          878.7878787878788,
          884.8484848484849,
          890.9090909090909,
          896.969696969697,
          903.030303030303,
          909.090909090909,
          915.1515151515151,
          921.2121212121212,
          927.2727272727273,
          933.3333333333334,
          939.3939393939394,
          945.4545454545455,
          951.5151515151515,
          957.5757575757576,
          963.6363636363636,
          969.6969696969697,
          975.7575757575758,
          981.8181818181818,
          987.8787878787879,
          993.9393939393939,
          1000
         ],
         "y": [
          0.8408624161498274,
          0.8246014918084213,
          0.8106941757987052,
          0.7987440556154617,
          0.7884095264011506,
          0.7793961035667172,
          0.7714500490185656,
          0.7677810004578783,
          0.764729035510456,
          0.762136591923131,
          0.7646215608498295,
          0.7673004716126965,
          0.7700640962132911,
          0.7728153826788234,
          0.7785678629513376,
          0.7841585583914571,
          0.7895145434305828,
          0.7945726783252974,
          0.8040556547246471,
          0.8131614205522204,
          0.821834360647715,
          0.8300274211899721,
          0.8377022718762522,
          0.8448292936285885,
          0.851387396832025,
          0.8573636824827242,
          0.8627529647435991,
          0.8675571779634805,
          0.8717846940704742,
          0.8754495774146365,
          0.8785708037543326,
          0.8811714683969232,
          0.8832780058190041,
          0.8849194397273157,
          0.8861266787917488,
          0.8869318694654744,
          0.8873678136333348,
          0.887467455470402,
          0.8872634389629421,
          0.8867877351062787,
          0.8860713358662288,
          0.8851440105564117,
          0.8829917766062453,
          0.8807232034852734,
          0.8783622860836483,
          0.875931143249921,
          0.8734500426134405,
          0.8709374479139556,
          0.8684100837444729,
          0.8658830132570419,
          0.8633697250092155,
          0.8608822257228987,
          0.8584311362748442,
          0.8560257887322787,
          0.8536743226851533,
          0.8513837795083369,
          0.8491601935150079,
          0.8470086792400807,
          0.8449335143242284,
          0.8429382176597535,
          0.8410256226141439,
          0.8391979452704571,
          0.8374568477201634,
          0.8358034965179992,
          0.8342386164632969,
          0.8327625399116827,
          0.8313752518476147,
          0.8300764309646629,
          0.8288654870086504,
          0.8277415946406735,
          0.8267037240740072,
          0.8257506687322506,
          0.8248810701667575,
          0.8240934404602411,
          0.8233861823310646,
          0.822757607139715,
          0.8219565842780141,
          0.8212343230185973,
          0.8205886709649862,
          0.8200174566326437,
          0.819469372928265,
          0.8189885100932989,
          0.8185728324794941,
          0.8177059689646783,
          0.8168774893283044,
          0.816086496809973,
          0.8153320972511212,
          0.8146134010255832,
          0.8139295247433275,
          0.8132795927482277,
          0.8126627384289571,
          0.8120781053605326,
          0.8115248482924914,
          0.8110021339983664,
          0.8105091419998233,
          0.8100450651776829,
          0.8096091102809728,
          0.8092004983441794,
          0.8088184650219606,
          0.8084622608497639
         ]
        }
       ],
       "layout": {
        "annotations": [
         {
          "bgcolor": "rgba(255,255,255,0.7)",
          "bordercolor": "black",
          "borderwidth": 1,
          "font": {
           "color": "black",
           "size": 12
          },
          "showarrow": false,
          "text": "RMSE: 0.17 %, MAPE: 0.13 %",
          "x": 0.05,
          "xref": "paper",
          "y": 0.95,
          "yref": "paper"
         }
        ],
        "template": {
         "data": {
          "bar": [
           {
            "error_x": {
             "color": "#2a3f5f"
            },
            "error_y": {
             "color": "#2a3f5f"
            },
            "marker": {
             "line": {
              "color": "#E5ECF6",
              "width": 0.5
             },
             "pattern": {
              "fillmode": "overlay",
              "size": 10,
              "solidity": 0.2
             }
            },
            "type": "bar"
           }
          ],
          "barpolar": [
           {
            "marker": {
             "line": {
              "color": "#E5ECF6",
              "width": 0.5
             },
             "pattern": {
              "fillmode": "overlay",
              "size": 10,
              "solidity": 0.2
             }
            },
            "type": "barpolar"
           }
          ],
          "carpet": [
           {
            "aaxis": {
             "endlinecolor": "#2a3f5f",
             "gridcolor": "white",
             "linecolor": "white",
             "minorgridcolor": "white",
             "startlinecolor": "#2a3f5f"
            },
            "baxis": {
             "endlinecolor": "#2a3f5f",
             "gridcolor": "white",
             "linecolor": "white",
             "minorgridcolor": "white",
             "startlinecolor": "#2a3f5f"
            },
            "type": "carpet"
           }
          ],
          "choropleth": [
           {
            "colorbar": {
             "outlinewidth": 0,
             "ticks": ""
            },
            "type": "choropleth"
           }
          ],
          "contour": [
           {
            "colorbar": {
             "outlinewidth": 0,
             "ticks": ""
            },
            "colorscale": [
             [
              0,
              "#0d0887"
             ],
             [
              0.1111111111111111,
              "#46039f"
             ],
             [
              0.2222222222222222,
              "#7201a8"
             ],
             [
              0.3333333333333333,
              "#9c179e"
             ],
             [
              0.4444444444444444,
              "#bd3786"
             ],
             [
              0.5555555555555556,
              "#d8576b"
             ],
             [
              0.6666666666666666,
              "#ed7953"
             ],
             [
              0.7777777777777778,
              "#fb9f3a"
             ],
             [
              0.8888888888888888,
              "#fdca26"
             ],
             [
              1,
              "#f0f921"
             ]
            ],
            "type": "contour"
           }
          ],
          "contourcarpet": [
           {
            "colorbar": {
             "outlinewidth": 0,
             "ticks": ""
            },
            "type": "contourcarpet"
           }
          ],
          "heatmap": [
           {
            "colorbar": {
             "outlinewidth": 0,
             "ticks": ""
            },
            "colorscale": [
             [
              0,
              "#0d0887"
             ],
             [
              0.1111111111111111,
              "#46039f"
             ],
             [
              0.2222222222222222,
              "#7201a8"
             ],
             [
              0.3333333333333333,
              "#9c179e"
             ],
             [
              0.4444444444444444,
              "#bd3786"
             ],
             [
              0.5555555555555556,
              "#d8576b"
             ],
             [
              0.6666666666666666,
              "#ed7953"
             ],
             [
              0.7777777777777778,
              "#fb9f3a"
             ],
             [
              0.8888888888888888,
              "#fdca26"
             ],
             [
              1,
              "#f0f921"
             ]
            ],
            "type": "heatmap"
           }
          ],
          "heatmapgl": [
           {
            "colorbar": {
             "outlinewidth": 0,
             "ticks": ""
            },
            "colorscale": [
             [
              0,
              "#0d0887"
             ],
             [
              0.1111111111111111,
              "#46039f"
             ],
             [
              0.2222222222222222,
              "#7201a8"
             ],
             [
              0.3333333333333333,
              "#9c179e"
             ],
             [
              0.4444444444444444,
              "#bd3786"
             ],
             [
              0.5555555555555556,
              "#d8576b"
             ],
             [
              0.6666666666666666,
              "#ed7953"
             ],
             [
              0.7777777777777778,
              "#fb9f3a"
             ],
             [
              0.8888888888888888,
              "#fdca26"
             ],
             [
              1,
              "#f0f921"
             ]
            ],
            "type": "heatmapgl"
           }
          ],
          "histogram": [
           {
            "marker": {
             "pattern": {
              "fillmode": "overlay",
              "size": 10,
              "solidity": 0.2
             }
            },
            "type": "histogram"
           }
          ],
          "histogram2d": [
           {
            "colorbar": {
             "outlinewidth": 0,
             "ticks": ""
            },
            "colorscale": [
             [
              0,
              "#0d0887"
             ],
             [
              0.1111111111111111,
              "#46039f"
             ],
             [
              0.2222222222222222,
              "#7201a8"
             ],
             [
              0.3333333333333333,
              "#9c179e"
             ],
             [
              0.4444444444444444,
              "#bd3786"
             ],
             [
              0.5555555555555556,
              "#d8576b"
             ],
             [
              0.6666666666666666,
              "#ed7953"
             ],
             [
              0.7777777777777778,
              "#fb9f3a"
             ],
             [
              0.8888888888888888,
              "#fdca26"
             ],
             [
              1,
              "#f0f921"
             ]
            ],
            "type": "histogram2d"
           }
          ],
          "histogram2dcontour": [
           {
            "colorbar": {
             "outlinewidth": 0,
             "ticks": ""
            },
            "colorscale": [
             [
              0,
              "#0d0887"
             ],
             [
              0.1111111111111111,
              "#46039f"
             ],
             [
              0.2222222222222222,
              "#7201a8"
             ],
             [
              0.3333333333333333,
              "#9c179e"
             ],
             [
              0.4444444444444444,
              "#bd3786"
             ],
             [
              0.5555555555555556,
              "#d8576b"
             ],
             [
              0.6666666666666666,
              "#ed7953"
             ],
             [
              0.7777777777777778,
              "#fb9f3a"
             ],
             [
              0.8888888888888888,
              "#fdca26"
             ],
             [
              1,
              "#f0f921"
             ]
            ],
            "type": "histogram2dcontour"
           }
          ],
          "mesh3d": [
           {
            "colorbar": {
             "outlinewidth": 0,
             "ticks": ""
            },
            "type": "mesh3d"
           }
          ],
          "parcoords": [
           {
            "line": {
             "colorbar": {
              "outlinewidth": 0,
              "ticks": ""
             }
            },
            "type": "parcoords"
           }
          ],
          "pie": [
           {
            "automargin": true,
            "type": "pie"
           }
          ],
          "scatter": [
           {
            "fillpattern": {
             "fillmode": "overlay",
             "size": 10,
             "solidity": 0.2
            },
            "type": "scatter"
           }
          ],
          "scatter3d": [
           {
            "line": {
             "colorbar": {
              "outlinewidth": 0,
              "ticks": ""
             }
            },
            "marker": {
             "colorbar": {
              "outlinewidth": 0,
              "ticks": ""
             }
            },
            "type": "scatter3d"
           }
          ],
          "scattercarpet": [
           {
            "marker": {
             "colorbar": {
              "outlinewidth": 0,
              "ticks": ""
             }
            },
            "type": "scattercarpet"
           }
          ],
          "scattergeo": [
           {
            "marker": {
             "colorbar": {
              "outlinewidth": 0,
              "ticks": ""
             }
            },
            "type": "scattergeo"
           }
          ],
          "scattergl": [
           {
            "marker": {
             "colorbar": {
              "outlinewidth": 0,
              "ticks": ""
             }
            },
            "type": "scattergl"
           }
          ],
          "scattermapbox": [
           {
            "marker": {
             "colorbar": {
              "outlinewidth": 0,
              "ticks": ""
             }
            },
            "type": "scattermapbox"
           }
          ],
          "scatterpolar": [
           {
            "marker": {
             "colorbar": {
              "outlinewidth": 0,
              "ticks": ""
             }
            },
            "type": "scatterpolar"
           }
          ],
          "scatterpolargl": [
           {
            "marker": {
             "colorbar": {
              "outlinewidth": 0,
              "ticks": ""
             }
            },
            "type": "scatterpolargl"
           }
          ],
          "scatterternary": [
           {
            "marker": {
             "colorbar": {
              "outlinewidth": 0,
              "ticks": ""
             }
            },
            "type": "scatterternary"
           }
          ],
          "surface": [
           {
            "colorbar": {
             "outlinewidth": 0,
             "ticks": ""
            },
            "colorscale": [
             [
              0,
              "#0d0887"
             ],
             [
              0.1111111111111111,
              "#46039f"
             ],
             [
              0.2222222222222222,
              "#7201a8"
             ],
             [
              0.3333333333333333,
              "#9c179e"
             ],
             [
              0.4444444444444444,
              "#bd3786"
             ],
             [
              0.5555555555555556,
              "#d8576b"
             ],
             [
              0.6666666666666666,
              "#ed7953"
             ],
             [
              0.7777777777777778,
              "#fb9f3a"
             ],
             [
              0.8888888888888888,
              "#fdca26"
             ],
             [
              1,
              "#f0f921"
             ]
            ],
            "type": "surface"
           }
          ],
          "table": [
           {
            "cells": {
             "fill": {
              "color": "#EBF0F8"
             },
             "line": {
              "color": "white"
             }
            },
            "header": {
             "fill": {
              "color": "#C8D4E3"
             },
             "line": {
              "color": "white"
             }
            },
            "type": "table"
           }
          ]
         },
         "layout": {
          "annotationdefaults": {
           "arrowcolor": "#2a3f5f",
           "arrowhead": 0,
           "arrowwidth": 1
          },
          "autotypenumbers": "strict",
          "coloraxis": {
           "colorbar": {
            "outlinewidth": 0,
            "ticks": ""
           }
          },
          "colorscale": {
           "diverging": [
            [
             0,
             "#8e0152"
            ],
            [
             0.1,
             "#c51b7d"
            ],
            [
             0.2,
             "#de77ae"
            ],
            [
             0.3,
             "#f1b6da"
            ],
            [
             0.4,
             "#fde0ef"
            ],
            [
             0.5,
             "#f7f7f7"
            ],
            [
             0.6,
             "#e6f5d0"
            ],
            [
             0.7,
             "#b8e186"
            ],
            [
             0.8,
             "#7fbc41"
            ],
            [
             0.9,
             "#4d9221"
            ],
            [
             1,
             "#276419"
            ]
           ],
           "sequential": [
            [
             0,
             "#0d0887"
            ],
            [
             0.1111111111111111,
             "#46039f"
            ],
            [
             0.2222222222222222,
             "#7201a8"
            ],
            [
             0.3333333333333333,
             "#9c179e"
            ],
            [
             0.4444444444444444,
             "#bd3786"
            ],
            [
             0.5555555555555556,
             "#d8576b"
            ],
            [
             0.6666666666666666,
             "#ed7953"
            ],
            [
             0.7777777777777778,
             "#fb9f3a"
            ],
            [
             0.8888888888888888,
             "#fdca26"
            ],
            [
             1,
             "#f0f921"
            ]
           ],
           "sequentialminus": [
            [
             0,
             "#0d0887"
            ],
            [
             0.1111111111111111,
             "#46039f"
            ],
            [
             0.2222222222222222,
             "#7201a8"
            ],
            [
             0.3333333333333333,
             "#9c179e"
            ],
            [
             0.4444444444444444,
             "#bd3786"
            ],
            [
             0.5555555555555556,
             "#d8576b"
            ],
            [
             0.6666666666666666,
             "#ed7953"
            ],
            [
             0.7777777777777778,
             "#fb9f3a"
            ],
            [
             0.8888888888888888,
             "#fdca26"
            ],
            [
             1,
             "#f0f921"
            ]
           ]
          },
          "colorway": [
           "#636efa",
           "#EF553B",
           "#00cc96",
           "#ab63fa",
           "#FFA15A",
           "#19d3f3",
           "#FF6692",
           "#B6E880",
           "#FF97FF",
           "#FECB52"
          ],
          "font": {
           "color": "#2a3f5f"
          },
          "geo": {
           "bgcolor": "white",
           "lakecolor": "white",
           "landcolor": "#E5ECF6",
           "showlakes": true,
           "showland": true,
           "subunitcolor": "white"
          },
          "hoverlabel": {
           "align": "left"
          },
          "hovermode": "closest",
          "mapbox": {
           "style": "light"
          },
          "paper_bgcolor": "white",
          "plot_bgcolor": "#E5ECF6",
          "polar": {
           "angularaxis": {
            "gridcolor": "white",
            "linecolor": "white",
            "ticks": ""
           },
           "bgcolor": "#E5ECF6",
           "radialaxis": {
            "gridcolor": "white",
            "linecolor": "white",
            "ticks": ""
           }
          },
          "scene": {
           "xaxis": {
            "backgroundcolor": "#E5ECF6",
            "gridcolor": "white",
            "gridwidth": 2,
            "linecolor": "white",
            "showbackground": true,
            "ticks": "",
            "zerolinecolor": "white"
           },
           "yaxis": {
            "backgroundcolor": "#E5ECF6",
            "gridcolor": "white",
            "gridwidth": 2,
            "linecolor": "white",
            "showbackground": true,
            "ticks": "",
            "zerolinecolor": "white"
           },
           "zaxis": {
            "backgroundcolor": "#E5ECF6",
            "gridcolor": "white",
            "gridwidth": 2,
            "linecolor": "white",
            "showbackground": true,
            "ticks": "",
            "zerolinecolor": "white"
           }
          },
          "shapedefaults": {
           "line": {
            "color": "#2a3f5f"
           }
          },
          "ternary": {
           "aaxis": {
            "gridcolor": "white",
            "linecolor": "white",
            "ticks": ""
           },
           "baxis": {
            "gridcolor": "white",
            "linecolor": "white",
            "ticks": ""
           },
           "bgcolor": "#E5ECF6",
           "caxis": {
            "gridcolor": "white",
            "linecolor": "white",
            "ticks": ""
           }
          },
          "title": {
           "x": 0.05
          },
          "xaxis": {
           "automargin": true,
           "gridcolor": "white",
           "linecolor": "white",
           "ticks": "",
           "title": {
            "standoff": 15
           },
           "zerolinecolor": "white",
           "zerolinewidth": 2
          },
          "yaxis": {
           "automargin": true,
           "gridcolor": "white",
           "linecolor": "white",
           "ticks": "",
           "title": {
            "standoff": 15
           },
           "zerolinecolor": "white",
           "zerolinewidth": 2
          }
         }
        },
        "title": {
         "text": "Transmitancia Experimental vs Simulada"
        },
        "xaxis": {
         "title": {
          "text": "Longitud de onda (nm)"
         }
        },
        "yaxis": {
         "title": {
          "text": "Transmitancia"
         }
        }
       }
      }
     },
     "metadata": {},
     "output_type": "display_data"
    },
    {
     "data": {
      "application/vnd.plotly.v1+json": {
       "config": {
        "plotlyServerURL": "https://plot.ly"
       },
       "data": [
        {
         "mode": "lines",
         "name": "n",
         "type": "scatter",
         "x": [
          400,
          406.06060606060606,
          412.1212121212121,
          418.1818181818182,
          424.24242424242425,
          430.3030303030303,
          436.3636363636364,
          442.42424242424244,
          448.4848484848485,
          454.54545454545456,
          460.6060606060606,
          466.6666666666667,
          472.72727272727275,
          478.78787878787875,
          484.8484848484849,
          490.9090909090909,
          496.969696969697,
          503.030303030303,
          509.0909090909091,
          515.1515151515151,
          521.2121212121212,
          527.2727272727273,
          533.3333333333334,
          539.3939393939394,
          545.4545454545455,
          551.5151515151515,
          557.5757575757575,
          563.6363636363636,
          569.6969696969697,
          575.7575757575758,
          581.8181818181818,
          587.8787878787879,
          593.939393939394,
          600,
          606.060606060606,
          612.1212121212121,
          618.1818181818182,
          624.2424242424242,
          630.3030303030303,
          636.3636363636364,
          642.4242424242425,
          648.4848484848485,
          654.5454545454545,
          660.6060606060606,
          666.6666666666667,
          672.7272727272727,
          678.7878787878788,
          684.8484848484849,
          690.9090909090909,
          696.969696969697,
          703.030303030303,
          709.090909090909,
          715.1515151515151,
          721.2121212121212,
          727.2727272727273,
          733.3333333333333,
          739.3939393939394,
          745.4545454545455,
          751.5151515151515,
          757.5757575757575,
          763.6363636363636,
          769.6969696969697,
          775.7575757575758,
          781.8181818181818,
          787.8787878787879,
          793.939393939394,
          800,
          806.060606060606,
          812.1212121212121,
          818.1818181818182,
          824.2424242424242,
          830.3030303030303,
          836.3636363636364,
          842.4242424242425,
          848.4848484848485,
          854.5454545454545,
          860.6060606060606,
          866.6666666666667,
          872.7272727272727,
          878.7878787878788,
          884.8484848484849,
          890.9090909090909,
          896.969696969697,
          903.030303030303,
          909.090909090909,
          915.1515151515151,
          921.2121212121212,
          927.2727272727273,
          933.3333333333334,
          939.3939393939394,
          945.4545454545455,
          951.5151515151515,
          957.5757575757576,
          963.6363636363636,
          969.6969696969697,
          975.7575757575758,
          981.8181818181818,
          987.8787878787879,
          993.9393939393939,
          1000
         ],
         "y": [
          2.087155624055169,
          2.0847512728905087,
          2.0823469217258483,
          2.079942570683616,
          2.0775382196413834,
          2.075133868599151,
          2.0727295175569185,
          2.070325166514686,
          2.0679208154724535,
          2.065516464430221,
          2.0631121133879886,
          2.060707762345756,
          2.0583034113035237,
          2.055899060261291,
          2.0534947092190587,
          2.0510903581768263,
          2.048686007134594,
          2.0462816560923613,
          2.043877305050129,
          2.0414729540078964,
          2.039068602965664,
          2.0366642519234315,
          2.034259900881199,
          2.0318555498389665,
          2.029451198796734,
          2.0270468477545016,
          2.024642496712269,
          2.0222381456700367,
          2.019833794627804,
          2.0174294435855717,
          2.0150250925433393,
          2.012620741501107,
          2.0102163904588743,
          2.007812039416642,
          2.0054076883744094,
          2.003003337332177,
          2.0005989862899445,
          1.998194635247712,
          1.9957902842054795,
          1.993385933163247,
          1.9909815821210146,
          1.9885772310787821,
          1.9861728800365497,
          1.9837685289943172,
          1.9813641779520847,
          1.9789598269098523,
          1.9765554758676198,
          1.9741511248253873,
          1.9717467737831549,
          1.9693424227409224,
          1.96693807169869,
          1.9645337206564575,
          1.962129369614225,
          1.9597250185719925,
          1.95732066752976,
          1.9549163164875276,
          1.9525119654452952,
          1.9501076144030627,
          1.9477032633608302,
          1.9452989123185978,
          1.9428945612763653,
          1.9404902102341328,
          1.9380858591919004,
          1.9356815081496679,
          1.9332771571074354,
          1.930872806065203,
          1.9284684550229705,
          1.926064103980738,
          1.9236597529385056,
          1.921255401896273,
          1.9188510508540406,
          1.9164466998118082,
          1.9140423487695757,
          1.9116379977273432,
          1.9092336466851108,
          1.9068292956428783,
          1.9044249446006458,
          1.9020205935584134,
          1.8996162425161809,
          1.8972118914739484,
          1.8950325687030134,
          1.8928532459320784,
          1.8906739231611434,
          1.8906739231611434,
          1.8906739231611434,
          1.8906739231611434,
          1.8906739231611434,
          1.8906739231611434,
          1.8906739231611434,
          1.8906739231611434,
          1.8906739231611434,
          1.8906739231611434,
          1.8906739231611434,
          1.8906739231611434,
          1.8906739231611434,
          1.8906739231611434,
          1.8906739231611434,
          1.8906739231611434,
          1.8906739231611434,
          1.8906739231611434
         ]
        }
       ],
       "layout": {
        "template": {
         "data": {
          "bar": [
           {
            "error_x": {
             "color": "#2a3f5f"
            },
            "error_y": {
             "color": "#2a3f5f"
            },
            "marker": {
             "line": {
              "color": "#E5ECF6",
              "width": 0.5
             },
             "pattern": {
              "fillmode": "overlay",
              "size": 10,
              "solidity": 0.2
             }
            },
            "type": "bar"
           }
          ],
          "barpolar": [
           {
            "marker": {
             "line": {
              "color": "#E5ECF6",
              "width": 0.5
             },
             "pattern": {
              "fillmode": "overlay",
              "size": 10,
              "solidity": 0.2
             }
            },
            "type": "barpolar"
           }
          ],
          "carpet": [
           {
            "aaxis": {
             "endlinecolor": "#2a3f5f",
             "gridcolor": "white",
             "linecolor": "white",
             "minorgridcolor": "white",
             "startlinecolor": "#2a3f5f"
            },
            "baxis": {
             "endlinecolor": "#2a3f5f",
             "gridcolor": "white",
             "linecolor": "white",
             "minorgridcolor": "white",
             "startlinecolor": "#2a3f5f"
            },
            "type": "carpet"
           }
          ],
          "choropleth": [
           {
            "colorbar": {
             "outlinewidth": 0,
             "ticks": ""
            },
            "type": "choropleth"
           }
          ],
          "contour": [
           {
            "colorbar": {
             "outlinewidth": 0,
             "ticks": ""
            },
            "colorscale": [
             [
              0,
              "#0d0887"
             ],
             [
              0.1111111111111111,
              "#46039f"
             ],
             [
              0.2222222222222222,
              "#7201a8"
             ],
             [
              0.3333333333333333,
              "#9c179e"
             ],
             [
              0.4444444444444444,
              "#bd3786"
             ],
             [
              0.5555555555555556,
              "#d8576b"
             ],
             [
              0.6666666666666666,
              "#ed7953"
             ],
             [
              0.7777777777777778,
              "#fb9f3a"
             ],
             [
              0.8888888888888888,
              "#fdca26"
             ],
             [
              1,
              "#f0f921"
             ]
            ],
            "type": "contour"
           }
          ],
          "contourcarpet": [
           {
            "colorbar": {
             "outlinewidth": 0,
             "ticks": ""
            },
            "type": "contourcarpet"
           }
          ],
          "heatmap": [
           {
            "colorbar": {
             "outlinewidth": 0,
             "ticks": ""
            },
            "colorscale": [
             [
              0,
              "#0d0887"
             ],
             [
              0.1111111111111111,
              "#46039f"
             ],
             [
              0.2222222222222222,
              "#7201a8"
             ],
             [
              0.3333333333333333,
              "#9c179e"
             ],
             [
              0.4444444444444444,
              "#bd3786"
             ],
             [
              0.5555555555555556,
              "#d8576b"
             ],
             [
              0.6666666666666666,
              "#ed7953"
             ],
             [
              0.7777777777777778,
              "#fb9f3a"
             ],
             [
              0.8888888888888888,
              "#fdca26"
             ],
             [
              1,
              "#f0f921"
             ]
            ],
            "type": "heatmap"
           }
          ],
          "heatmapgl": [
           {
            "colorbar": {
             "outlinewidth": 0,
             "ticks": ""
            },
            "colorscale": [
             [
              0,
              "#0d0887"
             ],
             [
              0.1111111111111111,
              "#46039f"
             ],
             [
              0.2222222222222222,
              "#7201a8"
             ],
             [
              0.3333333333333333,
              "#9c179e"
             ],
             [
              0.4444444444444444,
              "#bd3786"
             ],
             [
              0.5555555555555556,
              "#d8576b"
             ],
             [
              0.6666666666666666,
              "#ed7953"
             ],
             [
              0.7777777777777778,
              "#fb9f3a"
             ],
             [
              0.8888888888888888,
              "#fdca26"
             ],
             [
              1,
              "#f0f921"
             ]
            ],
            "type": "heatmapgl"
           }
          ],
          "histogram": [
           {
            "marker": {
             "pattern": {
              "fillmode": "overlay",
              "size": 10,
              "solidity": 0.2
             }
            },
            "type": "histogram"
           }
          ],
          "histogram2d": [
           {
            "colorbar": {
             "outlinewidth": 0,
             "ticks": ""
            },
            "colorscale": [
             [
              0,
              "#0d0887"
             ],
             [
              0.1111111111111111,
              "#46039f"
             ],
             [
              0.2222222222222222,
              "#7201a8"
             ],
             [
              0.3333333333333333,
              "#9c179e"
             ],
             [
              0.4444444444444444,
              "#bd3786"
             ],
             [
              0.5555555555555556,
              "#d8576b"
             ],
             [
              0.6666666666666666,
              "#ed7953"
             ],
             [
              0.7777777777777778,
              "#fb9f3a"
             ],
             [
              0.8888888888888888,
              "#fdca26"
             ],
             [
              1,
              "#f0f921"
             ]
            ],
            "type": "histogram2d"
           }
          ],
          "histogram2dcontour": [
           {
            "colorbar": {
             "outlinewidth": 0,
             "ticks": ""
            },
            "colorscale": [
             [
              0,
              "#0d0887"
             ],
             [
              0.1111111111111111,
              "#46039f"
             ],
             [
              0.2222222222222222,
              "#7201a8"
             ],
             [
              0.3333333333333333,
              "#9c179e"
             ],
             [
              0.4444444444444444,
              "#bd3786"
             ],
             [
              0.5555555555555556,
              "#d8576b"
             ],
             [
              0.6666666666666666,
              "#ed7953"
             ],
             [
              0.7777777777777778,
              "#fb9f3a"
             ],
             [
              0.8888888888888888,
              "#fdca26"
             ],
             [
              1,
              "#f0f921"
             ]
            ],
            "type": "histogram2dcontour"
           }
          ],
          "mesh3d": [
           {
            "colorbar": {
             "outlinewidth": 0,
             "ticks": ""
            },
            "type": "mesh3d"
           }
          ],
          "parcoords": [
           {
            "line": {
             "colorbar": {
              "outlinewidth": 0,
              "ticks": ""
             }
            },
            "type": "parcoords"
           }
          ],
          "pie": [
           {
            "automargin": true,
            "type": "pie"
           }
          ],
          "scatter": [
           {
            "fillpattern": {
             "fillmode": "overlay",
             "size": 10,
             "solidity": 0.2
            },
            "type": "scatter"
           }
          ],
          "scatter3d": [
           {
            "line": {
             "colorbar": {
              "outlinewidth": 0,
              "ticks": ""
             }
            },
            "marker": {
             "colorbar": {
              "outlinewidth": 0,
              "ticks": ""
             }
            },
            "type": "scatter3d"
           }
          ],
          "scattercarpet": [
           {
            "marker": {
             "colorbar": {
              "outlinewidth": 0,
              "ticks": ""
             }
            },
            "type": "scattercarpet"
           }
          ],
          "scattergeo": [
           {
            "marker": {
             "colorbar": {
              "outlinewidth": 0,
              "ticks": ""
             }
            },
            "type": "scattergeo"
           }
          ],
          "scattergl": [
           {
            "marker": {
             "colorbar": {
              "outlinewidth": 0,
              "ticks": ""
             }
            },
            "type": "scattergl"
           }
          ],
          "scattermapbox": [
           {
            "marker": {
             "colorbar": {
              "outlinewidth": 0,
              "ticks": ""
             }
            },
            "type": "scattermapbox"
           }
          ],
          "scatterpolar": [
           {
            "marker": {
             "colorbar": {
              "outlinewidth": 0,
              "ticks": ""
             }
            },
            "type": "scatterpolar"
           }
          ],
          "scatterpolargl": [
           {
            "marker": {
             "colorbar": {
              "outlinewidth": 0,
              "ticks": ""
             }
            },
            "type": "scatterpolargl"
           }
          ],
          "scatterternary": [
           {
            "marker": {
             "colorbar": {
              "outlinewidth": 0,
              "ticks": ""
             }
            },
            "type": "scatterternary"
           }
          ],
          "surface": [
           {
            "colorbar": {
             "outlinewidth": 0,
             "ticks": ""
            },
            "colorscale": [
             [
              0,
              "#0d0887"
             ],
             [
              0.1111111111111111,
              "#46039f"
             ],
             [
              0.2222222222222222,
              "#7201a8"
             ],
             [
              0.3333333333333333,
              "#9c179e"
             ],
             [
              0.4444444444444444,
              "#bd3786"
             ],
             [
              0.5555555555555556,
              "#d8576b"
             ],
             [
              0.6666666666666666,
              "#ed7953"
             ],
             [
              0.7777777777777778,
              "#fb9f3a"
             ],
             [
              0.8888888888888888,
              "#fdca26"
             ],
             [
              1,
              "#f0f921"
             ]
            ],
            "type": "surface"
           }
          ],
          "table": [
           {
            "cells": {
             "fill": {
              "color": "#EBF0F8"
             },
             "line": {
              "color": "white"
             }
            },
            "header": {
             "fill": {
              "color": "#C8D4E3"
             },
             "line": {
              "color": "white"
             }
            },
            "type": "table"
           }
          ]
         },
         "layout": {
          "annotationdefaults": {
           "arrowcolor": "#2a3f5f",
           "arrowhead": 0,
           "arrowwidth": 1
          },
          "autotypenumbers": "strict",
          "coloraxis": {
           "colorbar": {
            "outlinewidth": 0,
            "ticks": ""
           }
          },
          "colorscale": {
           "diverging": [
            [
             0,
             "#8e0152"
            ],
            [
             0.1,
             "#c51b7d"
            ],
            [
             0.2,
             "#de77ae"
            ],
            [
             0.3,
             "#f1b6da"
            ],
            [
             0.4,
             "#fde0ef"
            ],
            [
             0.5,
             "#f7f7f7"
            ],
            [
             0.6,
             "#e6f5d0"
            ],
            [
             0.7,
             "#b8e186"
            ],
            [
             0.8,
             "#7fbc41"
            ],
            [
             0.9,
             "#4d9221"
            ],
            [
             1,
             "#276419"
            ]
           ],
           "sequential": [
            [
             0,
             "#0d0887"
            ],
            [
             0.1111111111111111,
             "#46039f"
            ],
            [
             0.2222222222222222,
             "#7201a8"
            ],
            [
             0.3333333333333333,
             "#9c179e"
            ],
            [
             0.4444444444444444,
             "#bd3786"
            ],
            [
             0.5555555555555556,
             "#d8576b"
            ],
            [
             0.6666666666666666,
             "#ed7953"
            ],
            [
             0.7777777777777778,
             "#fb9f3a"
            ],
            [
             0.8888888888888888,
             "#fdca26"
            ],
            [
             1,
             "#f0f921"
            ]
           ],
           "sequentialminus": [
            [
             0,
             "#0d0887"
            ],
            [
             0.1111111111111111,
             "#46039f"
            ],
            [
             0.2222222222222222,
             "#7201a8"
            ],
            [
             0.3333333333333333,
             "#9c179e"
            ],
            [
             0.4444444444444444,
             "#bd3786"
            ],
            [
             0.5555555555555556,
             "#d8576b"
            ],
            [
             0.6666666666666666,
             "#ed7953"
            ],
            [
             0.7777777777777778,
             "#fb9f3a"
            ],
            [
             0.8888888888888888,
             "#fdca26"
            ],
            [
             1,
             "#f0f921"
            ]
           ]
          },
          "colorway": [
           "#636efa",
           "#EF553B",
           "#00cc96",
           "#ab63fa",
           "#FFA15A",
           "#19d3f3",
           "#FF6692",
           "#B6E880",
           "#FF97FF",
           "#FECB52"
          ],
          "font": {
           "color": "#2a3f5f"
          },
          "geo": {
           "bgcolor": "white",
           "lakecolor": "white",
           "landcolor": "#E5ECF6",
           "showlakes": true,
           "showland": true,
           "subunitcolor": "white"
          },
          "hoverlabel": {
           "align": "left"
          },
          "hovermode": "closest",
          "mapbox": {
           "style": "light"
          },
          "paper_bgcolor": "white",
          "plot_bgcolor": "#E5ECF6",
          "polar": {
           "angularaxis": {
            "gridcolor": "white",
            "linecolor": "white",
            "ticks": ""
           },
           "bgcolor": "#E5ECF6",
           "radialaxis": {
            "gridcolor": "white",
            "linecolor": "white",
            "ticks": ""
           }
          },
          "scene": {
           "xaxis": {
            "backgroundcolor": "#E5ECF6",
            "gridcolor": "white",
            "gridwidth": 2,
            "linecolor": "white",
            "showbackground": true,
            "ticks": "",
            "zerolinecolor": "white"
           },
           "yaxis": {
            "backgroundcolor": "#E5ECF6",
            "gridcolor": "white",
            "gridwidth": 2,
            "linecolor": "white",
            "showbackground": true,
            "ticks": "",
            "zerolinecolor": "white"
           },
           "zaxis": {
            "backgroundcolor": "#E5ECF6",
            "gridcolor": "white",
            "gridwidth": 2,
            "linecolor": "white",
            "showbackground": true,
            "ticks": "",
            "zerolinecolor": "white"
           }
          },
          "shapedefaults": {
           "line": {
            "color": "#2a3f5f"
           }
          },
          "ternary": {
           "aaxis": {
            "gridcolor": "white",
            "linecolor": "white",
            "ticks": ""
           },
           "baxis": {
            "gridcolor": "white",
            "linecolor": "white",
            "ticks": ""
           },
           "bgcolor": "#E5ECF6",
           "caxis": {
            "gridcolor": "white",
            "linecolor": "white",
            "ticks": ""
           }
          },
          "title": {
           "x": 0.05
          },
          "xaxis": {
           "automargin": true,
           "gridcolor": "white",
           "linecolor": "white",
           "ticks": "",
           "title": {
            "standoff": 15
           },
           "zerolinecolor": "white",
           "zerolinewidth": 2
          },
          "yaxis": {
           "automargin": true,
           "gridcolor": "white",
           "linecolor": "white",
           "ticks": "",
           "title": {
            "standoff": 15
           },
           "zerolinecolor": "white",
           "zerolinewidth": 2
          }
         }
        },
        "title": {
         "text": "Índice de Refracción vs λ"
        },
        "xaxis": {
         "title": {
          "text": "Longitud de onda (nm)"
         }
        },
        "yaxis": {
         "title": {
          "text": "n"
         }
        }
       }
      }
     },
     "metadata": {},
     "output_type": "display_data"
    },
    {
     "data": {
      "application/vnd.plotly.v1+json": {
       "config": {
        "plotlyServerURL": "https://plot.ly"
       },
       "data": [
        {
         "mode": "lines",
         "name": "κ",
         "type": "scatter",
         "x": [
          400,
          406.06060606060606,
          412.1212121212121,
          418.1818181818182,
          424.24242424242425,
          430.3030303030303,
          436.3636363636364,
          442.42424242424244,
          448.4848484848485,
          454.54545454545456,
          460.6060606060606,
          466.6666666666667,
          472.72727272727275,
          478.78787878787875,
          484.8484848484849,
          490.9090909090909,
          496.969696969697,
          503.030303030303,
          509.0909090909091,
          515.1515151515151,
          521.2121212121212,
          527.2727272727273,
          533.3333333333334,
          539.3939393939394,
          545.4545454545455,
          551.5151515151515,
          557.5757575757575,
          563.6363636363636,
          569.6969696969697,
          575.7575757575758,
          581.8181818181818,
          587.8787878787879,
          593.939393939394,
          600,
          606.060606060606,
          612.1212121212121,
          618.1818181818182,
          624.2424242424242,
          630.3030303030303,
          636.3636363636364,
          642.4242424242425,
          648.4848484848485,
          654.5454545454545,
          660.6060606060606,
          666.6666666666667,
          672.7272727272727,
          678.7878787878788,
          684.8484848484849,
          690.9090909090909,
          696.969696969697,
          703.030303030303,
          709.090909090909,
          715.1515151515151,
          721.2121212121212,
          727.2727272727273,
          733.3333333333333,
          739.3939393939394,
          745.4545454545455,
          751.5151515151515,
          757.5757575757575,
          763.6363636363636,
          769.6969696969697,
          775.7575757575758,
          781.8181818181818,
          787.8787878787879,
          793.939393939394,
          800,
          806.060606060606,
          812.1212121212121,
          818.1818181818182,
          824.2424242424242,
          830.3030303030303,
          836.3636363636364,
          842.4242424242425,
          848.4848484848485,
          854.5454545454545,
          860.6060606060606,
          866.6666666666667,
          872.7272727272727,
          878.7878787878788,
          884.8484848484849,
          890.9090909090909,
          896.969696969697,
          903.030303030303,
          909.090909090909,
          915.1515151515151,
          921.2121212121212,
          927.2727272727273,
          933.3333333333334,
          939.3939393939394,
          945.4545454545455,
          951.5151515151515,
          957.5757575757576,
          963.6363636363636,
          969.6969696969697,
          975.7575757575758,
          981.8181818181818,
          987.8787878787879,
          993.9393939393939,
          1000
         ],
         "y": [
          -0.029294897416015882,
          -0.024740859635112213,
          -0.020186821854208545,
          -0.015632784073304876,
          -0.01107874629240127,
          -0.006524708511497664,
          -0.001970670730594059,
          0.0014839631037634974,
          0.004938596938121054,
          0.00839323077247861,
          0.010312738397171903,
          0.012232246021865196,
          0.014151753646558489,
          0.01607126127125178,
          0.017001746902815165,
          0.017932232534378548,
          0.01886271816594193,
          0.019793203797505314,
          0.01921897964686653,
          0.018644755496227745,
          0.01807053134558896,
          0.017496307194950177,
          0.016922083044311392,
          0.016347858893672608,
          0.015773634743033824,
          0.015199410592395041,
          0.014625186441756258,
          0.014050962291117476,
          0.013476738140478693,
          0.01290251398983991,
          0.012328289839201128,
          0.011754065688562345,
          0.011179841537923563,
          0.01060561738728478,
          0.010031393236645997,
          0.009457169086007215,
          0.008882944935368432,
          0.00830872078472965,
          0.007734496634090867,
          0.007160272483452084,
          0.006586048332813302,
          0.006011824182174519,
          0.005851411700102456,
          0.005690999218030393,
          0.0055305867359583295,
          0.005370174253886266,
          0.005209761771814203,
          0.00504934928974214,
          0.004888936807670077,
          0.004728524325598013,
          0.00456811184352595,
          0.004407699361453887,
          0.004247286879381824,
          0.0040868743973097605,
          0.003926461915237697,
          0.0037660494331656345,
          0.0036056369510935713,
          0.003445224469021508,
          0.003284811986949445,
          0.0031243995048773816,
          0.0029639870228053184,
          0.002803574540733255,
          0.002643162058661192,
          0.0024827495765891287,
          0.0023223370945170655,
          0.0021619246124450022,
          0.002001512130372939,
          0.0018410996483008758,
          0.0016806871662288126,
          0.0015202746841567493,
          0.001359862202084686,
          0.0011994497200126229,
          0.0010390372379405596,
          0.0008786247558684963,
          0.000718212273796433,
          0.0005577997917243696,
          0.0005577997917243696,
          0.0005577997917243696,
          0.0005577997917243696,
          0.0005577997917243696,
          0.0005577997917243696,
          0.0005577997917243696,
          0.0005577997917243696,
          0.0005577997917243696,
          0.0005577997917243696,
          0.0005577997917243696,
          0.0005577997917243696,
          0.0005577997917243696,
          0.0005577997917243696,
          0.0005577997917243696,
          0.0005577997917243696,
          0.0005577997917243696,
          0.0005577997917243696,
          0.0005577997917243696,
          0.0005577997917243696,
          0.0005577997917243696,
          0.0005577997917243696,
          0.0005577997917243696,
          0.0005577997917243696,
          0.0005577997917243696
         ]
        }
       ],
       "layout": {
        "template": {
         "data": {
          "bar": [
           {
            "error_x": {
             "color": "#2a3f5f"
            },
            "error_y": {
             "color": "#2a3f5f"
            },
            "marker": {
             "line": {
              "color": "#E5ECF6",
              "width": 0.5
             },
             "pattern": {
              "fillmode": "overlay",
              "size": 10,
              "solidity": 0.2
             }
            },
            "type": "bar"
           }
          ],
          "barpolar": [
           {
            "marker": {
             "line": {
              "color": "#E5ECF6",
              "width": 0.5
             },
             "pattern": {
              "fillmode": "overlay",
              "size": 10,
              "solidity": 0.2
             }
            },
            "type": "barpolar"
           }
          ],
          "carpet": [
           {
            "aaxis": {
             "endlinecolor": "#2a3f5f",
             "gridcolor": "white",
             "linecolor": "white",
             "minorgridcolor": "white",
             "startlinecolor": "#2a3f5f"
            },
            "baxis": {
             "endlinecolor": "#2a3f5f",
             "gridcolor": "white",
             "linecolor": "white",
             "minorgridcolor": "white",
             "startlinecolor": "#2a3f5f"
            },
            "type": "carpet"
           }
          ],
          "choropleth": [
           {
            "colorbar": {
             "outlinewidth": 0,
             "ticks": ""
            },
            "type": "choropleth"
           }
          ],
          "contour": [
           {
            "colorbar": {
             "outlinewidth": 0,
             "ticks": ""
            },
            "colorscale": [
             [
              0,
              "#0d0887"
             ],
             [
              0.1111111111111111,
              "#46039f"
             ],
             [
              0.2222222222222222,
              "#7201a8"
             ],
             [
              0.3333333333333333,
              "#9c179e"
             ],
             [
              0.4444444444444444,
              "#bd3786"
             ],
             [
              0.5555555555555556,
              "#d8576b"
             ],
             [
              0.6666666666666666,
              "#ed7953"
             ],
             [
              0.7777777777777778,
              "#fb9f3a"
             ],
             [
              0.8888888888888888,
              "#fdca26"
             ],
             [
              1,
              "#f0f921"
             ]
            ],
            "type": "contour"
           }
          ],
          "contourcarpet": [
           {
            "colorbar": {
             "outlinewidth": 0,
             "ticks": ""
            },
            "type": "contourcarpet"
           }
          ],
          "heatmap": [
           {
            "colorbar": {
             "outlinewidth": 0,
             "ticks": ""
            },
            "colorscale": [
             [
              0,
              "#0d0887"
             ],
             [
              0.1111111111111111,
              "#46039f"
             ],
             [
              0.2222222222222222,
              "#7201a8"
             ],
             [
              0.3333333333333333,
              "#9c179e"
             ],
             [
              0.4444444444444444,
              "#bd3786"
             ],
             [
              0.5555555555555556,
              "#d8576b"
             ],
             [
              0.6666666666666666,
              "#ed7953"
             ],
             [
              0.7777777777777778,
              "#fb9f3a"
             ],
             [
              0.8888888888888888,
              "#fdca26"
             ],
             [
              1,
              "#f0f921"
             ]
            ],
            "type": "heatmap"
           }
          ],
          "heatmapgl": [
           {
            "colorbar": {
             "outlinewidth": 0,
             "ticks": ""
            },
            "colorscale": [
             [
              0,
              "#0d0887"
             ],
             [
              0.1111111111111111,
              "#46039f"
             ],
             [
              0.2222222222222222,
              "#7201a8"
             ],
             [
              0.3333333333333333,
              "#9c179e"
             ],
             [
              0.4444444444444444,
              "#bd3786"
             ],
             [
              0.5555555555555556,
              "#d8576b"
             ],
             [
              0.6666666666666666,
              "#ed7953"
             ],
             [
              0.7777777777777778,
              "#fb9f3a"
             ],
             [
              0.8888888888888888,
              "#fdca26"
             ],
             [
              1,
              "#f0f921"
             ]
            ],
            "type": "heatmapgl"
           }
          ],
          "histogram": [
           {
            "marker": {
             "pattern": {
              "fillmode": "overlay",
              "size": 10,
              "solidity": 0.2
             }
            },
            "type": "histogram"
           }
          ],
          "histogram2d": [
           {
            "colorbar": {
             "outlinewidth": 0,
             "ticks": ""
            },
            "colorscale": [
             [
              0,
              "#0d0887"
             ],
             [
              0.1111111111111111,
              "#46039f"
             ],
             [
              0.2222222222222222,
              "#7201a8"
             ],
             [
              0.3333333333333333,
              "#9c179e"
             ],
             [
              0.4444444444444444,
              "#bd3786"
             ],
             [
              0.5555555555555556,
              "#d8576b"
             ],
             [
              0.6666666666666666,
              "#ed7953"
             ],
             [
              0.7777777777777778,
              "#fb9f3a"
             ],
             [
              0.8888888888888888,
              "#fdca26"
             ],
             [
              1,
              "#f0f921"
             ]
            ],
            "type": "histogram2d"
           }
          ],
          "histogram2dcontour": [
           {
            "colorbar": {
             "outlinewidth": 0,
             "ticks": ""
            },
            "colorscale": [
             [
              0,
              "#0d0887"
             ],
             [
              0.1111111111111111,
              "#46039f"
             ],
             [
              0.2222222222222222,
              "#7201a8"
             ],
             [
              0.3333333333333333,
              "#9c179e"
             ],
             [
              0.4444444444444444,
              "#bd3786"
             ],
             [
              0.5555555555555556,
              "#d8576b"
             ],
             [
              0.6666666666666666,
              "#ed7953"
             ],
             [
              0.7777777777777778,
              "#fb9f3a"
             ],
             [
              0.8888888888888888,
              "#fdca26"
             ],
             [
              1,
              "#f0f921"
             ]
            ],
            "type": "histogram2dcontour"
           }
          ],
          "mesh3d": [
           {
            "colorbar": {
             "outlinewidth": 0,
             "ticks": ""
            },
            "type": "mesh3d"
           }
          ],
          "parcoords": [
           {
            "line": {
             "colorbar": {
              "outlinewidth": 0,
              "ticks": ""
             }
            },
            "type": "parcoords"
           }
          ],
          "pie": [
           {
            "automargin": true,
            "type": "pie"
           }
          ],
          "scatter": [
           {
            "fillpattern": {
             "fillmode": "overlay",
             "size": 10,
             "solidity": 0.2
            },
            "type": "scatter"
           }
          ],
          "scatter3d": [
           {
            "line": {
             "colorbar": {
              "outlinewidth": 0,
              "ticks": ""
             }
            },
            "marker": {
             "colorbar": {
              "outlinewidth": 0,
              "ticks": ""
             }
            },
            "type": "scatter3d"
           }
          ],
          "scattercarpet": [
           {
            "marker": {
             "colorbar": {
              "outlinewidth": 0,
              "ticks": ""
             }
            },
            "type": "scattercarpet"
           }
          ],
          "scattergeo": [
           {
            "marker": {
             "colorbar": {
              "outlinewidth": 0,
              "ticks": ""
             }
            },
            "type": "scattergeo"
           }
          ],
          "scattergl": [
           {
            "marker": {
             "colorbar": {
              "outlinewidth": 0,
              "ticks": ""
             }
            },
            "type": "scattergl"
           }
          ],
          "scattermapbox": [
           {
            "marker": {
             "colorbar": {
              "outlinewidth": 0,
              "ticks": ""
             }
            },
            "type": "scattermapbox"
           }
          ],
          "scatterpolar": [
           {
            "marker": {
             "colorbar": {
              "outlinewidth": 0,
              "ticks": ""
             }
            },
            "type": "scatterpolar"
           }
          ],
          "scatterpolargl": [
           {
            "marker": {
             "colorbar": {
              "outlinewidth": 0,
              "ticks": ""
             }
            },
            "type": "scatterpolargl"
           }
          ],
          "scatterternary": [
           {
            "marker": {
             "colorbar": {
              "outlinewidth": 0,
              "ticks": ""
             }
            },
            "type": "scatterternary"
           }
          ],
          "surface": [
           {
            "colorbar": {
             "outlinewidth": 0,
             "ticks": ""
            },
            "colorscale": [
             [
              0,
              "#0d0887"
             ],
             [
              0.1111111111111111,
              "#46039f"
             ],
             [
              0.2222222222222222,
              "#7201a8"
             ],
             [
              0.3333333333333333,
              "#9c179e"
             ],
             [
              0.4444444444444444,
              "#bd3786"
             ],
             [
              0.5555555555555556,
              "#d8576b"
             ],
             [
              0.6666666666666666,
              "#ed7953"
             ],
             [
              0.7777777777777778,
              "#fb9f3a"
             ],
             [
              0.8888888888888888,
              "#fdca26"
             ],
             [
              1,
              "#f0f921"
             ]
            ],
            "type": "surface"
           }
          ],
          "table": [
           {
            "cells": {
             "fill": {
              "color": "#EBF0F8"
             },
             "line": {
              "color": "white"
             }
            },
            "header": {
             "fill": {
              "color": "#C8D4E3"
             },
             "line": {
              "color": "white"
             }
            },
            "type": "table"
           }
          ]
         },
         "layout": {
          "annotationdefaults": {
           "arrowcolor": "#2a3f5f",
           "arrowhead": 0,
           "arrowwidth": 1
          },
          "autotypenumbers": "strict",
          "coloraxis": {
           "colorbar": {
            "outlinewidth": 0,
            "ticks": ""
           }
          },
          "colorscale": {
           "diverging": [
            [
             0,
             "#8e0152"
            ],
            [
             0.1,
             "#c51b7d"
            ],
            [
             0.2,
             "#de77ae"
            ],
            [
             0.3,
             "#f1b6da"
            ],
            [
             0.4,
             "#fde0ef"
            ],
            [
             0.5,
             "#f7f7f7"
            ],
            [
             0.6,
             "#e6f5d0"
            ],
            [
             0.7,
             "#b8e186"
            ],
            [
             0.8,
             "#7fbc41"
            ],
            [
             0.9,
             "#4d9221"
            ],
            [
             1,
             "#276419"
            ]
           ],
           "sequential": [
            [
             0,
             "#0d0887"
            ],
            [
             0.1111111111111111,
             "#46039f"
            ],
            [
             0.2222222222222222,
             "#7201a8"
            ],
            [
             0.3333333333333333,
             "#9c179e"
            ],
            [
             0.4444444444444444,
             "#bd3786"
            ],
            [
             0.5555555555555556,
             "#d8576b"
            ],
            [
             0.6666666666666666,
             "#ed7953"
            ],
            [
             0.7777777777777778,
             "#fb9f3a"
            ],
            [
             0.8888888888888888,
             "#fdca26"
            ],
            [
             1,
             "#f0f921"
            ]
           ],
           "sequentialminus": [
            [
             0,
             "#0d0887"
            ],
            [
             0.1111111111111111,
             "#46039f"
            ],
            [
             0.2222222222222222,
             "#7201a8"
            ],
            [
             0.3333333333333333,
             "#9c179e"
            ],
            [
             0.4444444444444444,
             "#bd3786"
            ],
            [
             0.5555555555555556,
             "#d8576b"
            ],
            [
             0.6666666666666666,
             "#ed7953"
            ],
            [
             0.7777777777777778,
             "#fb9f3a"
            ],
            [
             0.8888888888888888,
             "#fdca26"
            ],
            [
             1,
             "#f0f921"
            ]
           ]
          },
          "colorway": [
           "#636efa",
           "#EF553B",
           "#00cc96",
           "#ab63fa",
           "#FFA15A",
           "#19d3f3",
           "#FF6692",
           "#B6E880",
           "#FF97FF",
           "#FECB52"
          ],
          "font": {
           "color": "#2a3f5f"
          },
          "geo": {
           "bgcolor": "white",
           "lakecolor": "white",
           "landcolor": "#E5ECF6",
           "showlakes": true,
           "showland": true,
           "subunitcolor": "white"
          },
          "hoverlabel": {
           "align": "left"
          },
          "hovermode": "closest",
          "mapbox": {
           "style": "light"
          },
          "paper_bgcolor": "white",
          "plot_bgcolor": "#E5ECF6",
          "polar": {
           "angularaxis": {
            "gridcolor": "white",
            "linecolor": "white",
            "ticks": ""
           },
           "bgcolor": "#E5ECF6",
           "radialaxis": {
            "gridcolor": "white",
            "linecolor": "white",
            "ticks": ""
           }
          },
          "scene": {
           "xaxis": {
            "backgroundcolor": "#E5ECF6",
            "gridcolor": "white",
            "gridwidth": 2,
            "linecolor": "white",
            "showbackground": true,
            "ticks": "",
            "zerolinecolor": "white"
           },
           "yaxis": {
            "backgroundcolor": "#E5ECF6",
            "gridcolor": "white",
            "gridwidth": 2,
            "linecolor": "white",
            "showbackground": true,
            "ticks": "",
            "zerolinecolor": "white"
           },
           "zaxis": {
            "backgroundcolor": "#E5ECF6",
            "gridcolor": "white",
            "gridwidth": 2,
            "linecolor": "white",
            "showbackground": true,
            "ticks": "",
            "zerolinecolor": "white"
           }
          },
          "shapedefaults": {
           "line": {
            "color": "#2a3f5f"
           }
          },
          "ternary": {
           "aaxis": {
            "gridcolor": "white",
            "linecolor": "white",
            "ticks": ""
           },
           "baxis": {
            "gridcolor": "white",
            "linecolor": "white",
            "ticks": ""
           },
           "bgcolor": "#E5ECF6",
           "caxis": {
            "gridcolor": "white",
            "linecolor": "white",
            "ticks": ""
           }
          },
          "title": {
           "x": 0.05
          },
          "xaxis": {
           "automargin": true,
           "gridcolor": "white",
           "linecolor": "white",
           "ticks": "",
           "title": {
            "standoff": 15
           },
           "zerolinecolor": "white",
           "zerolinewidth": 2
          },
          "yaxis": {
           "automargin": true,
           "gridcolor": "white",
           "linecolor": "white",
           "ticks": "",
           "title": {
            "standoff": 15
           },
           "zerolinecolor": "white",
           "zerolinewidth": 2
          }
         }
        },
        "title": {
         "text": "Coeficiente de Extinción κ vs λ"
        },
        "xaxis": {
         "title": {
          "text": "Longitud de onda (nm)"
         }
        },
        "yaxis": {
         "title": {
          "text": "κ"
         }
        }
       }
      }
     },
     "metadata": {},
     "output_type": "display_data"
    },
    {
     "data": {
      "application/vnd.plotly.v1+json": {
       "config": {
        "plotlyServerURL": "https://plot.ly"
       },
       "data": [
        {
         "mode": "lines",
         "name": "α",
         "type": "scatter",
         "x": [
          3.1,
          3.053731343283582,
          3.0088235294117647,
          2.9652173913043476,
          2.9228571428571426,
          2.8816901408450706,
          2.841666666666667,
          2.802739726027397,
          2.764864864864865,
          2.7279999999999998,
          2.692105263157895,
          2.657142857142857,
          2.623076923076923,
          2.589873417721519,
          2.5574999999999997,
          2.525925925925926,
          2.495121951219512,
          2.4650602409638553,
          2.4357142857142855,
          2.407058823529412,
          2.37906976744186,
          2.3517241379310345,
          2.3249999999999997,
          2.298876404494382,
          2.273333333333333,
          2.2483516483516484,
          2.223913043478261,
          2.2,
          2.176595744680851,
          2.1536842105263156,
          2.13125,
          2.109278350515464,
          2.0877551020408163,
          2.066666666666667,
          2.0460000000000003,
          2.0257425742574258,
          2.0058823529411764,
          1.9864077669902913,
          1.9673076923076924,
          1.9485714285714286,
          1.9301886792452827,
          1.9121495327102804,
          1.8944444444444446,
          1.8770642201834862,
          1.8599999999999999,
          1.8432432432432433,
          1.8267857142857145,
          1.8106194690265487,
          1.7947368421052632,
          1.7791304347826087,
          1.763793103448276,
          1.748717948717949,
          1.7338983050847459,
          1.7193277310924369,
          1.705,
          1.6909090909090911,
          1.6770491803278689,
          1.6634146341463414,
          1.6500000000000001,
          1.6368000000000003,
          1.6238095238095238,
          1.611023622047244,
          1.5984375,
          1.586046511627907,
          1.573846153846154,
          1.5618320610687022,
          1.55,
          1.5383458646616543,
          1.526865671641791,
          1.5155555555555555,
          1.5044117647058823,
          1.4934306569343068,
          1.4826086956521738,
          1.4719424460431654,
          1.4614285714285713,
          1.451063829787234,
          1.4408450704225353,
          1.4307692307692306,
          1.4208333333333334,
          1.4110344827586208,
          1.4013698630136986,
          1.3918367346938776,
          1.3824324324324324,
          1.3731543624161073,
          1.364,
          1.3549668874172185,
          1.3460526315789474,
          1.3372549019607844,
          1.3285714285714285,
          1.32,
          1.3115384615384615,
          1.3031847133757961,
          1.2949367088607595,
          1.2867924528301886,
          1.2787499999999998,
          1.270807453416149,
          1.262962962962963,
          1.2552147239263804,
          1.247560975609756,
          1.24
         ],
         "y": [
          -9203.263450982211,
          -7656.561775565486,
          -6155.351325896312,
          -4697.654222594359,
          -3281.605607958196,
          -1905.4456866920652,
          -567.51242990555,
          421.49657617642873,
          1383.7756091210565,
          2320.3938678538275,
          2813.547276761328,
          3293.891506216686,
          3761.9192169680605,
          4218.098124915603,
          4406.536461366363,
          4590.321999386243,
          4769.624963308075,
          4944.607373882395,
          4744.001842492601,
          4548.116441253156,
          4356.78651446114,
          4169.854976790779,
          3987.1718831583803,
          3808.5940275851376,
          3633.9845688024106,
          3463.2126805423823,
          3296.153224635833,
          3132.6864452003906,
          2972.697682348682,
          2816.0771039780625,
          2662.7194543234978,
          2512.523818063871,
          2365.393398870768,
          2221.235311378536,
          2079.9603856361487,
          1941.4829831757886,
          1805.7208239009258,
          1672.5948230585848,
          1542.0289376170579,
          1413.9500214220361,
          1288.287688551449,
          1164.9741843326483,
          1123.3904006215757,
          1082.569622116211,
          1042.4910395836705,
          1003.1345936733381,
          964.4809414399762,
          926.5114246443728,
          889.2080397223766,
          852.5534093207626,
          816.5307553053837,
          781.1238731535154,
          746.3171076482889,
          712.0953297986124,
          678.4439149130972,
          645.3487217612272,
          612.7960727593874,
          580.7727351234313,
          549.2659029332166,
          518.2631800580452,
          487.75256389517807,
          457.722429876608,
          428.1615167020783,
          399.0589122589365,
          370.404040191843,
          342.186647087606,
          314.3967902425241,
          287.0248259815788,
          260.0613985006475,
          233.49742920461892,
          207.3241065158849,
          181.5328761291762,
          156.1154316901009,
          131.06370587604832,
          106.36986185933932,
          82.02628513364749,
          81.4486352383401,
          80.87906436254752,
          80.31740419336317,
          79.76349106099515,
          79.21716577975546,
          78.67827349553944,
          78.14666353948849,
          77.62218928754561,
          77.10470802562865,
          76.59408082016091,
          76.09017239371246,
          75.59285100551827,
          75.10198833665127,
          74.61745937964062,
          74.13914233233523,
          73.66691849582355,
          73.20067217622972,
          72.74029059021571,
          72.28566377402684,
          71.83668449592732,
          71.39324817187838,
          70.95525278432083,
          70.52259880392863,
          70.09518911420786
         ]
        }
       ],
       "layout": {
        "template": {
         "data": {
          "bar": [
           {
            "error_x": {
             "color": "#2a3f5f"
            },
            "error_y": {
             "color": "#2a3f5f"
            },
            "marker": {
             "line": {
              "color": "#E5ECF6",
              "width": 0.5
             },
             "pattern": {
              "fillmode": "overlay",
              "size": 10,
              "solidity": 0.2
             }
            },
            "type": "bar"
           }
          ],
          "barpolar": [
           {
            "marker": {
             "line": {
              "color": "#E5ECF6",
              "width": 0.5
             },
             "pattern": {
              "fillmode": "overlay",
              "size": 10,
              "solidity": 0.2
             }
            },
            "type": "barpolar"
           }
          ],
          "carpet": [
           {
            "aaxis": {
             "endlinecolor": "#2a3f5f",
             "gridcolor": "white",
             "linecolor": "white",
             "minorgridcolor": "white",
             "startlinecolor": "#2a3f5f"
            },
            "baxis": {
             "endlinecolor": "#2a3f5f",
             "gridcolor": "white",
             "linecolor": "white",
             "minorgridcolor": "white",
             "startlinecolor": "#2a3f5f"
            },
            "type": "carpet"
           }
          ],
          "choropleth": [
           {
            "colorbar": {
             "outlinewidth": 0,
             "ticks": ""
            },
            "type": "choropleth"
           }
          ],
          "contour": [
           {
            "colorbar": {
             "outlinewidth": 0,
             "ticks": ""
            },
            "colorscale": [
             [
              0,
              "#0d0887"
             ],
             [
              0.1111111111111111,
              "#46039f"
             ],
             [
              0.2222222222222222,
              "#7201a8"
             ],
             [
              0.3333333333333333,
              "#9c179e"
             ],
             [
              0.4444444444444444,
              "#bd3786"
             ],
             [
              0.5555555555555556,
              "#d8576b"
             ],
             [
              0.6666666666666666,
              "#ed7953"
             ],
             [
              0.7777777777777778,
              "#fb9f3a"
             ],
             [
              0.8888888888888888,
              "#fdca26"
             ],
             [
              1,
              "#f0f921"
             ]
            ],
            "type": "contour"
           }
          ],
          "contourcarpet": [
           {
            "colorbar": {
             "outlinewidth": 0,
             "ticks": ""
            },
            "type": "contourcarpet"
           }
          ],
          "heatmap": [
           {
            "colorbar": {
             "outlinewidth": 0,
             "ticks": ""
            },
            "colorscale": [
             [
              0,
              "#0d0887"
             ],
             [
              0.1111111111111111,
              "#46039f"
             ],
             [
              0.2222222222222222,
              "#7201a8"
             ],
             [
              0.3333333333333333,
              "#9c179e"
             ],
             [
              0.4444444444444444,
              "#bd3786"
             ],
             [
              0.5555555555555556,
              "#d8576b"
             ],
             [
              0.6666666666666666,
              "#ed7953"
             ],
             [
              0.7777777777777778,
              "#fb9f3a"
             ],
             [
              0.8888888888888888,
              "#fdca26"
             ],
             [
              1,
              "#f0f921"
             ]
            ],
            "type": "heatmap"
           }
          ],
          "heatmapgl": [
           {
            "colorbar": {
             "outlinewidth": 0,
             "ticks": ""
            },
            "colorscale": [
             [
              0,
              "#0d0887"
             ],
             [
              0.1111111111111111,
              "#46039f"
             ],
             [
              0.2222222222222222,
              "#7201a8"
             ],
             [
              0.3333333333333333,
              "#9c179e"
             ],
             [
              0.4444444444444444,
              "#bd3786"
             ],
             [
              0.5555555555555556,
              "#d8576b"
             ],
             [
              0.6666666666666666,
              "#ed7953"
             ],
             [
              0.7777777777777778,
              "#fb9f3a"
             ],
             [
              0.8888888888888888,
              "#fdca26"
             ],
             [
              1,
              "#f0f921"
             ]
            ],
            "type": "heatmapgl"
           }
          ],
          "histogram": [
           {
            "marker": {
             "pattern": {
              "fillmode": "overlay",
              "size": 10,
              "solidity": 0.2
             }
            },
            "type": "histogram"
           }
          ],
          "histogram2d": [
           {
            "colorbar": {
             "outlinewidth": 0,
             "ticks": ""
            },
            "colorscale": [
             [
              0,
              "#0d0887"
             ],
             [
              0.1111111111111111,
              "#46039f"
             ],
             [
              0.2222222222222222,
              "#7201a8"
             ],
             [
              0.3333333333333333,
              "#9c179e"
             ],
             [
              0.4444444444444444,
              "#bd3786"
             ],
             [
              0.5555555555555556,
              "#d8576b"
             ],
             [
              0.6666666666666666,
              "#ed7953"
             ],
             [
              0.7777777777777778,
              "#fb9f3a"
             ],
             [
              0.8888888888888888,
              "#fdca26"
             ],
             [
              1,
              "#f0f921"
             ]
            ],
            "type": "histogram2d"
           }
          ],
          "histogram2dcontour": [
           {
            "colorbar": {
             "outlinewidth": 0,
             "ticks": ""
            },
            "colorscale": [
             [
              0,
              "#0d0887"
             ],
             [
              0.1111111111111111,
              "#46039f"
             ],
             [
              0.2222222222222222,
              "#7201a8"
             ],
             [
              0.3333333333333333,
              "#9c179e"
             ],
             [
              0.4444444444444444,
              "#bd3786"
             ],
             [
              0.5555555555555556,
              "#d8576b"
             ],
             [
              0.6666666666666666,
              "#ed7953"
             ],
             [
              0.7777777777777778,
              "#fb9f3a"
             ],
             [
              0.8888888888888888,
              "#fdca26"
             ],
             [
              1,
              "#f0f921"
             ]
            ],
            "type": "histogram2dcontour"
           }
          ],
          "mesh3d": [
           {
            "colorbar": {
             "outlinewidth": 0,
             "ticks": ""
            },
            "type": "mesh3d"
           }
          ],
          "parcoords": [
           {
            "line": {
             "colorbar": {
              "outlinewidth": 0,
              "ticks": ""
             }
            },
            "type": "parcoords"
           }
          ],
          "pie": [
           {
            "automargin": true,
            "type": "pie"
           }
          ],
          "scatter": [
           {
            "fillpattern": {
             "fillmode": "overlay",
             "size": 10,
             "solidity": 0.2
            },
            "type": "scatter"
           }
          ],
          "scatter3d": [
           {
            "line": {
             "colorbar": {
              "outlinewidth": 0,
              "ticks": ""
             }
            },
            "marker": {
             "colorbar": {
              "outlinewidth": 0,
              "ticks": ""
             }
            },
            "type": "scatter3d"
           }
          ],
          "scattercarpet": [
           {
            "marker": {
             "colorbar": {
              "outlinewidth": 0,
              "ticks": ""
             }
            },
            "type": "scattercarpet"
           }
          ],
          "scattergeo": [
           {
            "marker": {
             "colorbar": {
              "outlinewidth": 0,
              "ticks": ""
             }
            },
            "type": "scattergeo"
           }
          ],
          "scattergl": [
           {
            "marker": {
             "colorbar": {
              "outlinewidth": 0,
              "ticks": ""
             }
            },
            "type": "scattergl"
           }
          ],
          "scattermapbox": [
           {
            "marker": {
             "colorbar": {
              "outlinewidth": 0,
              "ticks": ""
             }
            },
            "type": "scattermapbox"
           }
          ],
          "scatterpolar": [
           {
            "marker": {
             "colorbar": {
              "outlinewidth": 0,
              "ticks": ""
             }
            },
            "type": "scatterpolar"
           }
          ],
          "scatterpolargl": [
           {
            "marker": {
             "colorbar": {
              "outlinewidth": 0,
              "ticks": ""
             }
            },
            "type": "scatterpolargl"
           }
          ],
          "scatterternary": [
           {
            "marker": {
             "colorbar": {
              "outlinewidth": 0,
              "ticks": ""
             }
            },
            "type": "scatterternary"
           }
          ],
          "surface": [
           {
            "colorbar": {
             "outlinewidth": 0,
             "ticks": ""
            },
            "colorscale": [
             [
              0,
              "#0d0887"
             ],
             [
              0.1111111111111111,
              "#46039f"
             ],
             [
              0.2222222222222222,
              "#7201a8"
             ],
             [
              0.3333333333333333,
              "#9c179e"
             ],
             [
              0.4444444444444444,
              "#bd3786"
             ],
             [
              0.5555555555555556,
              "#d8576b"
             ],
             [
              0.6666666666666666,
              "#ed7953"
             ],
             [
              0.7777777777777778,
              "#fb9f3a"
             ],
             [
              0.8888888888888888,
              "#fdca26"
             ],
             [
              1,
              "#f0f921"
             ]
            ],
            "type": "surface"
           }
          ],
          "table": [
           {
            "cells": {
             "fill": {
              "color": "#EBF0F8"
             },
             "line": {
              "color": "white"
             }
            },
            "header": {
             "fill": {
              "color": "#C8D4E3"
             },
             "line": {
              "color": "white"
             }
            },
            "type": "table"
           }
          ]
         },
         "layout": {
          "annotationdefaults": {
           "arrowcolor": "#2a3f5f",
           "arrowhead": 0,
           "arrowwidth": 1
          },
          "autotypenumbers": "strict",
          "coloraxis": {
           "colorbar": {
            "outlinewidth": 0,
            "ticks": ""
           }
          },
          "colorscale": {
           "diverging": [
            [
             0,
             "#8e0152"
            ],
            [
             0.1,
             "#c51b7d"
            ],
            [
             0.2,
             "#de77ae"
            ],
            [
             0.3,
             "#f1b6da"
            ],
            [
             0.4,
             "#fde0ef"
            ],
            [
             0.5,
             "#f7f7f7"
            ],
            [
             0.6,
             "#e6f5d0"
            ],
            [
             0.7,
             "#b8e186"
            ],
            [
             0.8,
             "#7fbc41"
            ],
            [
             0.9,
             "#4d9221"
            ],
            [
             1,
             "#276419"
            ]
           ],
           "sequential": [
            [
             0,
             "#0d0887"
            ],
            [
             0.1111111111111111,
             "#46039f"
            ],
            [
             0.2222222222222222,
             "#7201a8"
            ],
            [
             0.3333333333333333,
             "#9c179e"
            ],
            [
             0.4444444444444444,
             "#bd3786"
            ],
            [
             0.5555555555555556,
             "#d8576b"
            ],
            [
             0.6666666666666666,
             "#ed7953"
            ],
            [
             0.7777777777777778,
             "#fb9f3a"
            ],
            [
             0.8888888888888888,
             "#fdca26"
            ],
            [
             1,
             "#f0f921"
            ]
           ],
           "sequentialminus": [
            [
             0,
             "#0d0887"
            ],
            [
             0.1111111111111111,
             "#46039f"
            ],
            [
             0.2222222222222222,
             "#7201a8"
            ],
            [
             0.3333333333333333,
             "#9c179e"
            ],
            [
             0.4444444444444444,
             "#bd3786"
            ],
            [
             0.5555555555555556,
             "#d8576b"
            ],
            [
             0.6666666666666666,
             "#ed7953"
            ],
            [
             0.7777777777777778,
             "#fb9f3a"
            ],
            [
             0.8888888888888888,
             "#fdca26"
            ],
            [
             1,
             "#f0f921"
            ]
           ]
          },
          "colorway": [
           "#636efa",
           "#EF553B",
           "#00cc96",
           "#ab63fa",
           "#FFA15A",
           "#19d3f3",
           "#FF6692",
           "#B6E880",
           "#FF97FF",
           "#FECB52"
          ],
          "font": {
           "color": "#2a3f5f"
          },
          "geo": {
           "bgcolor": "white",
           "lakecolor": "white",
           "landcolor": "#E5ECF6",
           "showlakes": true,
           "showland": true,
           "subunitcolor": "white"
          },
          "hoverlabel": {
           "align": "left"
          },
          "hovermode": "closest",
          "mapbox": {
           "style": "light"
          },
          "paper_bgcolor": "white",
          "plot_bgcolor": "#E5ECF6",
          "polar": {
           "angularaxis": {
            "gridcolor": "white",
            "linecolor": "white",
            "ticks": ""
           },
           "bgcolor": "#E5ECF6",
           "radialaxis": {
            "gridcolor": "white",
            "linecolor": "white",
            "ticks": ""
           }
          },
          "scene": {
           "xaxis": {
            "backgroundcolor": "#E5ECF6",
            "gridcolor": "white",
            "gridwidth": 2,
            "linecolor": "white",
            "showbackground": true,
            "ticks": "",
            "zerolinecolor": "white"
           },
           "yaxis": {
            "backgroundcolor": "#E5ECF6",
            "gridcolor": "white",
            "gridwidth": 2,
            "linecolor": "white",
            "showbackground": true,
            "ticks": "",
            "zerolinecolor": "white"
           },
           "zaxis": {
            "backgroundcolor": "#E5ECF6",
            "gridcolor": "white",
            "gridwidth": 2,
            "linecolor": "white",
            "showbackground": true,
            "ticks": "",
            "zerolinecolor": "white"
           }
          },
          "shapedefaults": {
           "line": {
            "color": "#2a3f5f"
           }
          },
          "ternary": {
           "aaxis": {
            "gridcolor": "white",
            "linecolor": "white",
            "ticks": ""
           },
           "baxis": {
            "gridcolor": "white",
            "linecolor": "white",
            "ticks": ""
           },
           "bgcolor": "#E5ECF6",
           "caxis": {
            "gridcolor": "white",
            "linecolor": "white",
            "ticks": ""
           }
          },
          "title": {
           "x": 0.05
          },
          "xaxis": {
           "automargin": true,
           "gridcolor": "white",
           "linecolor": "white",
           "ticks": "",
           "title": {
            "standoff": 15
           },
           "zerolinecolor": "white",
           "zerolinewidth": 2
          },
          "yaxis": {
           "automargin": true,
           "gridcolor": "white",
           "linecolor": "white",
           "ticks": "",
           "title": {
            "standoff": 15
           },
           "zerolinecolor": "white",
           "zerolinewidth": 2
          }
         }
        },
        "title": {
         "text": "Coeficiente de Absorción vs Energía"
        },
        "xaxis": {
         "title": {
          "text": "Energía del fotón (eV)"
         }
        },
        "yaxis": {
         "title": {
          "text": "α (cm⁻¹)"
         },
         "type": "log"
        }
       }
      }
     },
     "metadata": {},
     "output_type": "display_data"
    },
    {
     "name": "stdout",
     "output_type": "stream",
     "text": [
      "Gráficas guardadas como HTML con errores incluidos\n"
     ]
    }
   ],
   "source": [
    "import numpy as np\n",
    "import plotly.graph_objects as go\n",
    "from scipy.interpolate import interp1d\n",
    "\n",
    "# === Archivos ===\n",
    "filename_sim = \"ITO_data_curated-inf.txt\"\n",
    "filename_exp = \"ITO_data_curated_400-1000.txt\"\n",
    "\n",
    "# === Detectar bloques de salida automáticamente ===\n",
    "block1, block2 = [], []\n",
    "\n",
    "with open(filename_sim, \"r\") as f:\n",
    "    for line in f:\n",
    "        try:\n",
    "            vals = list(map(float, line.split()))\n",
    "            if len(vals) == 3:       # λ, n, kappa\n",
    "                block1.append(vals)\n",
    "            elif len(vals) == 2:     # λ, T simulada\n",
    "                block2.append(vals)\n",
    "        except:\n",
    "            continue\n",
    "\n",
    "block1 = np.array(block1)\n",
    "block2 = np.array(block2)\n",
    "\n",
    "# === Extraer variables ===\n",
    "lambda1, n, kappa = block1[:,0], block1[:,1], block1[:,2]\n",
    "lambda2, T_sim = block2[:,0], block2[:,1]\n",
    "\n",
    "# === Cargar datos experimentales ===\n",
    "exp_data = np.loadtxt(filename_exp, skiprows=1)\n",
    "lambda_exp, T_exp = exp_data[:,0], exp_data[:,1]\n",
    "\n",
    "# === Interpolación de T_sim a puntos experimentales ===\n",
    "interp_T = interp1d(lambda2, T_sim, kind='linear', fill_value=\"extrapolate\")\n",
    "T_sim_interp = interp_T(lambda_exp)\n",
    "\n",
    "# === Calcular errores ===\n",
    "rel_error = np.sqrt(np.mean((T_sim_interp - T_exp)**2)) / np.mean(T_exp)\n",
    "percent_error_rmse = rel_error * 100\n",
    "abs_percent_error = np.mean(np.abs(T_sim_interp - T_exp)/T_exp) * 100\n",
    "\n",
    "print(f\"Error relativo cuadrático promedio (RMSE): {percent_error_rmse:.2f} %\")\n",
    "print(f\"Desviación porcentual promedio (MAPE): {abs_percent_error:.2f} %\")\n",
    "\n",
    "# === Calcular α vs Energía ===\n",
    "h_c = 1240  # eV·nm\n",
    "E = h_c / lambda1\n",
    "alpha = 4 * np.pi * kappa / (lambda1 * 1e-7)  # cm^-1\n",
    "\n",
    "# === Función para guardar solo HTML ===\n",
    "def save_plot_html(fig, fname_base):\n",
    "    fig.write_html(f\"{fname_base}.html\")\n",
    "    fig.show()\n",
    "\n",
    "# === 1. Transmitancia con errores en la gráfica ===\n",
    "fig1 = go.Figure()\n",
    "fig1.add_trace(go.Scatter(x=lambda_exp, y=T_exp, mode=\"markers\", name=\"Experimental\"))\n",
    "fig1.add_trace(go.Scatter(x=lambda2, y=T_sim, mode=\"lines\", name=\"Simulado\"))\n",
    "fig1.add_annotation(\n",
    "    text=f\"RMSE: {percent_error_rmse:.2f} %, MAPE: {abs_percent_error:.2f} %\",\n",
    "    xref=\"paper\", yref=\"paper\",\n",
    "    x=0.05, y=0.95, showarrow=False,\n",
    "    font=dict(size=12, color=\"black\"),\n",
    "    bgcolor=\"rgba(255,255,255,0.7)\",\n",
    "    bordercolor=\"black\",\n",
    "    borderwidth=1\n",
    ")\n",
    "fig1.update_layout(title=\"Transmitancia Experimental vs Simulada\",\n",
    "                   xaxis_title=\"Longitud de onda (nm)\",\n",
    "                   yaxis_title=\"Transmitancia\")\n",
    "save_plot_html(fig1, \"T_exp_vs_sim\")\n",
    "\n",
    "# === 2. Índice de refracción n vs λ ===\n",
    "fig2 = go.Figure()\n",
    "fig2.add_trace(go.Scatter(x=lambda1, y=n, mode=\"lines\", name=\"n\"))\n",
    "fig2.update_layout(title=\"Índice de Refracción vs λ\",\n",
    "                   xaxis_title=\"Longitud de onda (nm)\",\n",
    "                   yaxis_title=\"n\")\n",
    "save_plot_html(fig2, \"n_vs_lambda\")\n",
    "\n",
    "# === 3. κ vs λ ===\n",
    "fig3 = go.Figure()\n",
    "fig3.add_trace(go.Scatter(x=lambda1, y=kappa, mode=\"lines\", name=\"κ\"))\n",
    "fig3.update_layout(title=\"Coeficiente de Extinción κ vs λ\",\n",
    "                   xaxis_title=\"Longitud de onda (nm)\",\n",
    "                   yaxis_title=\"κ\")\n",
    "save_plot_html(fig3, \"kappa_vs_lambda\")\n",
    "\n",
    "# === 4. Coeficiente de absorción α vs Energía ===\n",
    "fig4 = go.Figure()\n",
    "fig4.add_trace(go.Scatter(x=E, y=alpha, mode=\"lines\", name=\"α\"))\n",
    "fig4.update_yaxes(type=\"log\")\n",
    "fig4.update_layout(title=\"Coeficiente de Absorción vs Energía\",\n",
    "                   xaxis_title=\"Energía del fotón (eV)\",\n",
    "                   yaxis_title=\"α (cm⁻¹)\")\n",
    "save_plot_html(fig4, \"alpha_vs_energy\")\n",
    "\n",
    "print(\"Gráficas guardadas como HTML con errores incluidos\")\n"
   ]
  },
  {
   "cell_type": "code",
   "execution_count": 27,
   "id": "d0f1de13",
   "metadata": {},
   "outputs": [
    {
     "data": {
      "application/vnd.plotly.v1+json": {
       "config": {
        "plotlyServerURL": "https://plot.ly"
       },
       "data": [
        {
         "marker": {
          "color": "black",
          "size": 8,
          "symbol": "circle"
         },
         "mode": "markers",
         "name": "Experimental",
         "type": "scatter",
         "x": [
          400,
          401,
          402,
          403,
          404,
          405,
          406,
          407,
          408,
          409,
          410,
          411,
          412,
          413,
          414,
          415,
          416,
          417,
          418,
          419,
          420,
          421,
          422,
          423,
          424,
          425,
          426,
          427,
          428,
          429,
          430,
          431,
          432,
          433,
          434,
          435,
          436,
          437,
          438,
          439,
          440,
          441,
          442,
          443,
          444,
          445,
          446,
          447,
          448,
          449,
          450,
          451,
          452,
          453,
          454,
          455,
          456,
          457,
          458,
          459,
          460,
          461,
          462,
          463,
          464,
          465,
          466,
          467,
          468,
          469,
          470,
          471,
          472,
          473,
          474,
          475,
          476,
          477,
          478,
          479,
          480,
          481,
          482,
          483,
          484,
          485,
          486,
          487,
          488,
          489,
          490,
          491,
          492,
          493,
          494,
          495,
          496,
          497,
          498,
          499,
          500,
          501,
          502,
          503,
          504,
          505,
          506,
          507,
          508,
          509,
          510,
          511,
          512,
          513,
          514,
          515,
          516,
          517,
          518,
          519,
          520,
          521,
          522,
          523,
          524,
          525,
          526,
          527,
          528,
          529,
          530,
          531,
          532,
          533,
          534,
          535,
          536,
          537,
          538,
          539,
          540,
          541,
          542,
          543,
          544,
          545,
          546,
          547,
          548,
          549,
          550,
          551,
          552,
          553,
          554,
          555,
          556,
          557,
          558,
          559,
          560,
          561,
          562,
          563,
          564,
          565,
          566,
          567,
          568,
          569,
          570,
          571,
          572,
          573,
          574,
          575,
          576,
          577,
          578,
          579,
          580,
          581,
          582,
          583,
          584,
          585,
          586,
          587,
          588,
          589,
          590,
          591,
          592,
          593,
          594,
          595,
          596,
          597,
          598,
          599,
          600,
          601,
          602,
          603,
          604,
          605,
          606,
          607,
          608,
          609,
          610,
          611,
          612,
          613,
          614,
          615,
          616,
          617,
          618,
          619,
          620,
          621,
          622,
          623,
          624,
          625,
          626,
          627,
          628,
          629,
          630,
          631,
          632,
          633,
          634,
          635,
          636,
          637,
          638,
          639,
          640,
          641,
          642,
          643,
          644,
          645,
          646,
          647,
          648,
          649,
          650,
          651,
          652,
          653,
          654,
          655,
          656,
          657,
          658,
          659,
          660,
          661,
          662,
          663,
          664,
          665,
          666,
          667,
          668,
          669,
          670,
          671,
          672,
          673,
          674,
          675,
          676,
          677,
          678,
          679,
          680,
          681,
          682,
          683,
          684,
          685,
          686,
          687,
          688,
          689,
          690,
          691,
          692,
          693,
          694,
          695,
          696,
          697,
          698,
          699,
          700,
          701,
          702,
          703,
          704,
          705,
          706,
          707,
          708,
          709,
          710,
          711,
          712,
          713,
          714,
          715,
          716,
          717,
          718,
          719,
          720,
          721,
          722,
          723,
          724,
          725,
          726,
          727,
          728,
          729,
          730,
          731,
          732,
          733,
          734,
          735,
          736,
          737,
          738,
          739,
          740,
          741,
          742,
          743,
          744,
          745,
          746,
          747,
          748,
          749,
          750,
          751,
          752,
          753,
          754,
          755,
          756,
          757,
          758,
          759,
          760,
          761,
          762,
          763,
          764,
          765,
          766,
          767,
          768,
          769,
          770,
          771,
          772,
          773,
          774,
          775,
          776,
          777,
          778,
          779,
          780,
          781,
          782,
          783,
          784,
          785,
          786,
          787,
          788,
          789,
          790,
          791,
          792,
          793,
          794,
          795,
          796,
          797,
          798,
          799,
          800,
          801,
          802,
          803,
          804,
          805,
          806,
          807,
          808,
          809,
          810,
          811,
          812,
          813,
          814,
          815,
          816,
          817,
          818,
          819,
          820,
          821,
          822,
          823,
          824,
          825,
          826,
          827,
          828,
          829,
          830,
          831,
          832,
          833,
          834,
          835,
          836,
          837,
          838,
          839,
          840,
          841,
          842,
          843,
          844,
          845,
          846,
          847,
          848,
          849,
          850,
          851,
          852,
          853,
          854,
          855,
          856,
          857,
          858,
          859,
          860,
          861,
          862,
          863,
          864,
          865,
          866,
          867,
          868,
          869,
          870,
          871,
          872,
          873,
          874,
          875,
          876,
          877,
          878,
          879,
          880,
          881,
          882,
          883,
          884,
          885,
          886,
          887,
          888,
          889,
          890,
          891,
          892,
          893,
          894,
          895,
          896,
          897,
          898,
          899,
          900,
          901,
          902,
          903,
          904,
          905,
          906,
          907,
          908,
          909,
          910,
          911,
          912,
          913,
          914,
          915,
          916,
          917,
          918,
          919,
          920,
          921,
          922,
          923,
          924,
          925,
          926,
          927,
          928,
          929,
          930,
          931,
          932,
          933,
          934,
          935,
          936,
          937,
          938,
          939,
          940,
          941,
          942,
          943,
          944,
          945,
          946,
          947,
          948,
          949,
          950,
          951,
          952,
          953,
          954,
          955,
          956,
          957,
          958,
          959,
          960,
          961,
          962,
          963,
          964,
          965,
          966,
          967,
          968,
          969,
          970,
          971,
          972,
          973,
          974,
          975,
          976,
          977,
          978,
          979,
          980,
          981,
          982,
          983,
          984,
          985,
          986,
          987,
          988,
          989,
          990,
          991,
          992,
          993,
          994,
          995,
          996,
          997,
          998,
          999,
          1000
         ],
         "y": [
          0.8393,
          0.8363,
          0.8348,
          0.833,
          0.8309,
          0.8286,
          0.8259,
          0.8232,
          0.8214,
          0.8191,
          0.8171,
          0.8153,
          0.8128,
          0.8098,
          0.8078,
          0.8062,
          0.8042,
          0.8011,
          0.7986,
          0.7973,
          0.7956,
          0.7938,
          0.7922,
          0.7899,
          0.788,
          0.7867,
          0.7857,
          0.7841,
          0.782,
          0.781,
          0.7796,
          0.7774,
          0.7761,
          0.7751,
          0.7745,
          0.7736,
          0.7726,
          0.7711,
          0.7699,
          0.7698,
          0.7694,
          0.7685,
          0.7677,
          0.7666,
          0.7661,
          0.7663,
          0.7652,
          0.7649,
          0.7649,
          0.7647,
          0.7641,
          0.7636,
          0.7635,
          0.7631,
          0.7633,
          0.7634,
          0.7634,
          0.7636,
          0.7634,
          0.7641,
          0.7645,
          0.7641,
          0.7641,
          0.7642,
          0.7644,
          0.7652,
          0.7659,
          0.7661,
          0.7666,
          0.7673,
          0.7687,
          0.7685,
          0.7685,
          0.7697,
          0.7703,
          0.771,
          0.7715,
          0.7722,
          0.7727,
          0.7736,
          0.7744,
          0.7755,
          0.7764,
          0.7768,
          0.7778,
          0.7787,
          0.7796,
          0.7804,
          0.7815,
          0.7821,
          0.7843,
          0.7847,
          0.786,
          0.7866,
          0.7884,
          0.7891,
          0.7904,
          0.7911,
          0.7921,
          0.7941,
          0.7951,
          0.7957,
          0.7969,
          0.7992,
          0.7993,
          0.8005,
          0.8018,
          0.8031,
          0.8044,
          0.8056,
          0.8069,
          0.8077,
          0.8088,
          0.8101,
          0.8125,
          0.8132,
          0.8143,
          0.8156,
          0.8169,
          0.8179,
          0.8193,
          0.8206,
          0.8216,
          0.8229,
          0.8242,
          0.8254,
          0.8265,
          0.8275,
          0.8286,
          0.8305,
          0.8313,
          0.8331,
          0.8338,
          0.8352,
          0.8362,
          0.8376,
          0.8391,
          0.8401,
          0.8416,
          0.8421,
          0.8429,
          0.8445,
          0.8454,
          0.8468,
          0.8474,
          0.849,
          0.8502,
          0.8506,
          0.8521,
          0.8534,
          0.8544,
          0.8553,
          0.8564,
          0.857,
          0.8577,
          0.8587,
          0.8605,
          0.8613,
          0.8616,
          0.8626,
          0.8635,
          0.8649,
          0.8655,
          0.8663,
          0.8674,
          0.8681,
          0.8683,
          0.8692,
          0.8698,
          0.8708,
          0.8716,
          0.8724,
          0.8731,
          0.874,
          0.8746,
          0.8751,
          0.8755,
          0.8767,
          0.8768,
          0.8773,
          0.8783,
          0.8788,
          0.879,
          0.8799,
          0.8803,
          0.8807,
          0.8812,
          0.8813,
          0.8817,
          0.8824,
          0.8825,
          0.8828,
          0.8834,
          0.8844,
          0.8844,
          0.8849,
          0.8851,
          0.8853,
          0.8853,
          0.8857,
          0.8861,
          0.8862,
          0.8867,
          0.8872,
          0.8872,
          0.8879,
          0.8873,
          0.8879,
          0.8876,
          0.8879,
          0.8879,
          0.8879,
          0.8883,
          0.889,
          0.8888,
          0.8888,
          0.8892,
          0.8889,
          0.8887,
          0.8889,
          0.8885,
          0.888,
          0.8882,
          0.8889,
          0.8884,
          0.8881,
          0.8885,
          0.8884,
          0.8884,
          0.8879,
          0.8879,
          0.8879,
          0.8879,
          0.8885,
          0.8874,
          0.8867,
          0.8874,
          0.8875,
          0.8873,
          0.8865,
          0.8857,
          0.8863,
          0.8857,
          0.8854,
          0.8854,
          0.8851,
          0.8851,
          0.8852,
          0.8849,
          0.8848,
          0.884,
          0.8839,
          0.8834,
          0.883,
          0.8825,
          0.8827,
          0.8823,
          0.8815,
          0.8807,
          0.8811,
          0.8815,
          0.8807,
          0.8805,
          0.8801,
          0.8787,
          0.8785,
          0.8788,
          0.8783,
          0.8779,
          0.8779,
          0.8777,
          0.8776,
          0.8775,
          0.8768,
          0.8755,
          0.8751,
          0.8754,
          0.8745,
          0.8742,
          0.8741,
          0.8742,
          0.8736,
          0.8726,
          0.873,
          0.8724,
          0.8716,
          0.8714,
          0.8706,
          0.8698,
          0.8685,
          0.8677,
          0.8675,
          0.8675,
          0.8671,
          0.8672,
          0.8671,
          0.8663,
          0.8654,
          0.8651,
          0.8647,
          0.8642,
          0.8644,
          0.8639,
          0.8632,
          0.8626,
          0.8621,
          0.8622,
          0.8617,
          0.8611,
          0.861,
          0.8608,
          0.86,
          0.8595,
          0.8594,
          0.8585,
          0.8579,
          0.8576,
          0.8572,
          0.8575,
          0.8571,
          0.8563,
          0.856,
          0.8556,
          0.8553,
          0.8551,
          0.8549,
          0.8539,
          0.8536,
          0.8528,
          0.8518,
          0.8517,
          0.8514,
          0.8512,
          0.8509,
          0.8498,
          0.8492,
          0.8493,
          0.8494,
          0.8497,
          0.849,
          0.8475,
          0.8484,
          0.8472,
          0.8466,
          0.8471,
          0.8469,
          0.8467,
          0.847,
          0.8455,
          0.8447,
          0.844,
          0.8435,
          0.8424,
          0.8425,
          0.8433,
          0.8432,
          0.8427,
          0.8425,
          0.8416,
          0.8413,
          0.842,
          0.8423,
          0.8411,
          0.8409,
          0.8419,
          0.8394,
          0.8394,
          0.8386,
          0.839,
          0.8392,
          0.8385,
          0.8391,
          0.8364,
          0.8373,
          0.8378,
          0.8366,
          0.8371,
          0.8352,
          0.8346,
          0.8352,
          0.8355,
          0.835,
          0.8357,
          0.8359,
          0.8353,
          0.8336,
          0.8338,
          0.8337,
          0.8335,
          0.8331,
          0.8338,
          0.8335,
          0.8314,
          0.832,
          0.8314,
          0.8331,
          0.8322,
          0.8314,
          0.8307,
          0.8299,
          0.8287,
          0.828,
          0.8289,
          0.8309,
          0.8307,
          0.8304,
          0.828,
          0.8282,
          0.8287,
          0.8288,
          0.8296,
          0.83,
          0.831,
          0.8287,
          0.8288,
          0.8284,
          0.8266,
          0.8286,
          0.8266,
          0.8273,
          0.8263,
          0.8247,
          0.8223,
          0.8262,
          0.828,
          0.825,
          0.8247,
          0.8247,
          0.8235,
          0.8266,
          0.8255,
          0.8228,
          0.826,
          0.8239,
          0.8319,
          0.8264,
          0.8266,
          0.8254,
          0.8253,
          0.8256,
          0.8244,
          0.8248,
          0.8244,
          0.824,
          0.8243,
          0.8245,
          0.8237,
          0.8237,
          0.8242,
          0.8235,
          0.8233,
          0.8235,
          0.8235,
          0.823,
          0.8232,
          0.823,
          0.823,
          0.8224,
          0.8225,
          0.8223,
          0.8225,
          0.8225,
          0.8224,
          0.8224,
          0.8226,
          0.8225,
          0.822,
          0.8221,
          0.8221,
          0.8215,
          0.8218,
          0.8217,
          0.8216,
          0.8212,
          0.821,
          0.8213,
          0.8212,
          0.821,
          0.8208,
          0.8209,
          0.8207,
          0.8205,
          0.8206,
          0.8206,
          0.8205,
          0.8205,
          0.8203,
          0.8201,
          0.8201,
          0.8202,
          0.82,
          0.82,
          0.8199,
          0.82,
          0.8197,
          0.8195,
          0.8194,
          0.8194,
          0.8194,
          0.8194,
          0.8192,
          0.8192,
          0.819,
          0.8187,
          0.8186,
          0.8186,
          0.8184,
          0.8185,
          0.8184,
          0.8184,
          0.8182,
          0.8182,
          0.8182,
          0.8181,
          0.818,
          0.8178,
          0.8178,
          0.8177,
          0.8175,
          0.8175,
          0.8175,
          0.8173,
          0.8174,
          0.8174,
          0.8172,
          0.8169,
          0.8167,
          0.8167,
          0.8166,
          0.8165,
          0.8164,
          0.8164,
          0.8162,
          0.8161,
          0.816,
          0.8159,
          0.8158,
          0.8156,
          0.8154,
          0.8153,
          0.8151,
          0.8148,
          0.8147,
          0.8146,
          0.8145,
          0.8144,
          0.8143,
          0.814,
          0.8138,
          0.8138,
          0.8136,
          0.8134,
          0.8132,
          0.8132,
          0.813,
          0.8128,
          0.8127,
          0.8126,
          0.8124,
          0.8122,
          0.8121,
          0.8119,
          0.8118,
          0.8117,
          0.8115,
          0.8112,
          0.8109,
          0.8107,
          0.8106,
          0.8104,
          0.8102,
          0.81,
          0.8098,
          0.8096,
          0.8094,
          0.8091,
          0.8089,
          0.8086,
          0.8084,
          0.8082,
          0.808,
          0.8078,
          0.8075,
          0.8072,
          0.807,
          0.8068,
          0.8065,
          0.8063,
          0.8061,
          0.8058,
          0.8056,
          0.8054,
          0.805,
          0.8047,
          0.8045,
          0.8042,
          0.8039,
          0.8035,
          0.8033,
          0.8031,
          0.8028
         ]
        },
        {
         "hovertemplate": "λ: %{x} nm<br>T: %{y:.3f}<br>RMSE: 0.17%<br>MAPE: 0.13%<extra></extra>",
         "line": {
          "color": "red",
          "dash": "solid",
          "width": 4
         },
         "mode": "lines",
         "name": "ITO_s70_400-1000.txt (RMSE=0.17%, MAPE=0.13%)",
         "opacity": 1,
         "type": "scatter",
         "x": [
          400,
          406.06060606060606,
          412.1212121212121,
          418.1818181818182,
          424.24242424242425,
          430.3030303030303,
          436.3636363636364,
          442.42424242424244,
          448.4848484848485,
          454.54545454545456,
          460.6060606060606,
          466.6666666666667,
          472.72727272727275,
          478.78787878787875,
          484.8484848484849,
          490.9090909090909,
          496.969696969697,
          503.030303030303,
          509.0909090909091,
          515.1515151515151,
          521.2121212121212,
          527.2727272727273,
          533.3333333333334,
          539.3939393939394,
          545.4545454545455,
          551.5151515151515,
          557.5757575757575,
          563.6363636363636,
          569.6969696969697,
          575.7575757575758,
          581.8181818181818,
          587.8787878787879,
          593.939393939394,
          600,
          606.060606060606,
          612.1212121212121,
          618.1818181818182,
          624.2424242424242,
          630.3030303030303,
          636.3636363636364,
          642.4242424242425,
          648.4848484848485,
          654.5454545454545,
          660.6060606060606,
          666.6666666666667,
          672.7272727272727,
          678.7878787878788,
          684.8484848484849,
          690.9090909090909,
          696.969696969697,
          703.030303030303,
          709.090909090909,
          715.1515151515151,
          721.2121212121212,
          727.2727272727273,
          733.3333333333333,
          739.3939393939394,
          745.4545454545455,
          751.5151515151515,
          757.5757575757575,
          763.6363636363636,
          769.6969696969697,
          775.7575757575758,
          781.8181818181818,
          787.8787878787879,
          793.939393939394,
          800,
          806.060606060606,
          812.1212121212121,
          818.1818181818182,
          824.2424242424242,
          830.3030303030303,
          836.3636363636364,
          842.4242424242425,
          848.4848484848485,
          854.5454545454545,
          860.6060606060606,
          866.6666666666667,
          872.7272727272727,
          878.7878787878788,
          884.8484848484849,
          890.9090909090909,
          896.969696969697,
          903.030303030303,
          909.090909090909,
          915.1515151515151,
          921.2121212121212,
          927.2727272727273,
          933.3333333333334,
          939.3939393939394,
          945.4545454545455,
          951.5151515151515,
          957.5757575757576,
          963.6363636363636,
          969.6969696969697,
          975.7575757575758,
          981.8181818181818,
          987.8787878787879,
          993.9393939393939,
          1000
         ],
         "y": [
          0.8408624161498274,
          0.8246014918084213,
          0.8106941757987052,
          0.7987440556154617,
          0.7884095264011506,
          0.7793961035667172,
          0.7714500490185656,
          0.7677810004578783,
          0.764729035510456,
          0.762136591923131,
          0.7646215608498295,
          0.7673004716126965,
          0.7700640962132911,
          0.7728153826788234,
          0.7785678629513376,
          0.7841585583914571,
          0.7895145434305828,
          0.7945726783252974,
          0.8040556547246471,
          0.8131614205522204,
          0.821834360647715,
          0.8300274211899721,
          0.8377022718762522,
          0.8448292936285885,
          0.851387396832025,
          0.8573636824827242,
          0.8627529647435991,
          0.8675571779634805,
          0.8717846940704742,
          0.8754495774146365,
          0.8785708037543326,
          0.8811714683969232,
          0.8832780058190041,
          0.8849194397273157,
          0.8861266787917488,
          0.8869318694654744,
          0.8873678136333348,
          0.887467455470402,
          0.8872634389629421,
          0.8867877351062787,
          0.8860713358662288,
          0.8851440105564117,
          0.8829917766062453,
          0.8807232034852734,
          0.8783622860836483,
          0.875931143249921,
          0.8734500426134405,
          0.8709374479139556,
          0.8684100837444729,
          0.8658830132570419,
          0.8633697250092155,
          0.8608822257228987,
          0.8584311362748442,
          0.8560257887322787,
          0.8536743226851533,
          0.8513837795083369,
          0.8491601935150079,
          0.8470086792400807,
          0.8449335143242284,
          0.8429382176597535,
          0.8410256226141439,
          0.8391979452704571,
          0.8374568477201634,
          0.8358034965179992,
          0.8342386164632969,
          0.8327625399116827,
          0.8313752518476147,
          0.8300764309646629,
          0.8288654870086504,
          0.8277415946406735,
          0.8267037240740072,
          0.8257506687322506,
          0.8248810701667575,
          0.8240934404602411,
          0.8233861823310646,
          0.822757607139715,
          0.8219565842780141,
          0.8212343230185973,
          0.8205886709649862,
          0.8200174566326437,
          0.819469372928265,
          0.8189885100932989,
          0.8185728324794941,
          0.8177059689646783,
          0.8168774893283044,
          0.816086496809973,
          0.8153320972511212,
          0.8146134010255832,
          0.8139295247433275,
          0.8132795927482277,
          0.8126627384289571,
          0.8120781053605326,
          0.8115248482924914,
          0.8110021339983664,
          0.8105091419998233,
          0.8100450651776829,
          0.8096091102809728,
          0.8092004983441794,
          0.8088184650219606,
          0.8084622608497639
         ]
        },
        {
         "hovertemplate": "λ: %{x} nm<br>T: %{y:.3f}<br>RMSE: 0.51%<br>MAPE: 0.36%<extra></extra>",
         "line": {
          "color": "blue",
          "dash": "dash",
          "width": 2
         },
         "mode": "lines",
         "name": "ITO_s70_400-1100.txt (RMSE=0.51%, MAPE=0.36%)",
         "opacity": 0.6,
         "type": "scatter",
         "x": [
          400,
          404.6979865771812,
          409.3959731543624,
          414.09395973154363,
          418.79194630872485,
          423.48993288590606,
          428.18791946308727,
          432.8859060402684,
          437.5838926174497,
          442.28187919463085,
          446.97986577181206,
          451.67785234899327,
          456.3758389261745,
          461.0738255033557,
          465.7718120805369,
          470.4697986577181,
          475.1677852348993,
          479.86577181208054,
          484.56375838926175,
          489.26174496644296,
          493.9597315436242,
          498.6577181208054,
          503.35570469798654,
          508.0536912751678,
          512.751677852349,
          517.4496644295302,
          522.1476510067114,
          526.8456375838927,
          531.5436241610738,
          536.2416107382551,
          540.9395973154362,
          545.6375838926174,
          550.3355704697987,
          555.0335570469799,
          559.7315436241611,
          564.4295302013422,
          569.1275167785235,
          573.8255033557047,
          578.5234899328859,
          583.2214765100671,
          587.9194630872483,
          592.6174496644295,
          597.3154362416108,
          602.0134228187919,
          606.7114093959731,
          611.4093959731543,
          616.1073825503356,
          620.8053691275168,
          625.5033557046979,
          630.2013422818792,
          634.8993288590605,
          639.5973154362416,
          644.2953020134228,
          648.993288590604,
          653.6912751677852,
          658.3892617449665,
          663.0872483221476,
          667.7852348993288,
          672.48322147651,
          677.1812080536913,
          681.8791946308725,
          686.5771812080536,
          691.2751677852349,
          695.9731543624162,
          700.6711409395973,
          705.3691275167785,
          710.0671140939597,
          714.765100671141,
          719.4630872483222,
          724.1610738255033,
          728.8590604026846,
          733.5570469798658,
          738.255033557047,
          742.9530201342282,
          747.6510067114093,
          752.3489932885906,
          757.0469798657718,
          761.744966442953,
          766.4429530201342,
          771.1409395973154,
          775.8389261744967,
          780.5369127516778,
          785.234899328859,
          789.9328859060403,
          794.6308724832215,
          799.3288590604027,
          804.0268456375838,
          808.7248322147651,
          813.4228187919463,
          818.1208053691275,
          822.8187919463087,
          827.5167785234898,
          832.2147651006711,
          836.9127516778524,
          841.6107382550335,
          846.3087248322147,
          851.006711409396,
          855.7046979865772,
          860.4026845637584,
          865.1006711409395,
          869.7986577181208,
          874.4966442953021,
          879.1946308724832,
          883.8926174496644,
          888.5906040268457,
          893.2885906040268,
          897.9865771812081,
          902.6845637583892,
          907.3825503355704,
          912.0805369127517,
          916.7785234899329,
          921.4765100671141,
          926.1744966442952,
          930.8724832214765,
          935.5704697986577,
          940.2684563758389,
          944.9664429530201,
          949.6644295302013,
          954.3624161073825,
          959.0604026845638,
          963.7583892617449,
          968.4563758389262,
          973.1543624161073,
          977.8523489932886,
          982.5503355704698,
          987.248322147651,
          991.9463087248322,
          996.6442953020135,
          1001.3422818791946,
          1006.0402684563758,
          1010.738255033557,
          1015.4362416107382,
          1020.1342281879195,
          1024.8322147651006,
          1029.530201342282,
          1034.228187919463,
          1038.9261744966443,
          1043.6241610738255,
          1048.3221476510066,
          1053.020134228188,
          1057.7181208053692,
          1062.4161073825503,
          1067.1140939597317,
          1071.8120805369126,
          1076.510067114094,
          1081.2080536912752,
          1085.9060402684563,
          1090.6040268456377,
          1095.3020134228186,
          1100
         ],
         "y": [
          0.8452472882977771,
          0.8301633631150225,
          0.8168362782225094,
          0.8052204120375787,
          0.7952488662582886,
          0.7868412607992464,
          0.7799093910102447,
          0.7743612238196054,
          0.7701036362017848,
          0.767044222702549,
          0.7650924287173938,
          0.764160206742807,
          0.7641623445374223,
          0.7650165760861127,
          0.766643556887236,
          0.7689667627146236,
          0.7719123541182044,
          0.7754090362325998,
          0.7794472898119925,
          0.7839021112327195,
          0.7887093062164852,
          0.7938068795569143,
          0.7991350540713871,
          0.8046363260038907,
          0.81025555269812,
          0.8159400669396466,
          0.8216398113556024,
          0.8273074856167957,
          0.8328986988808688,
          0.8383721199220547,
          0.8436896176891517,
          0.8488163855905441,
          0.8537210435891514,
          0.8583757131602493,
          0.8626461749140103,
          0.8666344376869699,
          0.8703237862890314,
          0.8737007571537004,
          0.8767550513395,
          0.8794794187778819,
          0.8818695162284266,
          0.8839237420328986,
          0.8856430512345647,
          0.8870307549438609,
          0.8880923079896522,
          0.8888350889073433,
          0.889268176196612,
          0.8894021245523586,
          0.8892487444544291,
          0.8888208881178169,
          0.8881322443778374,
          0.8871971446352607,
          0.8860303815333431,
          0.8846470415981273,
          0.8830623526581559,
          0.8812915464795847,
          0.8793497367143465,
          0.877251811966401,
          0.8750123435357984,
          0.8726455072017638,
          0.8701650182522132,
          0.8675840788548086,
          0.8649153367897664,
          0.8621708545225879,
          0.8593620875810092,
          0.856499871210012,
          0.8558897148396996,
          0.8551798585165802,
          0.8543806012234911,
          0.853501817478316,
          0.8525529414741302,
          0.8515429565776163,
          0.8504803895878122,
          0.849373309180608,
          0.8482293279938671,
          0.847055607841823,
          0.845858867584033,
          0.8446453932124217,
          0.843421049758689,
          0.842191294662824,
          0.8409611922809059,
          0.8397354292463317,
          0.8385183304326459,
          0.8373138752980364,
          0.8361257144212179,
          0.834970377760082,
          0.8338222935591272,
          0.8326837989620792,
          0.8315570503347615,
          0.8304440322823032,
          0.8293465664913767,
          0.82826632036424,
          0.8272048154176865,
          0.8261634354256401,
          0.8251434342890296,
          0.8241459436209676,
          0.8231719800390053,
          0.8222224521595507,
          0.82129816729233,
          0.820399837835217,
          0.8194717743867391,
          0.8185625363074194,
          0.8176726489731295,
          0.8168025780200234,
          0.8159527330261144,
          0.8151234710172571,
          0.814301289968411,
          0.8135004730443451,
          0.8127212306914257,
          0.8119637334287825,
          0.8112281145468593,
          0.8105144726612313,
          0.8098228741274807,
          0.8085998660492703,
          0.8074066561045631,
          0.8062429236363519,
          0.8051083349811591,
          0.8040025449695561,
          0.8029251983207176,
          0.8018759309374153,
          0.8008543711075147,
          0.7998601406177396,
          0.7988928557851572,
          0.7979521284115526,
          0.7970375666655745,
          0.7961487758972546,
          0.7952853593892746,
          0.7944469190490568,
          0.7936330560455683,
          0.7928433713944659,
          0.7920774664950117,
          0.791334943621979,
          0.7906154063755759,
          0.7899184600922244,
          0.7892437122188756,
          0.7885907726533458,
          0.7879592540530379,
          0.7873487721142427,
          0.7867589458240788,
          0.786189397687005,
          0.7856397539277157,
          0.7851096446721079,
          0.7845987041079041,
          0.7841065706264113,
          0.7836328869467954,
          0.7831773002241776,
          0.7827394621427421,
          0.7823190289950024,
          0.7819156617482623,
          0.7815290260992708
         ]
        },
        {
         "hovertemplate": "λ: %{x} nm<br>T: %{y:.3f}<br>RMSE: 1.91%<br>MAPE: 1.36%<extra></extra>",
         "line": {
          "color": "green",
          "dash": "dot",
          "width": 2
         },
         "mode": "lines",
         "name": "ITO_s70_350-1100.txt (RMSE=1.91%, MAPE=1.36%)",
         "opacity": 0.6,
         "type": "scatter",
         "x": [
          350,
          355.03355704697987,
          360.06711409395973,
          365.1006711409396,
          370.13422818791946,
          375.1677852348993,
          380.2013422818792,
          385.23489932885906,
          390.2684563758389,
          395.3020134228188,
          400.33557046979865,
          405.3691275167785,
          410.4026845637584,
          415.43624161073825,
          420.4697986577181,
          425.503355704698,
          430.53691275167785,
          435.5704697986577,
          440.6040268456376,
          445.63758389261744,
          450.6711409395973,
          455.7046979865772,
          460.73825503355704,
          465.7718120805369,
          470.80536912751677,
          475.83892617449663,
          480.8724832214765,
          485.90604026845637,
          490.93959731543623,
          495.9731543624161,
          501.00671140939596,
          506.0402684563758,
          511.0738255033557,
          516.1073825503356,
          521.1409395973154,
          526.1744966442952,
          531.2080536912752,
          536.2416107382551,
          541.2751677852349,
          546.3087248322147,
          551.3422818791946,
          556.3758389261745,
          561.4093959731543,
          566.4429530201342,
          571.4765100671141,
          576.510067114094,
          581.5436241610738,
          586.5771812080536,
          591.6107382550335,
          596.6442953020135,
          601.6778523489933,
          606.7114093959731,
          611.744966442953,
          616.7785234899329,
          621.8120805369127,
          626.8456375838925,
          631.8791946308725,
          636.9127516778524,
          641.9463087248322,
          646.979865771812,
          652.0134228187919,
          657.0469798657718,
          662.0805369127517,
          667.1140939597315,
          672.1476510067114,
          677.1812080536913,
          682.2147651006711,
          687.2483221476509,
          692.2818791946308,
          697.3154362416108,
          702.3489932885906,
          707.3825503355704,
          712.4161073825503,
          717.4496644295302,
          722.48322147651,
          727.5167785234898,
          732.5503355704698,
          737.5838926174497,
          742.6174496644295,
          747.6510067114093,
          752.6845637583892,
          757.7181208053692,
          762.751677852349,
          767.7852348993288,
          772.8187919463087,
          777.8523489932886,
          782.8859060402684,
          787.9194630872482,
          792.9530201342282,
          797.9865771812081,
          803.0201342281879,
          808.0536912751677,
          813.0872483221476,
          818.1208053691275,
          823.1543624161073,
          828.1879194630872,
          833.2214765100671,
          838.255033557047,
          843.2885906040268,
          848.3221476510066,
          853.3557046979865,
          858.3892617449665,
          863.4228187919463,
          868.4563758389261,
          873.489932885906,
          878.5234899328859,
          883.5570469798657,
          888.5906040268455,
          893.6241610738255,
          898.6577181208054,
          903.6912751677852,
          908.724832214765,
          913.7583892617449,
          918.7919463087248,
          923.8255033557047,
          928.8590604026845,
          933.8926174496644,
          938.9261744966443,
          943.9597315436241,
          948.9932885906039,
          954.0268456375838,
          959.0604026845638,
          964.0939597315436,
          969.1275167785234,
          974.1610738255033,
          979.1946308724832,
          984.228187919463,
          989.2617449664428,
          994.2953020134228,
          999.3288590604027,
          1004.3624161073825,
          1009.3959731543623,
          1014.4295302013422,
          1019.4630872483222,
          1024.4966442953018,
          1029.5302013422818,
          1034.5637583892617,
          1039.5973154362416,
          1044.6308724832215,
          1049.6644295302012,
          1054.6979865771812,
          1059.731543624161,
          1064.7651006711408,
          1069.7986577181207,
          1074.8322147651006,
          1079.8657718120805,
          1084.8993288590605,
          1089.9328859060402,
          1094.96644295302,
          1100
         ],
         "y": [
          0.7418311690164331,
          0.7791875398343103,
          0.8013017971720057,
          0.8304649730848207,
          0.8552396834324953,
          0.8651107087055224,
          0.8706325799235071,
          0.854005186403077,
          0.8596012398644037,
          0.8479592806083894,
          0.8254271540880916,
          0.7992792407717771,
          0.7740626518349486,
          0.7530879611835514,
          0.7380398015635357,
          0.7294839316960926,
          0.7272931562123518,
          0.7309242664470598,
          0.739572533144019,
          0.7522521412349232,
          0.7547369435551358,
          0.7577467934132562,
          0.7612280536354176,
          0.76512748344179,
          0.7693925693659025,
          0.773971801268153,
          0.7788149106214127,
          0.7838730830116353,
          0.7890991526491831,
          0.7944477834533152,
          0.7998756388057,
          0.805341540246249,
          0.8108066141041445,
          0.8162344242324425,
          0.8215910885721736,
          0.8268453771453644,
          0.8319687892059305,
          0.8369356076070078,
          0.8417229289205925,
          0.8463106684213019,
          0.8506815396752825,
          0.8548210091170457,
          0.8583278297169872,
          0.861642601020464,
          0.8647583888632718,
          0.867669828364938,
          0.8703730465727607,
          0.8728655786060003,
          0.8751462785233912,
          0.8772152261593856,
          0.8790736311668156,
          0.880723735468651,
          0.8821687152628664,
          0.8834125836460623,
          0.8844600948277042,
          0.8853166508017495,
          0.8859882112301509,
          0.886481207176966,
          0.8868024592159262,
          0.8869591003211752,
          0.8869585038429673,
          0.8868082167691852,
          0.8865158983811274,
          0.886089264329005,
          0.8855360360795539,
          0.8848638956252913,
          0.884080445292113,
          0.8831931724388089,
          0.8822094188080346,
          0.8811363542627527,
          0.8799809546242566,
          0.8787499833168333,
          0.8774499765190378,
          0.8760872315216206,
          0.8746677979964785,
          0.8731974718889357,
          0.8716817916563763,
          0.8701260365891929,
          0.8685352269645095,
          0.8669141257988197,
          0.865267241981918,
          0.8635988345911321,
          0.8619129182014079,
          0.8602132690230999,
          0.8585034317151424,
          0.856786726736472,
          0.8550662581130134,
          0.8533449215111574,
          0.8516254125214094,
          0.8499102350677111,
          0.8482017098688467,
          0.8465019828883753,
          0.844813033718632,
          0.8431366838526426,
          0.8414746048052231,
          0.8398283260512646,
          0.8381992427551467,
          0.8365886232705373,
          0.834997616394515,
          0.8334272583640516,
          0.8318784795864959,
          0.8303521110987951,
          0.828848890752874,
          0.8273694691269076,
          0.8259144151641409,
          0.824484221542562,
          0.8230793097801083,
          0.8217000350811658,
          0.8203466909310639,
          0.8190195134459495,
          0.8177186854859906,
          0.816444340540253,
          0.8151965663918753,
          0.8139754085723471,
          0.8127808736137686,
          0.8116129321079831,
          0.8104715215814078,
          0.8093565491942819,
          0.8082678942728889,
          0.8072054106831132,
          0.8061689290534729,
          0.8051582588555328,
          0.8041731903493147,
          0.8032134964010801,
          0.8022789341805442,
          0.8013692467443294,
          0.8004841645121366,
          0.7996234066418524,
          0.7987866823095223,
          0.7979736918998164,
          0.7971841281123603,
          0.7964176769890271,
          0.7956740188670162,
          0.7949528292623081,
          0.7942537796878179,
          0.7935765384103493,
          0.7929207711502275,
          0.7922861417272586,
          0.791672312656461,
          0.7910789456968248,
          0.7905057023561509,
          0.7899522443548624,
          0.7894182340514838,
          0.7889033348323463,
          0.7884072114679084,
          0.7879295304379434,
          0.7874699602277029,
          0.7870281715970373,
          0.7866038378243313,
          0.7861966349270014
         ]
        }
       ],
       "layout": {
        "legend": {
         "font": {
          "size": 12
         }
        },
        "plot_bgcolor": "whitesmoke",
        "template": {
         "data": {
          "bar": [
           {
            "error_x": {
             "color": "#2a3f5f"
            },
            "error_y": {
             "color": "#2a3f5f"
            },
            "marker": {
             "line": {
              "color": "white",
              "width": 0.5
             },
             "pattern": {
              "fillmode": "overlay",
              "size": 10,
              "solidity": 0.2
             }
            },
            "type": "bar"
           }
          ],
          "barpolar": [
           {
            "marker": {
             "line": {
              "color": "white",
              "width": 0.5
             },
             "pattern": {
              "fillmode": "overlay",
              "size": 10,
              "solidity": 0.2
             }
            },
            "type": "barpolar"
           }
          ],
          "carpet": [
           {
            "aaxis": {
             "endlinecolor": "#2a3f5f",
             "gridcolor": "#C8D4E3",
             "linecolor": "#C8D4E3",
             "minorgridcolor": "#C8D4E3",
             "startlinecolor": "#2a3f5f"
            },
            "baxis": {
             "endlinecolor": "#2a3f5f",
             "gridcolor": "#C8D4E3",
             "linecolor": "#C8D4E3",
             "minorgridcolor": "#C8D4E3",
             "startlinecolor": "#2a3f5f"
            },
            "type": "carpet"
           }
          ],
          "choropleth": [
           {
            "colorbar": {
             "outlinewidth": 0,
             "ticks": ""
            },
            "type": "choropleth"
           }
          ],
          "contour": [
           {
            "colorbar": {
             "outlinewidth": 0,
             "ticks": ""
            },
            "colorscale": [
             [
              0,
              "#0d0887"
             ],
             [
              0.1111111111111111,
              "#46039f"
             ],
             [
              0.2222222222222222,
              "#7201a8"
             ],
             [
              0.3333333333333333,
              "#9c179e"
             ],
             [
              0.4444444444444444,
              "#bd3786"
             ],
             [
              0.5555555555555556,
              "#d8576b"
             ],
             [
              0.6666666666666666,
              "#ed7953"
             ],
             [
              0.7777777777777778,
              "#fb9f3a"
             ],
             [
              0.8888888888888888,
              "#fdca26"
             ],
             [
              1,
              "#f0f921"
             ]
            ],
            "type": "contour"
           }
          ],
          "contourcarpet": [
           {
            "colorbar": {
             "outlinewidth": 0,
             "ticks": ""
            },
            "type": "contourcarpet"
           }
          ],
          "heatmap": [
           {
            "colorbar": {
             "outlinewidth": 0,
             "ticks": ""
            },
            "colorscale": [
             [
              0,
              "#0d0887"
             ],
             [
              0.1111111111111111,
              "#46039f"
             ],
             [
              0.2222222222222222,
              "#7201a8"
             ],
             [
              0.3333333333333333,
              "#9c179e"
             ],
             [
              0.4444444444444444,
              "#bd3786"
             ],
             [
              0.5555555555555556,
              "#d8576b"
             ],
             [
              0.6666666666666666,
              "#ed7953"
             ],
             [
              0.7777777777777778,
              "#fb9f3a"
             ],
             [
              0.8888888888888888,
              "#fdca26"
             ],
             [
              1,
              "#f0f921"
             ]
            ],
            "type": "heatmap"
           }
          ],
          "heatmapgl": [
           {
            "colorbar": {
             "outlinewidth": 0,
             "ticks": ""
            },
            "colorscale": [
             [
              0,
              "#0d0887"
             ],
             [
              0.1111111111111111,
              "#46039f"
             ],
             [
              0.2222222222222222,
              "#7201a8"
             ],
             [
              0.3333333333333333,
              "#9c179e"
             ],
             [
              0.4444444444444444,
              "#bd3786"
             ],
             [
              0.5555555555555556,
              "#d8576b"
             ],
             [
              0.6666666666666666,
              "#ed7953"
             ],
             [
              0.7777777777777778,
              "#fb9f3a"
             ],
             [
              0.8888888888888888,
              "#fdca26"
             ],
             [
              1,
              "#f0f921"
             ]
            ],
            "type": "heatmapgl"
           }
          ],
          "histogram": [
           {
            "marker": {
             "pattern": {
              "fillmode": "overlay",
              "size": 10,
              "solidity": 0.2
             }
            },
            "type": "histogram"
           }
          ],
          "histogram2d": [
           {
            "colorbar": {
             "outlinewidth": 0,
             "ticks": ""
            },
            "colorscale": [
             [
              0,
              "#0d0887"
             ],
             [
              0.1111111111111111,
              "#46039f"
             ],
             [
              0.2222222222222222,
              "#7201a8"
             ],
             [
              0.3333333333333333,
              "#9c179e"
             ],
             [
              0.4444444444444444,
              "#bd3786"
             ],
             [
              0.5555555555555556,
              "#d8576b"
             ],
             [
              0.6666666666666666,
              "#ed7953"
             ],
             [
              0.7777777777777778,
              "#fb9f3a"
             ],
             [
              0.8888888888888888,
              "#fdca26"
             ],
             [
              1,
              "#f0f921"
             ]
            ],
            "type": "histogram2d"
           }
          ],
          "histogram2dcontour": [
           {
            "colorbar": {
             "outlinewidth": 0,
             "ticks": ""
            },
            "colorscale": [
             [
              0,
              "#0d0887"
             ],
             [
              0.1111111111111111,
              "#46039f"
             ],
             [
              0.2222222222222222,
              "#7201a8"
             ],
             [
              0.3333333333333333,
              "#9c179e"
             ],
             [
              0.4444444444444444,
              "#bd3786"
             ],
             [
              0.5555555555555556,
              "#d8576b"
             ],
             [
              0.6666666666666666,
              "#ed7953"
             ],
             [
              0.7777777777777778,
              "#fb9f3a"
             ],
             [
              0.8888888888888888,
              "#fdca26"
             ],
             [
              1,
              "#f0f921"
             ]
            ],
            "type": "histogram2dcontour"
           }
          ],
          "mesh3d": [
           {
            "colorbar": {
             "outlinewidth": 0,
             "ticks": ""
            },
            "type": "mesh3d"
           }
          ],
          "parcoords": [
           {
            "line": {
             "colorbar": {
              "outlinewidth": 0,
              "ticks": ""
             }
            },
            "type": "parcoords"
           }
          ],
          "pie": [
           {
            "automargin": true,
            "type": "pie"
           }
          ],
          "scatter": [
           {
            "fillpattern": {
             "fillmode": "overlay",
             "size": 10,
             "solidity": 0.2
            },
            "type": "scatter"
           }
          ],
          "scatter3d": [
           {
            "line": {
             "colorbar": {
              "outlinewidth": 0,
              "ticks": ""
             }
            },
            "marker": {
             "colorbar": {
              "outlinewidth": 0,
              "ticks": ""
             }
            },
            "type": "scatter3d"
           }
          ],
          "scattercarpet": [
           {
            "marker": {
             "colorbar": {
              "outlinewidth": 0,
              "ticks": ""
             }
            },
            "type": "scattercarpet"
           }
          ],
          "scattergeo": [
           {
            "marker": {
             "colorbar": {
              "outlinewidth": 0,
              "ticks": ""
             }
            },
            "type": "scattergeo"
           }
          ],
          "scattergl": [
           {
            "marker": {
             "colorbar": {
              "outlinewidth": 0,
              "ticks": ""
             }
            },
            "type": "scattergl"
           }
          ],
          "scattermapbox": [
           {
            "marker": {
             "colorbar": {
              "outlinewidth": 0,
              "ticks": ""
             }
            },
            "type": "scattermapbox"
           }
          ],
          "scatterpolar": [
           {
            "marker": {
             "colorbar": {
              "outlinewidth": 0,
              "ticks": ""
             }
            },
            "type": "scatterpolar"
           }
          ],
          "scatterpolargl": [
           {
            "marker": {
             "colorbar": {
              "outlinewidth": 0,
              "ticks": ""
             }
            },
            "type": "scatterpolargl"
           }
          ],
          "scatterternary": [
           {
            "marker": {
             "colorbar": {
              "outlinewidth": 0,
              "ticks": ""
             }
            },
            "type": "scatterternary"
           }
          ],
          "surface": [
           {
            "colorbar": {
             "outlinewidth": 0,
             "ticks": ""
            },
            "colorscale": [
             [
              0,
              "#0d0887"
             ],
             [
              0.1111111111111111,
              "#46039f"
             ],
             [
              0.2222222222222222,
              "#7201a8"
             ],
             [
              0.3333333333333333,
              "#9c179e"
             ],
             [
              0.4444444444444444,
              "#bd3786"
             ],
             [
              0.5555555555555556,
              "#d8576b"
             ],
             [
              0.6666666666666666,
              "#ed7953"
             ],
             [
              0.7777777777777778,
              "#fb9f3a"
             ],
             [
              0.8888888888888888,
              "#fdca26"
             ],
             [
              1,
              "#f0f921"
             ]
            ],
            "type": "surface"
           }
          ],
          "table": [
           {
            "cells": {
             "fill": {
              "color": "#EBF0F8"
             },
             "line": {
              "color": "white"
             }
            },
            "header": {
             "fill": {
              "color": "#C8D4E3"
             },
             "line": {
              "color": "white"
             }
            },
            "type": "table"
           }
          ]
         },
         "layout": {
          "annotationdefaults": {
           "arrowcolor": "#2a3f5f",
           "arrowhead": 0,
           "arrowwidth": 1
          },
          "autotypenumbers": "strict",
          "coloraxis": {
           "colorbar": {
            "outlinewidth": 0,
            "ticks": ""
           }
          },
          "colorscale": {
           "diverging": [
            [
             0,
             "#8e0152"
            ],
            [
             0.1,
             "#c51b7d"
            ],
            [
             0.2,
             "#de77ae"
            ],
            [
             0.3,
             "#f1b6da"
            ],
            [
             0.4,
             "#fde0ef"
            ],
            [
             0.5,
             "#f7f7f7"
            ],
            [
             0.6,
             "#e6f5d0"
            ],
            [
             0.7,
             "#b8e186"
            ],
            [
             0.8,
             "#7fbc41"
            ],
            [
             0.9,
             "#4d9221"
            ],
            [
             1,
             "#276419"
            ]
           ],
           "sequential": [
            [
             0,
             "#0d0887"
            ],
            [
             0.1111111111111111,
             "#46039f"
            ],
            [
             0.2222222222222222,
             "#7201a8"
            ],
            [
             0.3333333333333333,
             "#9c179e"
            ],
            [
             0.4444444444444444,
             "#bd3786"
            ],
            [
             0.5555555555555556,
             "#d8576b"
            ],
            [
             0.6666666666666666,
             "#ed7953"
            ],
            [
             0.7777777777777778,
             "#fb9f3a"
            ],
            [
             0.8888888888888888,
             "#fdca26"
            ],
            [
             1,
             "#f0f921"
            ]
           ],
           "sequentialminus": [
            [
             0,
             "#0d0887"
            ],
            [
             0.1111111111111111,
             "#46039f"
            ],
            [
             0.2222222222222222,
             "#7201a8"
            ],
            [
             0.3333333333333333,
             "#9c179e"
            ],
            [
             0.4444444444444444,
             "#bd3786"
            ],
            [
             0.5555555555555556,
             "#d8576b"
            ],
            [
             0.6666666666666666,
             "#ed7953"
            ],
            [
             0.7777777777777778,
             "#fb9f3a"
            ],
            [
             0.8888888888888888,
             "#fdca26"
            ],
            [
             1,
             "#f0f921"
            ]
           ]
          },
          "colorway": [
           "#636efa",
           "#EF553B",
           "#00cc96",
           "#ab63fa",
           "#FFA15A",
           "#19d3f3",
           "#FF6692",
           "#B6E880",
           "#FF97FF",
           "#FECB52"
          ],
          "font": {
           "color": "#2a3f5f"
          },
          "geo": {
           "bgcolor": "white",
           "lakecolor": "white",
           "landcolor": "white",
           "showlakes": true,
           "showland": true,
           "subunitcolor": "#C8D4E3"
          },
          "hoverlabel": {
           "align": "left"
          },
          "hovermode": "closest",
          "mapbox": {
           "style": "light"
          },
          "paper_bgcolor": "white",
          "plot_bgcolor": "white",
          "polar": {
           "angularaxis": {
            "gridcolor": "#EBF0F8",
            "linecolor": "#EBF0F8",
            "ticks": ""
           },
           "bgcolor": "white",
           "radialaxis": {
            "gridcolor": "#EBF0F8",
            "linecolor": "#EBF0F8",
            "ticks": ""
           }
          },
          "scene": {
           "xaxis": {
            "backgroundcolor": "white",
            "gridcolor": "#DFE8F3",
            "gridwidth": 2,
            "linecolor": "#EBF0F8",
            "showbackground": true,
            "ticks": "",
            "zerolinecolor": "#EBF0F8"
           },
           "yaxis": {
            "backgroundcolor": "white",
            "gridcolor": "#DFE8F3",
            "gridwidth": 2,
            "linecolor": "#EBF0F8",
            "showbackground": true,
            "ticks": "",
            "zerolinecolor": "#EBF0F8"
           },
           "zaxis": {
            "backgroundcolor": "white",
            "gridcolor": "#DFE8F3",
            "gridwidth": 2,
            "linecolor": "#EBF0F8",
            "showbackground": true,
            "ticks": "",
            "zerolinecolor": "#EBF0F8"
           }
          },
          "shapedefaults": {
           "line": {
            "color": "#2a3f5f"
           }
          },
          "ternary": {
           "aaxis": {
            "gridcolor": "#DFE8F3",
            "linecolor": "#A2B1C6",
            "ticks": ""
           },
           "baxis": {
            "gridcolor": "#DFE8F3",
            "linecolor": "#A2B1C6",
            "ticks": ""
           },
           "bgcolor": "white",
           "caxis": {
            "gridcolor": "#DFE8F3",
            "linecolor": "#A2B1C6",
            "ticks": ""
           }
          },
          "title": {
           "x": 0.05
          },
          "xaxis": {
           "automargin": true,
           "gridcolor": "#EBF0F8",
           "linecolor": "#EBF0F8",
           "ticks": "",
           "title": {
            "standoff": 15
           },
           "zerolinecolor": "#EBF0F8",
           "zerolinewidth": 2
          },
          "yaxis": {
           "automargin": true,
           "gridcolor": "#EBF0F8",
           "linecolor": "#EBF0F8",
           "ticks": "",
           "title": {
            "standoff": 15
           },
           "zerolinecolor": "#EBF0F8",
           "zerolinewidth": 2
          }
         }
        },
        "title": {
         "text": "Overlay Experimental vs Top Simulaciones"
        },
        "xaxis": {
         "range": [
          380,
          1050
         ],
         "showgrid": true,
         "title": {
          "text": "Longitud de onda (nm)"
         }
        },
        "yaxis": {
         "range": [
          0.7,
          0.9
         ],
         "showgrid": true,
         "title": {
          "text": "Transmitancia"
         }
        }
       }
      }
     },
     "metadata": {},
     "output_type": "display_data"
    }
   ],
   "source": [
    "import numpy as np\n",
    "import glob\n",
    "from scipy.interpolate import interp1d\n",
    "import plotly.graph_objects as go\n",
    "from plotly.subplots import make_subplots\n",
    "\n",
    "# === Archivo experimental ===\n",
    "filename_exp = \"ITO_data_curated_400-1000.txt\"\n",
    "exp_data = np.loadtxt(filename_exp, skiprows=1)\n",
    "lambda_exp, T_exp = exp_data[:,0], exp_data[:,1]\n",
    "\n",
    "# === Archivos simulados ===\n",
    "sim_files = glob.glob(\"ITO_s70_*.txt\")\n",
    "results = []\n",
    "\n",
    "# Calcular errores\n",
    "for f in sim_files:\n",
    "    block1, block2 = [], []\n",
    "    with open(f, \"r\") as file:\n",
    "        for line in file:\n",
    "            try:\n",
    "                vals = list(map(float, line.split()))\n",
    "                if len(vals) == 3:\n",
    "                    block1.append(vals)\n",
    "                elif len(vals) == 2:\n",
    "                    block2.append(vals)\n",
    "            except:\n",
    "                continue\n",
    "\n",
    "    block1 = np.array(block1)\n",
    "    block2 = np.array(block2)\n",
    "\n",
    "    if len(block2) == 0:\n",
    "        continue\n",
    "\n",
    "    lambda2, T_sim = block2[:,0], block2[:,1]\n",
    "    interp_T = interp1d(lambda2, T_sim, kind='linear', fill_value=\"extrapolate\")\n",
    "    T_sim_interp = interp_T(lambda_exp)\n",
    "\n",
    "    rmse = np.sqrt(np.mean((T_sim_interp - T_exp)**2)) / np.mean(T_exp) * 100\n",
    "    mape = np.mean(np.abs(T_sim_interp - T_exp)/T_exp) * 100\n",
    "\n",
    "    results.append((f, rmse, mape, lambda2, T_sim))\n",
    "\n",
    "# Ordenar por RMSE\n",
    "results.sort(key=lambda x: x[1])\n",
    "\n",
    "# Paleta y estilos\n",
    "colors = [\"red\", \"blue\", \"green\", \"orange\", \"purple\", \"cyan\"]\n",
    "line_styles = [\"solid\", \"dash\", \"dot\", \"dashdot\", \"longdash\", \"longdashdot\"]\n",
    "\n",
    "# Crear figura\n",
    "fig = go.Figure()\n",
    "\n",
    "# Curva experimental\n",
    "fig.add_trace(go.Scatter(\n",
    "    x=lambda_exp, y=T_exp,\n",
    "    mode=\"markers\",\n",
    "    name=\"Experimental\",\n",
    "    marker=dict(size=8, color=\"black\", symbol=\"circle\")\n",
    "))\n",
    "\n",
    "# Top N simulaciones (max 6 para paleta)\n",
    "top_N = min(3, len(results))\n",
    "for i, (fname, rmse, mape, lambda2, T_sim) in enumerate(results[:top_N]):\n",
    "    # Mejor simulación resaltada\n",
    "    width = 4 if i == 0 else 2\n",
    "    opacity = 1.0 if i == 0 else 0.6\n",
    "    color = colors[i]\n",
    "\n",
    "    fig.add_trace(go.Scatter(\n",
    "        x=lambda2, y=T_sim,\n",
    "        mode=\"lines\",\n",
    "        name=f\"{fname} (RMSE={rmse:.2f}%, MAPE={mape:.2f}%)\",\n",
    "        line=dict(color=color, width=width, dash=line_styles[i]),\n",
    "        opacity=opacity,\n",
    "        hovertemplate=\n",
    "            \"λ: %{x} nm<br>T: %{y:.3f}<br>\" +\n",
    "            f\"RMSE: {rmse:.2f}%<br>MAPE: {mape:.2f}%<extra></extra>\"\n",
    "    ))\n",
    "\n",
    "# Layout interactivo\n",
    "fig.update_layout(\n",
    "    title=\"Overlay Experimental vs Top Simulaciones\",\n",
    "    xaxis_title=\"Longitud de onda (nm)\",\n",
    "    yaxis_title=\"Transmitancia\",\n",
    "    legend=dict(font=dict(size=12)),\n",
    "    yaxis=dict(range=[0.7, 0.9]),\n",
    "    xaxis=dict(range=[380, 1050]),\n",
    "    plot_bgcolor=\"whitesmoke\",\n",
    "    xaxis_showgrid=True,\n",
    "    yaxis_showgrid=True\n",
    ")\n",
    "\n",
    "fig.show()\n"
   ]
  }
 ],
 "metadata": {
  "kernelspec": {
   "display_name": "base",
   "language": "python",
   "name": "python3"
  },
  "language_info": {
   "codemirror_mode": {
    "name": "ipython",
    "version": 3
   },
   "file_extension": ".py",
   "mimetype": "text/x-python",
   "name": "python",
   "nbconvert_exporter": "python",
   "pygments_lexer": "ipython3",
   "version": "3.12.3"
  }
 },
 "nbformat": 4,
 "nbformat_minor": 5
}
