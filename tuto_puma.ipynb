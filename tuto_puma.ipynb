{
 "cells": [
  {
   "cell_type": "markdown",
   "id": "bb34dc62",
   "metadata": {},
   "source": [
    "# Tutorial básico para usar PUMA para películas delgadas\n",
    "\n",
    "## 1. Introducción\n",
    "(https://www.ime.usp.br/~egbirgin/puma/#remarks)\n",
    "\n",
    "PUMA es un software para estimar las constantes ópticas \\( n \\), \\( k \\) y el espesor de películas delgadas usando datos de transmitancia y/o reflectancia.\n",
    "\n",
    "Este tutorial explicara cómo preparar los datos, correr PUMA desde la consola y entender sus parámetros principales.\n",
    "\n",
    "---\n",
    "\n",
    "## 2. Preparar el archivo de datos\n",
    "\n",
    "PUMA requiere un archivo de texto con este formato:\n",
    "\n",
    "- Primera línea: número de observaciones (por ejemplo, 100)\n",
    "- Luego, cada línea contiene la longitud de onda (en nm) y la transmitancia (o reflectancia) en fracciones (0 a 1).\n",
    "\n",
    "Ejemplo de archivo llamado `muestra1-dat.txt`:\n",
    "\n",
    "\n",
    "\n"
   ]
  },
  {
   "cell_type": "markdown",
   "id": "9c051744",
   "metadata": {},
   "source": [
    "# Cómo usar PUMA para estimar el espesor y constantes ópticas de una película delgada\n",
    "\n",
    "Para correr PUMA en un sistema de una sola película, se tiene que escribir en la terminal el siguiente comando:\n",
    "\n"
   ]
  },
  {
   "cell_type": "markdown",
   "id": "6f59e13e",
   "metadata": {},
   "source": [
    "```bash\n",
    "puma FNAME NLAYERS SLAYER SUBSTRATE DATATYPE NOBS LAMBDAmin LAMBDAmax maxIT QUAD INIT THICKNESSmin THICKNESSmax THICKNESSstep INFLEmin INFLEmax INFLEstep N0ini N0fin N0step NFini NFfin NFstep K0ini K0fin K0step"
   ]
  },
  {
   "cell_type": "markdown",
   "id": "2b7924df",
   "metadata": {},
   "source": [
    "\n",
    "donde las palabras en mayúsculas son parámetros que se describen a continuación:\n",
    "\n",
    "- **FNAME**: nombre de la película que se está estudiando (sin espacios).  \n",
    "  El archivo de entrada debe llamarse `FNAME-dat.txt`.  \n",
    "  El archivo de salida será creado automáticamente como `FNAME-inf.txt`.\n",
    "\n",
    "- **Formato del archivo de entrada** (`FNAME-dat.txt`):\n",
    "  - La primera línea contiene el número de observaciones. Por ejemplo, si tienes 100 observaciones, el archivo tendrá 101 líneas.\n",
    "  - Desde la segunda línea hasta la última, cada línea debe contener la longitud de onda y la transmitancia (o reflectancia o ambas). Esto significa que cada línea debe tener 2 o 3 números.\n",
    "  - Los datos de transmitancia o reflectancia deben estar en fracciones, es decir, valores entre 0 y 1.  \n",
    "    Si tus datos están en porcentaje (0 a 100), divídelos entre 100.\n",
    "\n",
    "- **NLAYERS**: número total de capas del sistema (películas, substrato y las capas de aire inicial y final).  \n",
    "\n",
    "- **SLAYER**: número de la capa que corresponde al substrato.  \n",
    "  Para un sistema con: aire (capa 0), película (1), substrato (2) y aire (3), usa `SLAYER = 2`.\n",
    "\n",
    "- **SUBSTRATE**: número que describe el substrato:  \n",
    "  - 10: vidrio  \n",
    "  - 20: silicio cristalino  \n",
    "  - 30: cuarzo cristalino  \n",
    "  - 40: portaobjetos de vidrio \n",
    "  - 50: borosilicato\n",
    "\n",
    "- **DATATYPE**: tipo de dato. Usa:  \n",
    "  - `T` para transmitancia  \n",
    "  - `R` para reflectancia  \n",
    "  - `B` para ambos\n",
    "\n",
    "- **NOBS**: número de puntos usados en la optimización.  \n",
    "  Se interpolan puntos equiespaciados dentro del intervalo `[LAMBDAmin, LAMBDAmax]`.  \n",
    "  Se recomienda usar 100 si no se tiene experiencia.\n",
    "\n",
    "- **LAMBDAmin**: límite inferior del rango de longitudes de onda para estimar las constantes ópticas.  \n",
    "  Debe ser mayor o igual al menor valor de longitud de onda en el archivo de datos.\n",
    "\n",
    "- **LAMBDAmax**: límite superior del rango.  \n",
    "  Debe ser menor o igual al mayor valor de longitud de onda en el archivo de datos.  \n",
    "  Obligatorio: `LAMBDAmax >= LAMBDAmin`.\n",
    "\n",
    "- **maxIT**: número máximo de iteraciones del optimizador.  \n",
    "  Por cada combinación fija de grosor y punto de inflexión se resuelve un problema de optimización no lineal.  \n",
    "  Se recomienda usar:  \n",
    "  - 3000 para primer intento  \n",
    "  - 5000 para segundo intento  \n",
    "  - 50000 para último intento\n",
    "\n",
    "- **QUAD**: error cuadrático del mejor ajuste hasta el momento.  \n",
    "  Solo se guardan soluciones con error menor que este valor.  \n",
    "  En el primer intento, se usa un número muy grande, como `1e+100`.  \n",
    "  Cuando se usa una estimación previa para guiar un nuevo intento, puede que no se encuentre una mejor solución. En ese caso, el grosor retornado es cero.\n",
    "  \n"
   ]
  },
  {
   "cell_type": "markdown",
   "id": "6bfb398f",
   "metadata": {},
   "source": [
    "- **INIT**: entero que elige entre hacer la estimación inicial o usar la previa como punto de partida.  \n",
    "  - Usa `0` para estimación inicial.  \n",
    "  - Usa `9` para usar la estimación previa como inicial.  \n",
    "  - Si se usa `9`, se ignoran los parámetros de estimación inicial (`N0ini`, `N0fin`, `N0step`, `NFini`, `NFfin`, `NFstep`, `K0ini`, `K0fin`, `K0step`).\n",
    "\n",
    "- **THICKNESSmin**: límite inferior para el grosor de prueba.  \n",
    "  - Junto con `THICKNESSmax` define el intervalo en que se busca el grosor real.  \n",
    "  - Se necesita algún conocimiento previo para fijar este rango.\n",
    "\n",
    "- **THICKNESSmax**: límite superior para el grosor de prueba.  \n",
    "  - Debe cumplirse `THICKNESSmax >= THICKNESSmin`.  \n",
    "  - Si `THICKNESSmax = THICKNESSmin`, entonces se asume que el grosor es conocido y solo se estiman las constantes ópticas. En este caso, `THICKNESSstep` se ignora.\n",
    "\n",
    "- **THICKNESSstep**: paso para barrer los valores de grosor en el intervalo definido.\n",
    "\n",
    "Los valores de grosor probados son:\n",
    "\n",
    "$$\n",
    "\\text{THICKNESS} = \\text{THICKNESSmin} + w \\times \\text{THICKNESSstep}, \\quad w=0,1,2,...\n",
    "$$\n",
    "\n",
    "- **INFLEmin**: límite inferior del punto de inflexión del coeficiente de atenuación.  \n",
    "  - En PUMA, el coeficiente de atenuación se aproxima por una función cóncava en $[\\text{LAMBDAmin}, \\text{INFLEPOINT}]$ y convexa en $[\\text{INFLEPOINT}, \\text{LAMBDAmax}]$.  \n",
    "  - Define junto con `INFLEmax` el rango donde se busca ese punto de inflexión.  \n",
    "  - Si no se tiene idea, poner `INFLEmin = LAMBDAmin`.\n",
    "\n",
    "- **INFLEmax**: límite superior para el punto de inflexión.  \n",
    "  - Debe cumplirse `INFLEmax >= INFLEmin`.  \n",
    "  - Si no se sabe, pon `INFLEmax = LAMBDAmax`.  \n",
    "  - Si no se sabe el punto exacto, poner `INFLEmax = INFLEmin` y el paso se ignora.\n",
    "\n",
    "- **INFLEstep**: paso para barrer valores del punto de inflexión dentro del rango.\n",
    "\n",
    "Los valores probados son:\n",
    "\n",
    "$$\n",
    "\\text{INFLEPOINT} = \\text{INFLEmin} + w \\times \\text{INFLEstep}, \\quad w=0,1,2,...\n",
    "$$\n",
    "\n",
    "- **N0ini, N0fin, N0step, NFini, NFfin, NFstep**: parámetros para la estimación inicial del índice de refracción \\( n \\).\n",
    "\n",
    "  La estimación inicial de \\( n(\\lambda) \\) se hace con funciones lineales estrictamente decrecientes que van de:\n",
    "\n",
    "  - $ N_0 $ en $\\lambda = \\text{LAMBDAmin}$, que varía entre `N0ini` y `N0fin` con paso `N0step`,  \n",
    "  - a $ N_F$ en $\\lambda = \\text{LAMBDAmax}$, que varía entre `NFini` y `NFfin` con paso `NFstep`.\n",
    "\n",
    "  Esto significa que las funciones iniciales son líneas que pasan por los pares:\n",
    "\n",
    "$$\n",
    "(\\text{LAMBDAmin}, N_0), \\quad (\\text{LAMBDAmax}, N_F)\n",
    "$$\n",
    "\n",
    "con\n",
    "\n",
    "$$\n",
    "N_0 = \\text{N0ini} + u \\times \\text{N0step}, \\quad u = 0,1,2,...\n",
    "$$\n",
    "\n",
    "$$\n",
    "N_F = \\text{NFini} + v \\times \\text{NFstep}, \\quad v = 0,1,2,...\n",
    "$$\n",
    "\n",
    "donde $ N_0 \\in [\\text{N0ini}, \\text{N0fin}] $, $ N_F \\in [\\text{NFini}, \\text{NFfin}] $, y $ N_0 > N_F $.\n"
   ]
  },
  {
   "cell_type": "markdown",
   "id": "6cb8b520",
   "metadata": {},
   "source": [
    "- Se necesita un conocimiento a priori del índice de refracción del material para fijar estos parámetros.\n",
    "\n",
    "- **K0ini, K0fin, K0step**: estimaciones iniciales para el coeficiente de atenuación \\( k \\).  \n",
    "\n",
    "  En este caso se usa una función lineal a tramos, con valores:  \n",
    "  - $ K_0 $ en $\\lambda = \\text{LAMBDAmin}$,  \n",
    "  - $ 0.1 \\times K_0 $ en $\\lambda = \\text{LAMBDAmin} + 0.2 \\times (\\text{LAMBDAmax} - \\text{LAMBDAmin})$,  \n",
    "  - $ K_0 $ en $\\lambda = \\text{LAMBDAmax}$,  \n",
    "\n",
    "  donde $ K_0 $ varía dentro del intervalo $[K0ini, K0fin]$ como:\n",
    "\n",
    "  $$\n",
    "  K_0 = K0ini + z \\times K0step, \\quad z = 0,1,2,...\n",
    "  $$\n",
    "\n"
   ]
  },
  {
   "cell_type": "markdown",
   "id": "66f4da86",
   "metadata": {},
   "source": [
    "# Sustratos soportados por PuMA\n",
    "\n",
    "En PuMA, el parámetro `SUBSTRATE` define el índice de refracción de la capa base de la película según el material. Cada ID corresponde a un material específico y su rango de transparencia.\n",
    "\n",
    "| ID | Material                      | Rango de λ (nm) |\n",
    "|----|-------------------------------|----------------|\n",
    "| 10 | Vidrio genérico                | 350 – 2000     |\n",
    "| 20 | Silicio cristalino             | 1250 – 2600    |\n",
    "| 30 | Cuarzo cristalino              | 200 – 1500     |\n",
    "| 40 | Vidrio para portaobjetos (glass slides)      | 360 – 800      |\n",
    "| 50 | Borosilicato                   | 300 – 2600     |\n",
    "| 60 | Cuarzo amorfo                  | 200 – 1500     |"
   ]
  },
  {
   "cell_type": "markdown",
   "id": "ad211e9a",
   "metadata": {},
   "source": [
    "# Ejemplo para sistema de una sola película\n",
    "\n",
    "Como se explicó antes, se puede correr PUMA haciendo una estimación inicial o usando una estimación previa como punto de partida, llamando a PUMA una, dos, tres o más veces según sea necesario. Esta flexibilidad combinada con una buena elección de parámetros de entrada da un grado alto de control.\n",
    "\n",
    "Generalmente, con tres llamadas alcanza. El procedimiento recomendado es:\n",
    "\n",
    "1. En el primer intento, se elige un intervalo para los grosores de prueba alrededor de algún valor conocido.  \n",
    "   Se fija el paso de grosor.  \n",
    "   Se elige el intervalo para el punto de inflexión del coeficiente de atenuación igual al intervalo del espectro.\n",
    "\n",
    "2. En el segundo intento, se estrecha el intervalo de grosores alrededor del grosor recuperado previamente.  \n",
    "   Se disminuye el paso de grosor.  \n",
    "   Y se hace lo mismo para el punto de inflexión del coeficiente de atenuación.  \n",
    "   Además, se incrementa el número máximo de iteraciones.\n",
    "\n",
    "3. En el tercer intento, se fija el grosor como el recuperado anteriormente.  \n",
    "   Y se hace lo mismo para el punto de inflexión.  \n",
    "   Y se vuelve a aumentar el máximo de iteraciones.\n",
    "\n",
    "---\n",
    "\n",
    "## Ejemplo práctico con la película \"gedanken film A\"\n",
    "\n",
    "(Para reproducir este ejemplo, copiá el archivo de datos `sigl0097t-dat.txt` al mismo directorio donde está instalado PUMA).\n",
    "\n",
    "### Primera llamada\n",
    "\n",
    "El comando para el primer intento es:\n",
    "\n"
   ]
  },
  {
   "cell_type": "markdown",
   "id": "140ec92d",
   "metadata": {},
   "source": [
    "```bash\n",
    ".\\puma.exe sigl0097t 4 2 10 T 100 0540 1530 3000 1e+100 0 0010 0200 10 0540 1530 100 3 5 1 3 5 1 0.10 0.10 0.05 > results.txt\n",
    "\n"
   ]
  },
  {
   "cell_type": "markdown",
   "id": "0a36f711",
   "metadata": {},
   "source": [
    "Lo que se observara en el output es algo con esta estructura:\n",
    "\n",
    "`λ_min   Espesor   m1   m2   ΔK0   error   [opcional !!!]`\n"
   ]
  },
  {
   "cell_type": "markdown",
   "id": "0594fadf",
   "metadata": {},
   "source": [
    "Donde en este ejemplo, se puede observar algo como:\n",
    "\n",
    "540.00 → Longitud de onda mínima usada en ese cálculo (en nm).\n",
    "\n",
    "10.00 → Espesor de la película (en nm o en la unidad que definiste en el input).\n",
    "\n",
    "3.00 → Primer índice de interferencia (m1), asociado al mínimo/máximo de interferencia más bajo.\n",
    "\n",
    "3.00 → Segundo índice de interferencia (m2), asociado a otro punto característico.\n",
    "\n",
    "0.10 → Paso de variación de K0 (coeficiente de extinción inicial) en la búsqueda.\n",
    "\n",
    "4.151371e+00 → Error o función objetivo (fitness) que el algoritmo está minimizando.\n",
    "\n",
    "!!! → Marcador que indica que esa combinación de parámetros está fuera de un rango físico razonable o que el ajuste no cumple alguna condición interna del programa (por ejemplo, índice de refracción < 1 o K negativo)."
   ]
  },
  {
   "cell_type": "markdown",
   "id": "239d5c99",
   "metadata": {},
   "source": [
    "## Segunda llamada (Second Call)\n",
    "\n",
    "Con los resultados de la primera corrida:\n",
    "- Espesor recuperado: **100 nm**\n",
    "- Punto de inflexión recuperado: **540 nm**\n",
    "- Error cuadrático: **6.342857e-03** *(puede variar levemente entre máquinas)*\n",
    "\n",
    "\n",
    "\n"
   ]
  },
  {
   "cell_type": "markdown",
   "id": "09b81238",
   "metadata": {},
   "source": [
    "```bash\n",
    ".\\puma.exe sigl0097t 4 2 10 T 100 0540 1530 5000 6.342857e-03 9 0050 0150 01 0540 0540 100 > secondcall_results.txt"
   ]
  },
  {
   "cell_type": "markdown",
   "id": "7b696ca6",
   "metadata": {},
   "source": [
    "\n",
    "> Nota: en esta segunda llamada **se omiten** los parámetros de estimación inicial de \\(n\\) y \\(k\\):  \n",
    "> `N0ini N0fin N0step NFini NFfin NFstep K0ini K0fin K0step`.\n",
    "\n",
    "### Qué cambió respecto a la primera llamada???\n",
    "\n",
    "- **MAXIT**: de `3000` → `5000` (más iteraciones).\n",
    "- **QUAD**: ahora es el **error cuadrático previo** `6.342857e-03`.  \n",
    "  Solo se guardan soluciones con error **menor** a este valor.\n",
    "- **INIT**: `9` (usa las constantes ópticas estimadas previamente como **initial guess**).\n",
    "- **THICKNESSmin–max–step**: de `10–200–10` → a un rango centrado en **100 nm**: `50–150–1`.  \n",
    "  Rango más estrecho y **paso** más fino.\n",
    "- **INFLEmin–max–step**: se **fija** el punto de inflexión en `540`: `540–540` (el `step` se ignora).\n",
    "\n",
    "### Resultado esperado\n",
    "- Espesor recuperado cercano a **97 nm**.\n",
    "- Se actualizan $ n(\\lambda) $ y $ k(\\lambda) $ usando las constantes previas como guía, refinando el ajuste.\n",
    "\n"
   ]
  },
  {
   "cell_type": "markdown",
   "id": "eea54441",
   "metadata": {},
   "source": [
    "# Tercera Corrida en PuMA (Third Call)\n",
    "\n",
    "En la **third call**, el objetivo ya no es explorar un rango amplio como al inicio, sino **refinar al máximo** los parámetros óptimos obtenidos en las corridas previas.\n",
    "\n",
    "\n",
    "\n"
   ]
  },
  {
   "cell_type": "markdown",
   "id": "b1002b0a",
   "metadata": {},
   "source": [
    "```bash\n",
    ".\\puma.exe sigl0097t 4 2 10 T 100 0540 1530 50000 1.773782e-04 9 0097 0097 01 0540 0540 100"
   ]
  },
  {
   "cell_type": "markdown",
   "id": "b54a5b93",
   "metadata": {},
   "source": [
    "---\n",
    "## Cambios clave respecto a la segunda corrida\n",
    "\n",
    "1. **Fijar el grosor (Thickness)**\n",
    "   - Se usa el valor más confiable encontrado antes: **97 nm**.\n",
    "   - Ya no se buscan variaciones de espesor; toda la optimización se enfoca en $ n(\\lambda) $ y $ k(\\lambda) $.\n",
    "\n",
    "2. **Usar el menor error cuadrático anterior**\n",
    "   - Valor anterior: **1.773782e-04**.\n",
    "   - Ahora, solo se aceptan soluciones con **error menor** a este valor.\n",
    "   - Esto filtra las soluciones, exigiendo que las curvas calculadas sean casi idénticas a los datos experimentales.\n",
    "\n",
    "3. **Aumentar el número de iteraciones**\n",
    "   - De **5000** a **50000** para hacer un barrido más fino del espacio de parámetros.\n",
    "   - Reduce el ruido numérico y mejora la precisión.\n",
    "\n",
    "4. **Mantener el punto de inflexión fijo**\n",
    "   - El inflection point sigue en **540 nm**, considerado confiable desde corridas previas.\n",
    "\n",
    "---\n",
    "\n",
    "## Resultado final\n",
    "\n",
    "- El archivo de salida `sigl0097t-inf.txt` contendrá los valores finales de:\n",
    "  - $ n(\\lambda) $: índice de refracción\n",
    "  - $ k(\\lambda) $: coeficiente de extinción\n",
    "- Estos valores corresponden a la **solución definitiva** para graficar y analizar.\n"
   ]
  },
  {
   "cell_type": "markdown",
   "id": "f8e08609",
   "metadata": {},
   "source": [
    "## Probando con datos del ITO"
   ]
  },
  {
   "cell_type": "code",
   "execution_count": null,
   "id": "bca8350f",
   "metadata": {},
   "outputs": [
    {
     "name": "stdout",
     "output_type": "stream",
     "text": [
      "Archivo listo para PUMA: ITO_data_curated-dat.txt\n"
     ]
    }
   ],
   "source": [
    "#Script para cambiar un archivo .dat al formato que se necesita para PuMA\n",
    "import numpy as np\n",
    "\n",
    "# Nombre del archivo original y del nuevo archivo\n",
    "input_file = \"ITO_data_curated.dat\"  # cambia esto al nombre de tu archivo\n",
    "output_file = \"ITO_data_curated-dat.txt\"\n",
    "\n",
    "# Lee los datos\n",
    "data = np.loadtxt(input_file)\n",
    "\n",
    "# Reemplaza los valores negativos por un valor muy pequeño positivo\n",
    "data[:, 1] = np.where(data[:, 1] < 0, 1e-10, data[:, 1])\n",
    "\n",
    "# Agregar la primera fila con el número de observaciones\n",
    "n_obs = data.shape[0]\n",
    "with open(output_file, \"w\") as f:\n",
    "    f.write(f\"{n_obs}\\n\")\n",
    "    np.savetxt(f, data, fmt=\"%.3e %.3e\") # Guardar los datos en notación científica\n",
    "    \n",
    "print(f\"Archivo listo para PUMA: {output_file}\")\n",
    "\n"
   ]
  },
  {
   "cell_type": "markdown",
   "id": "1704641e",
   "metadata": {},
   "source": [
    "```bash\n",
    ".\\puma.exe ITO_data_curated 4 2 70 T 100 0250 1500 3000 1e+100 0 0160 0210 5 0250 1500 50 1.6 2.4 0.1 1.5 2.2 0.1 0.00 0.40 0.05 > ITO_firstcall.txt\n"
   ]
  },
  {
   "cell_type": "markdown",
   "id": "96ec0c8c",
   "metadata": {},
   "source": [
    "\n",
    "## Parámetros First Call\n",
    "\n",
    "| Parámetro | Valor | Significado |\n",
    "|-----------|-------|------------|\n",
    "| `FNAME` | ITO_data_curated | Archivo de entrada que contiene los datos del film. |\n",
    "| `NLAYERS` | 4 | Número total de capas: aire inicial + film + sustrato + aire final. |\n",
    "| `SLAYER` | 2 | Número de la capa de interés: 0 → aire inicial, 1 → film, 2 → sustrato, 3 → aire final. |\n",
    "| `SUBSTRATE` | 10 | Código del sustrato (ej. 10 → algún tipo de vidrio generico). |\n",
    "| `DATATYPE` | T | Tipo de medida: `T` para transmitancia, `R` para reflectancia o `B` para ambos. |\n",
    "| `NOBS` | 100 | Número de observaciones o puntos de longitud de onda. |\n",
    "| `LAMBDAmin` | 250 | Longitud de onda mínima (nm) considerada para ajuste. |\n",
    "| `LAMBDAmax` | 1500 | Longitud de onda máxima (nm) considerada para ajuste. |\n",
    "| `MAXIT` | 3000 | Número máximo de iteraciones para el ajuste. |\n",
    "| `QUAD` | 1e+100 | Cota máxima del error cuadrático (muy alta para no limitar). |\n",
    "| `INIT` | 0 | Se realiza estimación inicial. |\n",
    "| `THICKNESSmin` | 160 | Espesor mínimo de la capa (nm) para el ajuste. |\n",
    "| `THICKNESSmax` | 210 | Espesor máximo de la capa (nm) para el ajuste. |\n",
    "| `THICKNESSstep` | 5 | Paso de espesor para el barrido de ajuste. |\n",
    "| `INFLEmin` | 250 | Longitud de onda mínima para buscar punto de inflexión. |\n",
    "| `INFLEmax` | 1500 | Longitud de onda máxima para punto de inflexión. |\n",
    "| `INFLEstep` | 50 | Paso en la búsqueda del punto de inflexión. |\n",
    "| `N0ini` | 1.6 | Valor mínimo de índice de refracción de la capa inicial. |\n",
    "| `N0fin` | 2.4 | Valor máximo de índice de refracción de la capa inicial. |\n",
    "| `N0step` | 0.1 | Paso de n para barrido de ajuste. |\n",
    "| `NFini` | 1.5 | Valor mínimo de índice de refracción de la capa final. |\n",
    "| `NFfin` | 2.2 | Valor máximo de índice de refracción de la capa final. |\n",
    "| `NFstep` | 0.1 | Paso de n de la capa final. |\n",
    "| `K0ini` | 0.00 | Valor mínimo de coeficiente de absorción de la capa inicial. |\n",
    "| `K0fin` | 0.40 | Valor máximo de coeficiente de absorción de la capa inicial. |\n",
    "| `K0step` | 0.05 | Paso de κ para barrido de ajuste. |\n",
    "\n"
   ]
  },
  {
   "cell_type": "markdown",
   "id": "442da6ea",
   "metadata": {},
   "source": [
    "Del first call, revisamos el -inf.txt y de ahí obtenemos el espesor estimado, punto de inflexión, y error cuadratico y mandamos a hacer el second call.\n",
    "Inicialmente salió Espesor estimado = 160 nm, Punto de inflexión = 400 nm y Error cuadrático = 1.020569e+00\n",
    "```bash\n",
    ".\\puma.exe ITO_data_curated 4 2 10 T 100 0250 1500 5000 1.010694e+00 9 0150 0170 1 0250 0250 100 > ITO_secondcall.txt\n",
    "\n"
   ]
  },
  {
   "cell_type": "markdown",
   "id": "b2781097",
   "metadata": {},
   "source": [
    "\n",
    "## Parámetros Second Call:\n",
    "\n",
    "| Parámetro | Valor | Explicación |\n",
    "|-----------|-------|-------------|\n",
    "| `FNAME` | ITO_data_curated | Nombre del archivo de datos que contiene la transmitancia medida. |\n",
    "| `NLAYERS` | 4 | Número de capas (aire inicial + film + sustrato + aire final). |\n",
    "| `SLAYER` | 2 | Índice de la capa a ajustar (la película es layer 1, sustrato layer 2). |\n",
    "| `SUBSTRATE` | 10 | Identificador del sustrato usado (por ejemplo vidrio). |\n",
    "| `DATATYPE` | T | Tipo de dato a ajustar: Transmittancia. |\n",
    "| `NOBS` | 100 | Número de puntos de observación usados en el ajuste. |\n",
    "| `LAMBDAmin` | 250 | Longitud de onda mínima en nm considerada para el ajuste. |\n",
    "| `LAMBDAmax` | 1500 | Longitud de onda máxima en nm considerada para el ajuste. |\n",
    "| `MAXIT` | 5000 | Número máximo de iteraciones del algoritmo de ajuste. |\n",
    "| `QUAD` | 1.008456e+00 | Error cuadrático obtenido en el first call, usado como referencia. |\n",
    "| `INIT` | 9 | Indica que es un segundo call refinando los parámetros. |\n",
    "| `THICKNESSmin` | 150 | Espesor mínimo de la película (nm) en este barrido. |\n",
    "| `THICKNESSmax` | 170 | Espesor máximo de la película (nm). |\n",
    "| `THICKNESSstep` | 1 | Paso para el barrido de espesor. |\n",
    "| `INFLEmin` | 300 | Punto de inflexión mínimo para α(λ) (nm). |\n",
    "| `INFLEmax` | 300 | Punto de inflexión máximo (igual al mínimo, es fijo). |\n",
    "| `INFLEstep` | 100 | Paso para el barrido de puntos de inflexión (aquí no importa, ya que min=max). |\n"
   ]
  },
  {
   "cell_type": "markdown",
   "id": "d92a5b6a",
   "metadata": {},
   "source": [
    "Ahora para el Third Call, obtuvimos anteriormente que Espesor estimado = 150 nm, Punto de inflexión = 300 nm y Error cuadrático = 9.048453e-01\n",
    "```bash\n",
    ".\\puma.exe ITO_data_curated 4 2 40 T 100 0250 1500 50000 9.198696e-01 9 0149.5 0155.5 0.1 0249.5 0250.5 0.1 > ITO_thirdcall.txt\n"
   ]
  },
  {
   "cell_type": "markdown",
   "id": "59090a49",
   "metadata": {},
   "source": [
    "\n",
    "Parámetros Third Call:\n",
    "\n",
    "| Parámetro | Valor | Explicación |\n",
    "|-----------|-------|-------------|\n",
    "| `FNAME` | ITO_data_curated | Nombre del archivo de datos que contiene la transmitancia medida. |\n",
    "| `NLAYERS` | 4 | Número de capas (aire inicial + película + sustrato + aire final). |\n",
    "| `SLAYER` | 2 | Índice de la capa a ajustar (la película es layer 1, sustrato layer 2). |\n",
    "| `SUBSTRATE` | 10 | Identificador del sustrato usado (ej. vidrio ). |\n",
    "| `DATATYPE` | T | Tipo de dato a ajustar: Transmittancia. |\n",
    "| `NOBS` | 100 | Número de puntos de observación usados en el ajuste. |\n",
    "| `LAMBDAmin` | 250 | Longitud de onda mínima en nm considerada para el ajuste. |\n",
    "| `LAMBDAmax` | 1500 | Longitud de onda máxima en nm considerada para el ajuste. |\n",
    "| `MAXIT` | 50000 | Número máximo de iteraciones del algoritmo de ajuste (muy alto para refinar la solución). |\n",
    "| `QUAD` | 9.048453e-01 | Error cuadrático obtenido del second call, usado como referencia. |\n",
    "| `INIT` | 9 | Indica que es un tercer call refinando los parámetros anteriores. |\n",
    "| `THICKNESSmin` | 150 | Espesor mínimo de la película (nm) en este barrido. |\n",
    "| `THICKNESSmax` | 150 | Espesor máximo de la película (nm), aquí fijado. |\n",
    "| `THICKNESSstep` | 100 | Paso para el barrido de espesor (irrelevante al ser min=max). |\n",
    "| `INFLEmin` | 300 | Punto de inflexión mínimo para α(λ) (nm). |\n",
    "| `INFLEmax` | 300 | Punto de inflexión máximo (fijo). |\n",
    "| `INFLEstep` | 100 | Paso para el barrido de puntos de inflexión (irrelevante al ser min=max). |\n"
   ]
  },
  {
   "cell_type": "markdown",
   "id": "b7c7f5c6",
   "metadata": {},
   "source": []
  },
  {
   "cell_type": "code",
   "execution_count": 1,
   "id": "99627fad",
   "metadata": {},
   "outputs": [
    {
     "data": {
      "image/png": "[encoded data removed]",
      "text/plain": [
       "<Figure size 640x480 with 1 Axes>"
      ]
     },
     "metadata": {},
     "output_type": "display_data"
    },
    {
     "data": {
      "image/png": "[encoded data removed]",
      "text/plain": [
       "<Figure size 640x480 with 1 Axes>"
      ]
     },
     "metadata": {},
     "output_type": "display_data"
    },
    {
     "data": {
      "image/png": "[encoded data removed]",
      "text/plain": [
       "<Figure size 640x480 with 1 Axes>"
      ]
     },
     "metadata": {},
     "output_type": "display_data"
    }
   ],
   "source": [
    "import numpy as np\n",
    "import matplotlib.pyplot as plt\n",
    "\n",
    "filename = \"ITO_data_curated-inf.txt\"\n",
    "\n",
    "# === Buscar posiciones de los bloques por los headers ===\n",
    "with open(filename, \"r\") as f:\n",
    "    lines = f.readlines()\n",
    "\n",
    "# Encontrar dónde empieza cada bloque\n",
    "start_block1 = None\n",
    "start_block2 = None\n",
    "\n",
    "for i, line in enumerate(lines):\n",
    "    if \"lambda\" in line and \"n\" in line and \"kappa\" in line:\n",
    "        start_block1 = i + 1   # datos comienzan en la línea siguiente\n",
    "    if \"lambda\" in line and \"t\" in line and \"n\" not in line:  # evitar confundir con el de arriba\n",
    "        start_block2 = i + 1\n",
    "\n",
    "# === Leer bloque1 (λ, n, κ) ===\n",
    "block1 = []\n",
    "for line in lines[start_block1:]:\n",
    "    parts = line.strip().split()\n",
    "    if len(parts) < 3:  # se terminó la tabla\n",
    "        break\n",
    "    block1.append([float(parts[0]), float(parts[1]), float(parts[2])])\n",
    "\n",
    "block1 = np.array(block1)\n",
    "lambda1 = block1[:, 0]   # nm\n",
    "n = block1[:, 1]\n",
    "kappa = block1[:, 2]\n",
    "\n",
    "# === Leer bloque2 (λ, T) ===\n",
    "block2 = []\n",
    "for line in lines[start_block2:]:\n",
    "    parts = line.strip().split()\n",
    "    if len(parts) < 2:\n",
    "        break\n",
    "    block2.append([float(parts[0]), float(parts[1])])\n",
    "\n",
    "block2 = np.array(block2)\n",
    "lambda2 = block2[:, 0]   # nm\n",
    "T = block2[:, 1]\n",
    "\n",
    "# === Gráfica 1: Transmitancia vs Longitud de onda ===\n",
    "plt.figure()\n",
    "plt.plot(lambda2, T, 'b.-')\n",
    "plt.xlabel(\"Longitud de onda (nm)\")\n",
    "plt.ylabel(\"Transmitancia\")\n",
    "plt.title(\"Transmitancia vs Longitud de onda\")\n",
    "plt.grid(True)\n",
    "plt.show()\n",
    "\n",
    "# === Gráfica 2: Índice de refracción vs Longitud de onda ===\n",
    "plt.figure()\n",
    "plt.plot(lambda1, n, 'r.-')\n",
    "plt.xlabel(\"Longitud de onda (nm)\")\n",
    "plt.ylabel(\"Índice de refracción (n)\")\n",
    "plt.title(\"Índice de refracción vs Longitud de onda\")\n",
    "plt.grid(True)\n",
    "plt.show()\n",
    "\n",
    "# === Gráfica 3: Coeficiente de absorción vs Energía ===\n",
    "E = 1240 / lambda1   # eV\n",
    "alpha = (4 * np.pi * kappa) / (lambda1 * 1e-7)  # cm^-1\n",
    "\n",
    "plt.figure()\n",
    "plt.plot(E, alpha, 'g.-')\n",
    "plt.xlabel(\"Energía del fotón (eV)\")\n",
    "plt.ylabel(\"Coef. de absorción α (cm⁻¹)\")\n",
    "plt.title(\"Coeficiente de absorción vs Energía\")\n",
    "plt.yscale(\"log\")\n",
    "plt.grid(True)\n",
    "plt.show()\n"
   ]
  }
 ],
 "metadata": {
  "kernelspec": {
   "display_name": "base",
   "language": "python",
   "name": "python3"
  },
  "language_info": {
   "codemirror_mode": {
    "name": "ipython",
    "version": 3
   },
   "file_extension": ".py",
   "mimetype": "text/x-python",
   "name": "python",
   "nbconvert_exporter": "python",
   "pygments_lexer": "ipython3",
   "version": "3.12.3"
  }
 },
 "nbformat": 4,
 "nbformat_minor": 5
}
